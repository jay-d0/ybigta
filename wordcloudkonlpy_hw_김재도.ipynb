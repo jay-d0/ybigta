{
 "cells": [
  {
   "cell_type": "markdown",
   "metadata": {
    "id": "vpfVIfTYlgQD"
   },
   "source": [
    "## # To do 부정리뷰 워드클라우드"
   ]
  },
  {
   "cell_type": "markdown",
   "metadata": {
    "id": "A8B6ad2Glwtu"
   },
   "source": [
    "부정리뷰 워드클라우드를 생성해주세요!"
   ]
  },
  {
   "cell_type": "code",
   "execution_count": 1,
   "metadata": {
    "id": "CNZo3SKtxzX_"
   },
   "outputs": [],
   "source": [
    "import pandas as pd\n",
    "import numpy as np\n",
    "import re\n",
    "import warnings\n",
    "warnings.filterwarnings(action='ignore')\n",
    "import nltk\n",
    "# nltk.download('all') # 처음 실행 시 주석을 제거하고 실행해주세요!"
   ]
  },
  {
   "cell_type": "code",
   "execution_count": 2,
   "metadata": {
    "colab": {
     "base_uri": "https://localhost:8080/",
     "height": 206
    },
    "executionInfo": {
     "elapsed": 799,
     "status": "ok",
     "timestamp": 1659347600237,
     "user": {
      "displayName": "박슬빈(이과대학 지구시스템과학)",
      "userId": "17574256723394630016"
     },
     "user_tz": -540
    },
    "id": "eReIcP8OxzYG",
    "outputId": "cdcad3a7-6bf0-4c11-d428-51be4e42b818"
   },
   "outputs": [
    {
     "data": {
      "text/html": [
       "<div>\n",
       "<style scoped>\n",
       "    .dataframe tbody tr th:only-of-type {\n",
       "        vertical-align: middle;\n",
       "    }\n",
       "\n",
       "    .dataframe tbody tr th {\n",
       "        vertical-align: top;\n",
       "    }\n",
       "\n",
       "    .dataframe thead th {\n",
       "        text-align: right;\n",
       "    }\n",
       "</style>\n",
       "<table border=\"1\" class=\"dataframe\">\n",
       "  <thead>\n",
       "    <tr style=\"text-align: right;\">\n",
       "      <th></th>\n",
       "      <th>id</th>\n",
       "      <th>document</th>\n",
       "      <th>label</th>\n",
       "    </tr>\n",
       "  </thead>\n",
       "  <tbody>\n",
       "    <tr>\n",
       "      <th>0</th>\n",
       "      <td>1</td>\n",
       "      <td>영상이나 음악이 이쁘다 해도 미화시킨 불륜일뿐</td>\n",
       "      <td>0</td>\n",
       "    </tr>\n",
       "    <tr>\n",
       "      <th>1</th>\n",
       "      <td>2</td>\n",
       "      <td>히치콕이 이 영화를 봤다면 분명 박수를 쳤을듯...</td>\n",
       "      <td>1</td>\n",
       "    </tr>\n",
       "    <tr>\n",
       "      <th>2</th>\n",
       "      <td>3</td>\n",
       "      <td>괜찮은 음악영화가 또 나왔군요!!! 따뜻한 겨울이 될 것 같아요~</td>\n",
       "      <td>1</td>\n",
       "    </tr>\n",
       "    <tr>\n",
       "      <th>3</th>\n",
       "      <td>4</td>\n",
       "      <td>아무래도 20년도지난작품이라 지금보기는너무유치하다</td>\n",
       "      <td>0</td>\n",
       "    </tr>\n",
       "    <tr>\n",
       "      <th>4</th>\n",
       "      <td>5</td>\n",
       "      <td>지금까지의 영화들이 그랬듯. 이 영화역시 일본에 대한 미화는 여전하다.</td>\n",
       "      <td>0</td>\n",
       "    </tr>\n",
       "  </tbody>\n",
       "</table>\n",
       "</div>"
      ],
      "text/plain": [
       "   id                                 document  label\n",
       "0   1                영상이나 음악이 이쁘다 해도 미화시킨 불륜일뿐      0\n",
       "1   2             히치콕이 이 영화를 봤다면 분명 박수를 쳤을듯...      1\n",
       "2   3     괜찮은 음악영화가 또 나왔군요!!! 따뜻한 겨울이 될 것 같아요~      1\n",
       "3   4              아무래도 20년도지난작품이라 지금보기는너무유치하다      0\n",
       "4   5  지금까지의 영화들이 그랬듯. 이 영화역시 일본에 대한 미화는 여전하다.      0"
      ]
     },
     "execution_count": 2,
     "metadata": {},
     "output_type": "execute_result"
    }
   ],
   "source": [
    "data = pd.read_csv('data/train.csv') # train 데이터 불러오기\n",
    "data.head() # 데이터 확인하기"
   ]
  },
  {
   "cell_type": "code",
   "execution_count": 3,
   "metadata": {
    "colab": {
     "base_uri": "https://localhost:8080/"
    },
    "executionInfo": {
     "elapsed": 309,
     "status": "ok",
     "timestamp": 1659347604349,
     "user": {
      "displayName": "박슬빈(이과대학 지구시스템과학)",
      "userId": "17574256723394630016"
     },
     "user_tz": -540
    },
    "id": "bGlSZrSRxzYI",
    "outputId": "e400cef0-dcbe-4190-e479-79c0631c40f1"
   },
   "outputs": [
    {
     "data": {
      "text/plain": [
       "id          0\n",
       "document    0\n",
       "label       0\n",
       "dtype: int64"
      ]
     },
     "execution_count": 3,
     "metadata": {},
     "output_type": "execute_result"
    }
   ],
   "source": [
    "data.isna().sum() # 결측치 확인"
   ]
  },
  {
   "cell_type": "code",
   "execution_count": 4,
   "metadata": {
    "id": "rQ-PrYtXxzYR"
   },
   "outputs": [],
   "source": [
    "from sklearn.model_selection import train_test_split\n",
    "\n",
    "train, val = train_test_split(data)\n",
    "train.reset_index(inplace=True) # 전처리 과정에서 데이터가 뒤섞이지 않도록 인덱스를 초기화해주었습니다.\n",
    "val.reset_index(inplace=True)"
   ]
  },
  {
   "cell_type": "code",
   "execution_count": 5,
   "metadata": {
    "colab": {
     "base_uri": "https://localhost:8080/",
     "height": 424
    },
    "executionInfo": {
     "elapsed": 291,
     "status": "ok",
     "timestamp": 1659347641472,
     "user": {
      "displayName": "박슬빈(이과대학 지구시스템과학)",
      "userId": "17574256723394630016"
     },
     "user_tz": -540
    },
    "id": "6yoxgB2CxzYT",
    "outputId": "00bdf476-e8fc-4787-9506-cd54f94d279d"
   },
   "outputs": [
    {
     "data": {
      "text/html": [
       "<div>\n",
       "<style scoped>\n",
       "    .dataframe tbody tr th:only-of-type {\n",
       "        vertical-align: middle;\n",
       "    }\n",
       "\n",
       "    .dataframe tbody tr th {\n",
       "        vertical-align: top;\n",
       "    }\n",
       "\n",
       "    .dataframe thead th {\n",
       "        text-align: right;\n",
       "    }\n",
       "</style>\n",
       "<table border=\"1\" class=\"dataframe\">\n",
       "  <thead>\n",
       "    <tr style=\"text-align: right;\">\n",
       "      <th></th>\n",
       "      <th>index</th>\n",
       "      <th>id</th>\n",
       "      <th>document</th>\n",
       "      <th>label</th>\n",
       "    </tr>\n",
       "  </thead>\n",
       "  <tbody>\n",
       "    <tr>\n",
       "      <th>0</th>\n",
       "      <td>348</td>\n",
       "      <td>349</td>\n",
       "      <td>배우가아닌 진짜합창단이해서 감동이에요!코러스 최고</td>\n",
       "      <td>1</td>\n",
       "    </tr>\n",
       "    <tr>\n",
       "      <th>1</th>\n",
       "      <td>667</td>\n",
       "      <td>668</td>\n",
       "      <td>이걸 재밋다고 하는거 보면 어휴..</td>\n",
       "      <td>0</td>\n",
       "    </tr>\n",
       "    <tr>\n",
       "      <th>2</th>\n",
       "      <td>1212</td>\n",
       "      <td>1213</td>\n",
       "      <td>재미는없다!! 1점준것중에 한국영화는 죄다 9~10점준 M창있네</td>\n",
       "      <td>0</td>\n",
       "    </tr>\n",
       "    <tr>\n",
       "      <th>3</th>\n",
       "      <td>2681</td>\n",
       "      <td>2682</td>\n",
       "      <td>한국영화중 가장 매끄럽게 만들어진 영화!</td>\n",
       "      <td>1</td>\n",
       "    </tr>\n",
       "    <tr>\n",
       "      <th>4</th>\n",
       "      <td>4847</td>\n",
       "      <td>4848</td>\n",
       "      <td>마음이 아프기도 하고 따뜻해지기도 하는 엽서 같은 영화</td>\n",
       "      <td>1</td>\n",
       "    </tr>\n",
       "    <tr>\n",
       "      <th>...</th>\n",
       "      <td>...</td>\n",
       "      <td>...</td>\n",
       "      <td>...</td>\n",
       "      <td>...</td>\n",
       "    </tr>\n",
       "    <tr>\n",
       "      <th>3745</th>\n",
       "      <td>3766</td>\n",
       "      <td>3767</td>\n",
       "      <td>독립영화계에 최악의 영화 지루하다 정말 지루하다</td>\n",
       "      <td>0</td>\n",
       "    </tr>\n",
       "    <tr>\n",
       "      <th>3746</th>\n",
       "      <td>4710</td>\n",
       "      <td>4711</td>\n",
       "      <td>쥐어짜내는 억지 감동은 이젠 그만.</td>\n",
       "      <td>0</td>\n",
       "    </tr>\n",
       "    <tr>\n",
       "      <th>3747</th>\n",
       "      <td>628</td>\n",
       "      <td>629</td>\n",
       "      <td>불쌍한 인디.... 에휴... 어쩌다 이래됐누..</td>\n",
       "      <td>0</td>\n",
       "    </tr>\n",
       "    <tr>\n",
       "      <th>3748</th>\n",
       "      <td>2987</td>\n",
       "      <td>2988</td>\n",
       "      <td>매혹이 나니라.. 가혹 일쎄 ...</td>\n",
       "      <td>0</td>\n",
       "    </tr>\n",
       "    <tr>\n",
       "      <th>3749</th>\n",
       "      <td>376</td>\n",
       "      <td>377</td>\n",
       "      <td>지 맞춤법이나 맞추고 이야기하쇼 ㅋㅋ 평점 10점 미개수준 ㅋㅋㅋ</td>\n",
       "      <td>0</td>\n",
       "    </tr>\n",
       "  </tbody>\n",
       "</table>\n",
       "<p>3750 rows × 4 columns</p>\n",
       "</div>"
      ],
      "text/plain": [
       "      index    id                              document  label\n",
       "0       348   349           배우가아닌 진짜합창단이해서 감동이에요!코러스 최고      1\n",
       "1       667   668                   이걸 재밋다고 하는거 보면 어휴..      0\n",
       "2      1212  1213   재미는없다!! 1점준것중에 한국영화는 죄다 9~10점준 M창있네      0\n",
       "3      2681  2682                한국영화중 가장 매끄럽게 만들어진 영화!      1\n",
       "4      4847  4848        마음이 아프기도 하고 따뜻해지기도 하는 엽서 같은 영화      1\n",
       "...     ...   ...                                   ...    ...\n",
       "3745   3766  3767            독립영화계에 최악의 영화 지루하다 정말 지루하다      0\n",
       "3746   4710  4711                   쥐어짜내는 억지 감동은 이젠 그만.      0\n",
       "3747    628   629           불쌍한 인디.... 에휴... 어쩌다 이래됐누..      0\n",
       "3748   2987  2988                   매혹이 나니라.. 가혹 일쎄 ...      0\n",
       "3749    376   377  지 맞춤법이나 맞추고 이야기하쇼 ㅋㅋ 평점 10점 미개수준 ㅋㅋㅋ      0\n",
       "\n",
       "[3750 rows x 4 columns]"
      ]
     },
     "execution_count": 5,
     "metadata": {},
     "output_type": "execute_result"
    }
   ],
   "source": [
    "train # train 셋 확인"
   ]
  },
  {
   "cell_type": "code",
   "execution_count": 6,
   "metadata": {
    "colab": {
     "base_uri": "https://localhost:8080/",
     "height": 302
    },
    "executionInfo": {
     "elapsed": 305,
     "status": "ok",
     "timestamp": 1659347648393,
     "user": {
      "displayName": "박슬빈(이과대학 지구시스템과학)",
      "userId": "17574256723394630016"
     },
     "user_tz": -540
    },
    "id": "GugwWi7bxzYV",
    "outputId": "fd7e2cdf-f07c-466c-de71-e4dd73d5b6fc"
   },
   "outputs": [
    {
     "data": {
      "text/html": [
       "<div>\n",
       "<style scoped>\n",
       "    .dataframe tbody tr th:only-of-type {\n",
       "        vertical-align: middle;\n",
       "    }\n",
       "\n",
       "    .dataframe tbody tr th {\n",
       "        vertical-align: top;\n",
       "    }\n",
       "\n",
       "    .dataframe thead th {\n",
       "        text-align: right;\n",
       "    }\n",
       "</style>\n",
       "<table border=\"1\" class=\"dataframe\">\n",
       "  <thead>\n",
       "    <tr style=\"text-align: right;\">\n",
       "      <th></th>\n",
       "      <th>index</th>\n",
       "      <th>id</th>\n",
       "      <th>document</th>\n",
       "      <th>label</th>\n",
       "      <th>preprocessed</th>\n",
       "    </tr>\n",
       "  </thead>\n",
       "  <tbody>\n",
       "    <tr>\n",
       "      <th>0</th>\n",
       "      <td>348</td>\n",
       "      <td>349</td>\n",
       "      <td>배우가아닌 진짜합창단이해서 감동이에요!코러스 최고</td>\n",
       "      <td>1</td>\n",
       "      <td>배우가아닌 진짜합창단이해서 감동이에요코러스 최고</td>\n",
       "    </tr>\n",
       "    <tr>\n",
       "      <th>1</th>\n",
       "      <td>667</td>\n",
       "      <td>668</td>\n",
       "      <td>이걸 재밋다고 하는거 보면 어휴..</td>\n",
       "      <td>0</td>\n",
       "      <td>이걸 재밋다고 하는거 보면 어휴</td>\n",
       "    </tr>\n",
       "    <tr>\n",
       "      <th>2</th>\n",
       "      <td>1212</td>\n",
       "      <td>1213</td>\n",
       "      <td>재미는없다!! 1점준것중에 한국영화는 죄다 9~10점준 M창있네</td>\n",
       "      <td>0</td>\n",
       "      <td>재미는없다 점준것중에 한국영화는 죄다 점준 창있네</td>\n",
       "    </tr>\n",
       "    <tr>\n",
       "      <th>3</th>\n",
       "      <td>2681</td>\n",
       "      <td>2682</td>\n",
       "      <td>한국영화중 가장 매끄럽게 만들어진 영화!</td>\n",
       "      <td>1</td>\n",
       "      <td>한국영화중 가장 매끄럽게 만들어진 영화</td>\n",
       "    </tr>\n",
       "    <tr>\n",
       "      <th>4</th>\n",
       "      <td>4847</td>\n",
       "      <td>4848</td>\n",
       "      <td>마음이 아프기도 하고 따뜻해지기도 하는 엽서 같은 영화</td>\n",
       "      <td>1</td>\n",
       "      <td>마음이 아프기도 하고 따뜻해지기도 하는 엽서 같은 영화</td>\n",
       "    </tr>\n",
       "  </tbody>\n",
       "</table>\n",
       "</div>"
      ],
      "text/plain": [
       "   index    id                             document  label  \\\n",
       "0    348   349          배우가아닌 진짜합창단이해서 감동이에요!코러스 최고      1   \n",
       "1    667   668                  이걸 재밋다고 하는거 보면 어휴..      0   \n",
       "2   1212  1213  재미는없다!! 1점준것중에 한국영화는 죄다 9~10점준 M창있네      0   \n",
       "3   2681  2682               한국영화중 가장 매끄럽게 만들어진 영화!      1   \n",
       "4   4847  4848       마음이 아프기도 하고 따뜻해지기도 하는 엽서 같은 영화      1   \n",
       "\n",
       "                     preprocessed  \n",
       "0      배우가아닌 진짜합창단이해서 감동이에요코러스 최고  \n",
       "1               이걸 재밋다고 하는거 보면 어휴  \n",
       "2     재미는없다 점준것중에 한국영화는 죄다 점준 창있네  \n",
       "3           한국영화중 가장 매끄럽게 만들어진 영화  \n",
       "4  마음이 아프기도 하고 따뜻해지기도 하는 엽서 같은 영화  "
      ]
     },
     "execution_count": 6,
     "metadata": {},
     "output_type": "execute_result"
    }
   ],
   "source": [
    "train['preprocessed'] = train['document'].str.replace(\"[^ㄱ-ㅎㅏ-ㅣ가-힣 ]\",\"\") # 한글과 공백을 제외하고 모두 제거\n",
    "train[:5] # 데이터 확인"
   ]
  },
  {
   "cell_type": "code",
   "execution_count": 7,
   "metadata": {
    "colab": {
     "base_uri": "https://localhost:8080/",
     "height": 302
    },
    "executionInfo": {
     "elapsed": 416,
     "status": "ok",
     "timestamp": 1659347656027,
     "user": {
      "displayName": "박슬빈(이과대학 지구시스템과학)",
      "userId": "17574256723394630016"
     },
     "user_tz": -540
    },
    "id": "8dSULak6xzYY",
    "outputId": "22b8236c-8783-4c81-8735-a06324eeef4b"
   },
   "outputs": [
    {
     "data": {
      "text/html": [
       "<div>\n",
       "<style scoped>\n",
       "    .dataframe tbody tr th:only-of-type {\n",
       "        vertical-align: middle;\n",
       "    }\n",
       "\n",
       "    .dataframe tbody tr th {\n",
       "        vertical-align: top;\n",
       "    }\n",
       "\n",
       "    .dataframe thead th {\n",
       "        text-align: right;\n",
       "    }\n",
       "</style>\n",
       "<table border=\"1\" class=\"dataframe\">\n",
       "  <thead>\n",
       "    <tr style=\"text-align: right;\">\n",
       "      <th></th>\n",
       "      <th>index</th>\n",
       "      <th>id</th>\n",
       "      <th>document</th>\n",
       "      <th>label</th>\n",
       "      <th>preprocessed</th>\n",
       "    </tr>\n",
       "  </thead>\n",
       "  <tbody>\n",
       "    <tr>\n",
       "      <th>0</th>\n",
       "      <td>348</td>\n",
       "      <td>349</td>\n",
       "      <td>배우가아닌 진짜합창단이해서 감동이에요!코러스 최고</td>\n",
       "      <td>1</td>\n",
       "      <td>배우가아닌 진짜합창단이해서 감동이에요코러스 최고</td>\n",
       "    </tr>\n",
       "    <tr>\n",
       "      <th>1</th>\n",
       "      <td>667</td>\n",
       "      <td>668</td>\n",
       "      <td>이걸 재밋다고 하는거 보면 어휴..</td>\n",
       "      <td>0</td>\n",
       "      <td>이걸 재밋다고 하는거 보면 어휴</td>\n",
       "    </tr>\n",
       "    <tr>\n",
       "      <th>2</th>\n",
       "      <td>1212</td>\n",
       "      <td>1213</td>\n",
       "      <td>재미는없다!! 1점준것중에 한국영화는 죄다 9~10점준 M창있네</td>\n",
       "      <td>0</td>\n",
       "      <td>재미는없다 점준것중에 한국영화는 죄다 점준 창있네</td>\n",
       "    </tr>\n",
       "    <tr>\n",
       "      <th>3</th>\n",
       "      <td>2681</td>\n",
       "      <td>2682</td>\n",
       "      <td>한국영화중 가장 매끄럽게 만들어진 영화!</td>\n",
       "      <td>1</td>\n",
       "      <td>한국영화중 가장 매끄럽게 만들어진 영화</td>\n",
       "    </tr>\n",
       "    <tr>\n",
       "      <th>4</th>\n",
       "      <td>4847</td>\n",
       "      <td>4848</td>\n",
       "      <td>마음이 아프기도 하고 따뜻해지기도 하는 엽서 같은 영화</td>\n",
       "      <td>1</td>\n",
       "      <td>마음이 아프기도 하고 따뜻해지기도 하는 엽서 같은 영화</td>\n",
       "    </tr>\n",
       "  </tbody>\n",
       "</table>\n",
       "</div>"
      ],
      "text/plain": [
       "   index    id                             document  label  \\\n",
       "0    348   349          배우가아닌 진짜합창단이해서 감동이에요!코러스 최고      1   \n",
       "1    667   668                  이걸 재밋다고 하는거 보면 어휴..      0   \n",
       "2   1212  1213  재미는없다!! 1점준것중에 한국영화는 죄다 9~10점준 M창있네      0   \n",
       "3   2681  2682               한국영화중 가장 매끄럽게 만들어진 영화!      1   \n",
       "4   4847  4848       마음이 아프기도 하고 따뜻해지기도 하는 엽서 같은 영화      1   \n",
       "\n",
       "                     preprocessed  \n",
       "0      배우가아닌 진짜합창단이해서 감동이에요코러스 최고  \n",
       "1               이걸 재밋다고 하는거 보면 어휴  \n",
       "2     재미는없다 점준것중에 한국영화는 죄다 점준 창있네  \n",
       "3           한국영화중 가장 매끄럽게 만들어진 영화  \n",
       "4  마음이 아프기도 하고 따뜻해지기도 하는 엽서 같은 영화  "
      ]
     },
     "execution_count": 7,
     "metadata": {},
     "output_type": "execute_result"
    }
   ],
   "source": [
    "train['preprocessed'] = train['preprocessed'].str.replace(\"[\\s]+\", \" \") # 다중 공백 제거\n",
    "train[:5] # 데이터 확인"
   ]
  },
  {
   "cell_type": "code",
   "execution_count": 8,
   "metadata": {
    "id": "ppx0qFvibpBu",
    "scrolled": true
   },
   "outputs": [],
   "source": [
    "from konlpy.tag import Okt\n",
    "okt = Okt()"
   ]
  },
  {
   "cell_type": "code",
   "execution_count": 9,
   "metadata": {
    "scrolled": true
   },
   "outputs": [
    {
     "data": {
      "text/html": [
       "<div>\n",
       "<style scoped>\n",
       "    .dataframe tbody tr th:only-of-type {\n",
       "        vertical-align: middle;\n",
       "    }\n",
       "\n",
       "    .dataframe tbody tr th {\n",
       "        vertical-align: top;\n",
       "    }\n",
       "\n",
       "    .dataframe thead th {\n",
       "        text-align: right;\n",
       "    }\n",
       "</style>\n",
       "<table border=\"1\" class=\"dataframe\">\n",
       "  <thead>\n",
       "    <tr style=\"text-align: right;\">\n",
       "      <th></th>\n",
       "      <th>index</th>\n",
       "      <th>id</th>\n",
       "      <th>document</th>\n",
       "      <th>label</th>\n",
       "      <th>preprocessed</th>\n",
       "      <th>tokenized_stem</th>\n",
       "    </tr>\n",
       "  </thead>\n",
       "  <tbody>\n",
       "    <tr>\n",
       "      <th>0</th>\n",
       "      <td>348</td>\n",
       "      <td>349</td>\n",
       "      <td>배우가아닌 진짜합창단이해서 감동이에요!코러스 최고</td>\n",
       "      <td>1</td>\n",
       "      <td>배우가아닌 진짜합창단이해서 감동이에요코러스 최고</td>\n",
       "      <td>배우 가 아니다 진짜 합창단 이해 서 감동 이에요 코러스 최고</td>\n",
       "    </tr>\n",
       "    <tr>\n",
       "      <th>1</th>\n",
       "      <td>667</td>\n",
       "      <td>668</td>\n",
       "      <td>이걸 재밋다고 하는거 보면 어휴..</td>\n",
       "      <td>0</td>\n",
       "      <td>이걸 재밋다고 하는거 보면 어휴</td>\n",
       "      <td>이 걸 재밋다 고 하다 보다 어휴</td>\n",
       "    </tr>\n",
       "    <tr>\n",
       "      <th>2</th>\n",
       "      <td>1212</td>\n",
       "      <td>1213</td>\n",
       "      <td>재미는없다!! 1점준것중에 한국영화는 죄다 9~10점준 M창있네</td>\n",
       "      <td>0</td>\n",
       "      <td>재미는없다 점준것중에 한국영화는 죄다 점준 창있네</td>\n",
       "      <td>재미 는 없다 점 주다 중 에 한국영 화 는 죄다 점준 창 있다</td>\n",
       "    </tr>\n",
       "    <tr>\n",
       "      <th>3</th>\n",
       "      <td>2681</td>\n",
       "      <td>2682</td>\n",
       "      <td>한국영화중 가장 매끄럽게 만들어진 영화!</td>\n",
       "      <td>1</td>\n",
       "      <td>한국영화중 가장 매끄럽게 만들어진 영화</td>\n",
       "      <td>한국영 화중 가장 매끄럽다 만들어지다 영화</td>\n",
       "    </tr>\n",
       "    <tr>\n",
       "      <th>4</th>\n",
       "      <td>4847</td>\n",
       "      <td>4848</td>\n",
       "      <td>마음이 아프기도 하고 따뜻해지기도 하는 엽서 같은 영화</td>\n",
       "      <td>1</td>\n",
       "      <td>마음이 아프기도 하고 따뜻해지기도 하는 엽서 같은 영화</td>\n",
       "      <td>마음 이 아프다 기도 하다 따뜻하다 기도 하다 엽서 같다 영화</td>\n",
       "    </tr>\n",
       "  </tbody>\n",
       "</table>\n",
       "</div>"
      ],
      "text/plain": [
       "   index    id                             document  label  \\\n",
       "0    348   349          배우가아닌 진짜합창단이해서 감동이에요!코러스 최고      1   \n",
       "1    667   668                  이걸 재밋다고 하는거 보면 어휴..      0   \n",
       "2   1212  1213  재미는없다!! 1점준것중에 한국영화는 죄다 9~10점준 M창있네      0   \n",
       "3   2681  2682               한국영화중 가장 매끄럽게 만들어진 영화!      1   \n",
       "4   4847  4848       마음이 아프기도 하고 따뜻해지기도 하는 엽서 같은 영화      1   \n",
       "\n",
       "                     preprocessed                       tokenized_stem  \n",
       "0      배우가아닌 진짜합창단이해서 감동이에요코러스 최고   배우 가 아니다 진짜 합창단 이해 서 감동 이에요 코러스 최고  \n",
       "1               이걸 재밋다고 하는거 보면 어휴                   이 걸 재밋다 고 하다 보다 어휴  \n",
       "2     재미는없다 점준것중에 한국영화는 죄다 점준 창있네  재미 는 없다 점 주다 중 에 한국영 화 는 죄다 점준 창 있다  \n",
       "3           한국영화중 가장 매끄럽게 만들어진 영화              한국영 화중 가장 매끄럽다 만들어지다 영화  \n",
       "4  마음이 아프기도 하고 따뜻해지기도 하는 엽서 같은 영화   마음 이 아프다 기도 하다 따뜻하다 기도 하다 엽서 같다 영화  "
      ]
     },
     "execution_count": 9,
     "metadata": {},
     "output_type": "execute_result"
    }
   ],
   "source": [
    "tokenized = [] # 데이터프레임의 한 컬럼으로 추가할 리스트\n",
    "for sentence in train['preprocessed']: # 전처리된 리뷰들을 하나씩 꺼내옵니다\n",
    "    # To do\n",
    "    tokens = okt.morphs(sentence, stem=True)# 형태소 분석 (어간 추출로 옵션 설정)\n",
    "    tokenize = \" \".join(tokens) # tokens라는 리스트 안의 형태소들을 띄어쓰기로 분리된 하나의 문자열로 join시켜줍니다.\n",
    "    tokenized.append(tokenize) # 형태소 단위로 띄어쓰기된 문자열을 최종 리스트에 추가해줍니다\n",
    "train[\"tokenized_stem\"] = pd.DataFrame(tokenized) # 리스트를 데이터프레임으로 변환해 tokenized_stem라는 컬럼명으로 추가해줍니다.\n",
    "\n",
    "train.head() # 데이터 확인"
   ]
  },
  {
   "cell_type": "code",
   "execution_count": 10,
   "metadata": {
    "id": "Y5NeznawxzYk",
    "outputId": "4ad9dae7-29ae-4605-97da-a34b0d296896"
   },
   "outputs": [
    {
     "data": {
      "text/html": [
       "<div>\n",
       "<style scoped>\n",
       "    .dataframe tbody tr th:only-of-type {\n",
       "        vertical-align: middle;\n",
       "    }\n",
       "\n",
       "    .dataframe tbody tr th {\n",
       "        vertical-align: top;\n",
       "    }\n",
       "\n",
       "    .dataframe thead th {\n",
       "        text-align: right;\n",
       "    }\n",
       "</style>\n",
       "<table border=\"1\" class=\"dataframe\">\n",
       "  <thead>\n",
       "    <tr style=\"text-align: right;\">\n",
       "      <th></th>\n",
       "      <th>index</th>\n",
       "      <th>id</th>\n",
       "      <th>document</th>\n",
       "      <th>label</th>\n",
       "      <th>preprocessed</th>\n",
       "      <th>tokenized_stem</th>\n",
       "      <th>main_pos</th>\n",
       "    </tr>\n",
       "  </thead>\n",
       "  <tbody>\n",
       "    <tr>\n",
       "      <th>0</th>\n",
       "      <td>348</td>\n",
       "      <td>349</td>\n",
       "      <td>배우가아닌 진짜합창단이해서 감동이에요!코러스 최고</td>\n",
       "      <td>1</td>\n",
       "      <td>배우가아닌 진짜합창단이해서 감동이에요코러스 최고</td>\n",
       "      <td>배우 가 아니다 진짜 합창단 이해 서 감동 이에요 코러스 최고</td>\n",
       "      <td>배우 아닌 진짜 합창단 이해 감동 코러스 최고</td>\n",
       "    </tr>\n",
       "    <tr>\n",
       "      <th>1</th>\n",
       "      <td>667</td>\n",
       "      <td>668</td>\n",
       "      <td>이걸 재밋다고 하는거 보면 어휴..</td>\n",
       "      <td>0</td>\n",
       "      <td>이걸 재밋다고 하는거 보면 어휴</td>\n",
       "      <td>이 걸 재밋다 고 하다 보다 어휴</td>\n",
       "      <td>걸 재밋다 하는거 보면</td>\n",
       "    </tr>\n",
       "    <tr>\n",
       "      <th>2</th>\n",
       "      <td>1212</td>\n",
       "      <td>1213</td>\n",
       "      <td>재미는없다!! 1점준것중에 한국영화는 죄다 9~10점준 M창있네</td>\n",
       "      <td>0</td>\n",
       "      <td>재미는없다 점준것중에 한국영화는 죄다 점준 창있네</td>\n",
       "      <td>재미 는 없다 점 주다 중 에 한국영 화 는 죄다 점준 창 있다</td>\n",
       "      <td>재미 없다 점 준것 중 한국영 죄다 점준 창 있네</td>\n",
       "    </tr>\n",
       "    <tr>\n",
       "      <th>3</th>\n",
       "      <td>2681</td>\n",
       "      <td>2682</td>\n",
       "      <td>한국영화중 가장 매끄럽게 만들어진 영화!</td>\n",
       "      <td>1</td>\n",
       "      <td>한국영화중 가장 매끄럽게 만들어진 영화</td>\n",
       "      <td>한국영 화중 가장 매끄럽다 만들어지다 영화</td>\n",
       "      <td>한국영 화중 가장 매끄럽게 만들어진 영화</td>\n",
       "    </tr>\n",
       "    <tr>\n",
       "      <th>4</th>\n",
       "      <td>4847</td>\n",
       "      <td>4848</td>\n",
       "      <td>마음이 아프기도 하고 따뜻해지기도 하는 엽서 같은 영화</td>\n",
       "      <td>1</td>\n",
       "      <td>마음이 아프기도 하고 따뜻해지기도 하는 엽서 같은 영화</td>\n",
       "      <td>마음 이 아프다 기도 하다 따뜻하다 기도 하다 엽서 같다 영화</td>\n",
       "      <td>마음 아프 기도 하고 따뜻해지 기도 하는 엽서 같은 영화</td>\n",
       "    </tr>\n",
       "  </tbody>\n",
       "</table>\n",
       "</div>"
      ],
      "text/plain": [
       "   index    id                             document  label  \\\n",
       "0    348   349          배우가아닌 진짜합창단이해서 감동이에요!코러스 최고      1   \n",
       "1    667   668                  이걸 재밋다고 하는거 보면 어휴..      0   \n",
       "2   1212  1213  재미는없다!! 1점준것중에 한국영화는 죄다 9~10점준 M창있네      0   \n",
       "3   2681  2682               한국영화중 가장 매끄럽게 만들어진 영화!      1   \n",
       "4   4847  4848       마음이 아프기도 하고 따뜻해지기도 하는 엽서 같은 영화      1   \n",
       "\n",
       "                     preprocessed                       tokenized_stem  \\\n",
       "0      배우가아닌 진짜합창단이해서 감동이에요코러스 최고   배우 가 아니다 진짜 합창단 이해 서 감동 이에요 코러스 최고   \n",
       "1               이걸 재밋다고 하는거 보면 어휴                   이 걸 재밋다 고 하다 보다 어휴   \n",
       "2     재미는없다 점준것중에 한국영화는 죄다 점준 창있네  재미 는 없다 점 주다 중 에 한국영 화 는 죄다 점준 창 있다   \n",
       "3           한국영화중 가장 매끄럽게 만들어진 영화              한국영 화중 가장 매끄럽다 만들어지다 영화   \n",
       "4  마음이 아프기도 하고 따뜻해지기도 하는 엽서 같은 영화   마음 이 아프다 기도 하다 따뜻하다 기도 하다 엽서 같다 영화   \n",
       "\n",
       "                          main_pos  \n",
       "0        배우 아닌 진짜 합창단 이해 감동 코러스 최고  \n",
       "1                     걸 재밋다 하는거 보면  \n",
       "2      재미 없다 점 준것 중 한국영 죄다 점준 창 있네  \n",
       "3           한국영 화중 가장 매끄럽게 만들어진 영화  \n",
       "4  마음 아프 기도 하고 따뜻해지 기도 하는 엽서 같은 영화  "
      ]
     },
     "execution_count": 10,
     "metadata": {},
     "output_type": "execute_result"
    }
   ],
   "source": [
    "#### 품사 사용 범위 확인\n",
    "\n",
    "main_pos = [] # 데이터프레임의 새 컬럼이 될 리스트\n",
    "for sentence in train['document']: # 리뷰들을 하나씩 가져옵니다\n",
    "    # To do\n",
    "    pos = okt.pos(sentence)# 품사 태깅으로 형태소 분석을 진행하고 해당 리스트를 pos라는 변수로 받습니다\n",
    "    main_words = [word_pos[0] for word_pos in pos if word_pos[1] in (\"Noun\", \"Adverb\", \"Adjective\", \"Verb\")] # 가져오고자 하는 품사에 해당하면 해당 형태소를 main_words 리스트에 추가합니다.\n",
    "    main_words_str = \" \".join(main_words) # main_words 리스트 안의 형태소들을 띄어쓰기로 분리된 하나의 문자열로 join시켜줍니다.\n",
    "    main_pos.append(main_words_str) # 선택한 형태소들로 이루어진 문자열을 최종 리스트에 추가해줍니다\n",
    "train[\"main_pos\"] = pd.DataFrame(main_pos) # 리스트를 데이터프레임으로 변환해 main_pos라는 컬럼명으로 추가해줍니다.\n",
    "\n",
    "train.head() # 데이터 확인"
   ]
  },
  {
   "cell_type": "code",
   "execution_count": 11,
   "metadata": {
    "id": "FgLiiwwrxzYl"
   },
   "outputs": [],
   "source": [
    "X_train = train.main_pos #training 데이터에서 문서 추출\n",
    "y_train = train.label #training 데이터에서 라벨 추출"
   ]
  },
  {
   "cell_type": "code",
   "execution_count": 12,
   "metadata": {
    "id": "s8i5bjQpxzYm",
    "scrolled": false
   },
   "outputs": [],
   "source": [
    "from sklearn.feature_extraction.text import CountVectorizer\n",
    "# To do\n",
    "vectorizer = CountVectorizer() #countvectorizer 생성\n",
    "# countvectorizer 학습\n",
    "vectorizer.fit(X_train)\n",
    "X_train_vec = vectorizer.transform(X_train) # transform"
   ]
  },
  {
   "cell_type": "code",
   "execution_count": 13,
   "metadata": {
    "id": "zYcjr36dxzYm",
    "outputId": "94b4916b-bdcf-4b5f-8a1c-a41ac276a898"
   },
   "outputs": [
    {
     "data": {
      "text/plain": [
       "LogisticRegression()"
      ]
     },
     "execution_count": 13,
     "metadata": {},
     "output_type": "execute_result"
    }
   ],
   "source": [
    "from sklearn.linear_model import LogisticRegression #모델 불러오기\n",
    "model = LogisticRegression() #객체에 모델 할당\n",
    "model.fit(X_train_vec, y_train) #모델 학습"
   ]
  },
  {
   "cell_type": "markdown",
   "metadata": {
    "id": "F_jE_ICnxzYn"
   },
   "source": [
    "### 검증셋으로 모델 성능 검증"
   ]
  },
  {
   "cell_type": "markdown",
   "metadata": {
    "id": "Ch_s74HHxzYn"
   },
   "source": [
    "먼저 검증 셋 val에 train 셋과 동일한 전처리 과정을 거쳐줍니다."
   ]
  },
  {
   "cell_type": "code",
   "execution_count": 14,
   "metadata": {
    "id": "rlS82zKBxzYn",
    "outputId": "ec558530-6174-46fc-f4e9-3573d3e2636e"
   },
   "outputs": [
    {
     "data": {
      "text/html": [
       "<div>\n",
       "<style scoped>\n",
       "    .dataframe tbody tr th:only-of-type {\n",
       "        vertical-align: middle;\n",
       "    }\n",
       "\n",
       "    .dataframe tbody tr th {\n",
       "        vertical-align: top;\n",
       "    }\n",
       "\n",
       "    .dataframe thead th {\n",
       "        text-align: right;\n",
       "    }\n",
       "</style>\n",
       "<table border=\"1\" class=\"dataframe\">\n",
       "  <thead>\n",
       "    <tr style=\"text-align: right;\">\n",
       "      <th></th>\n",
       "      <th>index</th>\n",
       "      <th>id</th>\n",
       "      <th>document</th>\n",
       "      <th>label</th>\n",
       "      <th>preprocessed</th>\n",
       "      <th>tokenized_stem</th>\n",
       "      <th>main_pos</th>\n",
       "    </tr>\n",
       "  </thead>\n",
       "  <tbody>\n",
       "    <tr>\n",
       "      <th>0</th>\n",
       "      <td>2215</td>\n",
       "      <td>2216</td>\n",
       "      <td>다알바생임? 나 완전 잼없게 봤는데;ㅋㅋ</td>\n",
       "      <td>0</td>\n",
       "      <td>다알바생임 나 완전 잼없게 봤는데ㅋㅋ</td>\n",
       "      <td>다 알바생 임 나 완전 잼 없다 보다 ㅋㅋ</td>\n",
       "      <td>다 알바생 임 나 완전 잼 없게 봤는데</td>\n",
       "    </tr>\n",
       "    <tr>\n",
       "      <th>1</th>\n",
       "      <td>940</td>\n",
       "      <td>941</td>\n",
       "      <td>류시원, 이세창도 재미없다 했을껄~~~</td>\n",
       "      <td>0</td>\n",
       "      <td>류시원 이세창도 재미없다 했을껄</td>\n",
       "      <td>류시원 이세창 도 재미없다 했을껄</td>\n",
       "      <td>류시원 이세창 재미없다 했을껄</td>\n",
       "    </tr>\n",
       "    <tr>\n",
       "      <th>2</th>\n",
       "      <td>4823</td>\n",
       "      <td>4824</td>\n",
       "      <td>슬픈여운이 너무 길어서 슬픈영화.</td>\n",
       "      <td>1</td>\n",
       "      <td>슬픈여운이 너무 길어서 슬픈영화</td>\n",
       "      <td>슬프다 여운 이 너무 기다 슬프다 영화</td>\n",
       "      <td>슬픈 여운 너무 길어서 슬픈 영화</td>\n",
       "    </tr>\n",
       "    <tr>\n",
       "      <th>3</th>\n",
       "      <td>609</td>\n",
       "      <td>610</td>\n",
       "      <td>그저 그런 헐리우드 재난영화에 속하는 영화</td>\n",
       "      <td>0</td>\n",
       "      <td>그저 그런 헐리우드 재난영화에 속하는 영화</td>\n",
       "      <td>그저 그렇다 헐리우드 재난영화 에 속 하다 영화</td>\n",
       "      <td>그저 그런 헐리우드 재난영화 속 하는 영화</td>\n",
       "    </tr>\n",
       "    <tr>\n",
       "      <th>4</th>\n",
       "      <td>1184</td>\n",
       "      <td>1185</td>\n",
       "      <td>지나가다보았는데, 좀비인줄알았음..</td>\n",
       "      <td>0</td>\n",
       "      <td>지나가다보았는데 좀비인줄알았음</td>\n",
       "      <td>지나가다 보다 좀비 인 줄 알다</td>\n",
       "      <td>지나가다 보았는데 좀비 줄 알았음</td>\n",
       "    </tr>\n",
       "  </tbody>\n",
       "</table>\n",
       "</div>"
      ],
      "text/plain": [
       "   index    id                 document  label             preprocessed  \\\n",
       "0   2215  2216   다알바생임? 나 완전 잼없게 봤는데;ㅋㅋ      0     다알바생임 나 완전 잼없게 봤는데ㅋㅋ   \n",
       "1    940   941    류시원, 이세창도 재미없다 했을껄~~~      0        류시원 이세창도 재미없다 했을껄   \n",
       "2   4823  4824       슬픈여운이 너무 길어서 슬픈영화.      1        슬픈여운이 너무 길어서 슬픈영화   \n",
       "3    609   610  그저 그런 헐리우드 재난영화에 속하는 영화      0  그저 그런 헐리우드 재난영화에 속하는 영화   \n",
       "4   1184  1185      지나가다보았는데, 좀비인줄알았음..      0         지나가다보았는데 좀비인줄알았음   \n",
       "\n",
       "               tokenized_stem                 main_pos  \n",
       "0     다 알바생 임 나 완전 잼 없다 보다 ㅋㅋ    다 알바생 임 나 완전 잼 없게 봤는데  \n",
       "1          류시원 이세창 도 재미없다 했을껄         류시원 이세창 재미없다 했을껄  \n",
       "2       슬프다 여운 이 너무 기다 슬프다 영화       슬픈 여운 너무 길어서 슬픈 영화  \n",
       "3  그저 그렇다 헐리우드 재난영화 에 속 하다 영화  그저 그런 헐리우드 재난영화 속 하는 영화  \n",
       "4           지나가다 보다 좀비 인 줄 알다       지나가다 보았는데 좀비 줄 알았음  "
      ]
     },
     "execution_count": 14,
     "metadata": {},
     "output_type": "execute_result"
    }
   ],
   "source": [
    "# preprocessed\n",
    "val['preprocessed'] = val['document'].str.replace(\"[^ㄱ-ㅎㅏ-ㅣ가-힣 ]\",\"\") # 한글과 공백을 제외하고 모두 제거\n",
    "val['preprocessed'] = val['preprocessed'].str.replace(\" +\", \" \") # 다중 공백 제거\n",
    "\n",
    "# tokenized_stem\n",
    "tokenized = []\n",
    "for sentence in val['preprocessed']:\n",
    "    # To do\n",
    "    tokens = okt.morphs(sentence, stem=True) #형태소 분석 어간 추출 옵션\n",
    "    tokenize = \" \".join(tokens)\n",
    "    tokenized.append(tokenize)\n",
    "val[\"tokenized_stem\"] = pd.DataFrame(tokenized)\n",
    "\n",
    "# main_pos\n",
    "main_pos = []\n",
    "for sentence in val['document']:\n",
    "    # To do\n",
    "    pos = okt.pos(sentence) # 품사 태깅 형태소 분석\n",
    "    main_words = [word[0] for word in pos if word[1] in ('Noun', 'Adjective', 'Adverb', 'Verb')]\n",
    "     # 원하는 품사 선택\n",
    "    main_words_str = \" \".join(main_words)\n",
    "    main_pos.append(main_words_str)\n",
    "val[\"main_pos\"] = pd.DataFrame(main_pos)\n",
    "\n",
    "val.head()"
   ]
  },
  {
   "cell_type": "markdown",
   "metadata": {
    "id": "3OkudJa5xzYo"
   },
   "source": [
    "학습한 모델로 예측할 X를 벡터화해줍니다."
   ]
  },
  {
   "cell_type": "code",
   "execution_count": 15,
   "metadata": {
    "id": "Lqwz6CoCxzYo"
   },
   "outputs": [],
   "source": [
    "X_val = val.main_pos #validation 데이터에서 전처리된 문서 추출\n",
    "y_val = val.label #validation 데이터에서 라벨 추출\n",
    "# To do\n",
    "X_val_vec = vectorizer.transform(X_val)# train셋으로 fit한 벡터라이저 이용해 transform"
   ]
  },
  {
   "cell_type": "code",
   "execution_count": 16,
   "metadata": {
    "id": "A08sNchqxzYo",
    "outputId": "6347bae6-2e97-4036-ee84-b470b33b5cca"
   },
   "outputs": [
    {
     "name": "stdout",
     "output_type": "stream",
     "text": [
      "[1 0 1 ... 0 0 1]\n"
     ]
    }
   ],
   "source": [
    "#run model\n",
    "y_pred = model.predict(X_val_vec)\n",
    "print(y_pred)\n",
    "#0:negative 1:positive"
   ]
  },
  {
   "cell_type": "code",
   "execution_count": 17,
   "metadata": {
    "id": "tP-UOGHaxzYp",
    "outputId": "4ba00cae-353a-4f88-c8b1-8d3f3befaf2d"
   },
   "outputs": [
    {
     "name": "stdout",
     "output_type": "stream",
     "text": [
      "accuracy = 0.8184\n"
     ]
    }
   ],
   "source": [
    "from sklearn import metrics\n",
    "print('accuracy =', metrics.accuracy_score(y_val, y_pred)) # 정확도 확인"
   ]
  },
  {
   "cell_type": "markdown",
   "metadata": {
    "id": "RfFDg9ItxzYp"
   },
   "source": [
    "# test.csv 분류하기"
   ]
  },
  {
   "cell_type": "code",
   "execution_count": 18,
   "metadata": {
    "id": "DzUx56YPxzYq",
    "outputId": "30d35e36-9622-4906-cce7-fa8f3965792f"
   },
   "outputs": [
    {
     "data": {
      "text/html": [
       "<div>\n",
       "<style scoped>\n",
       "    .dataframe tbody tr th:only-of-type {\n",
       "        vertical-align: middle;\n",
       "    }\n",
       "\n",
       "    .dataframe tbody tr th {\n",
       "        vertical-align: top;\n",
       "    }\n",
       "\n",
       "    .dataframe thead th {\n",
       "        text-align: right;\n",
       "    }\n",
       "</style>\n",
       "<table border=\"1\" class=\"dataframe\">\n",
       "  <thead>\n",
       "    <tr style=\"text-align: right;\">\n",
       "      <th></th>\n",
       "      <th>id</th>\n",
       "      <th>document</th>\n",
       "    </tr>\n",
       "  </thead>\n",
       "  <tbody>\n",
       "    <tr>\n",
       "      <th>0</th>\n",
       "      <td>1</td>\n",
       "      <td>시간 때우기 좋은 영화 지루함</td>\n",
       "    </tr>\n",
       "    <tr>\n",
       "      <th>1</th>\n",
       "      <td>2</td>\n",
       "      <td>훈훈한 정이 느껴지는 영화! 가족끼리 드라마 보듯이 보면 딱~!</td>\n",
       "    </tr>\n",
       "    <tr>\n",
       "      <th>2</th>\n",
       "      <td>3</td>\n",
       "      <td>Childhood fantasy</td>\n",
       "    </tr>\n",
       "    <tr>\n",
       "      <th>3</th>\n",
       "      <td>4</td>\n",
       "      <td>멋있는 영화입니다. 잊을 수 없는!</td>\n",
       "    </tr>\n",
       "    <tr>\n",
       "      <th>4</th>\n",
       "      <td>5</td>\n",
       "      <td>너무 감동적이네요 펑펑 울었습니다</td>\n",
       "    </tr>\n",
       "    <tr>\n",
       "      <th>...</th>\n",
       "      <td>...</td>\n",
       "      <td>...</td>\n",
       "    </tr>\n",
       "    <tr>\n",
       "      <th>4995</th>\n",
       "      <td>4996</td>\n",
       "      <td>연계도 제대로 안되고 뭔가 부족한느낌이들고 찝찝한영화</td>\n",
       "    </tr>\n",
       "    <tr>\n",
       "      <th>4996</th>\n",
       "      <td>4997</td>\n",
       "      <td>내생에 최악의 영화중 하나 졸려서 미칠뻔....</td>\n",
       "    </tr>\n",
       "    <tr>\n",
       "      <th>4997</th>\n",
       "      <td>4998</td>\n",
       "      <td>지금까지 나온 드라마 중 최고였습니다. 100점 만점!</td>\n",
       "    </tr>\n",
       "    <tr>\n",
       "      <th>4998</th>\n",
       "      <td>4999</td>\n",
       "      <td>영화값으로 엄청난 공연을 보았다 - 이게 웬 횡재 ..</td>\n",
       "    </tr>\n",
       "    <tr>\n",
       "      <th>4999</th>\n",
       "      <td>5000</td>\n",
       "      <td>올해엔 롯데 자이언츠가 꼭 우승했으면...</td>\n",
       "    </tr>\n",
       "  </tbody>\n",
       "</table>\n",
       "<p>5000 rows × 2 columns</p>\n",
       "</div>"
      ],
      "text/plain": [
       "        id                             document\n",
       "0        1                     시간 때우기 좋은 영화 지루함\n",
       "1        2  훈훈한 정이 느껴지는 영화! 가족끼리 드라마 보듯이 보면 딱~!\n",
       "2        3                    Childhood fantasy\n",
       "3        4                  멋있는 영화입니다. 잊을 수 없는!\n",
       "4        5                   너무 감동적이네요 펑펑 울었습니다\n",
       "...    ...                                  ...\n",
       "4995  4996        연계도 제대로 안되고 뭔가 부족한느낌이들고 찝찝한영화\n",
       "4996  4997           내생에 최악의 영화중 하나 졸려서 미칠뻔....\n",
       "4997  4998       지금까지 나온 드라마 중 최고였습니다. 100점 만점!\n",
       "4998  4999       영화값으로 엄청난 공연을 보았다 - 이게 웬 횡재 ..\n",
       "4999  5000              올해엔 롯데 자이언츠가 꼭 우승했으면...\n",
       "\n",
       "[5000 rows x 2 columns]"
      ]
     },
     "execution_count": 18,
     "metadata": {},
     "output_type": "execute_result"
    }
   ],
   "source": [
    "test = pd.read_csv('data/test.csv')\n",
    "test"
   ]
  },
  {
   "cell_type": "markdown",
   "metadata": {
    "id": "98ZogJRVxzYq"
   },
   "source": [
    "동일한 전처리 과정을 거치되, data leakage가 발생하지 않도록 주의합니다."
   ]
  },
  {
   "cell_type": "code",
   "execution_count": 19,
   "metadata": {
    "id": "K1iIpmGPxzYq",
    "outputId": "4f281b85-1410-4548-f85b-fa4bf1cee1d9"
   },
   "outputs": [
    {
     "data": {
      "text/plain": [
       "id          0\n",
       "document    0\n",
       "dtype: int64"
      ]
     },
     "execution_count": 19,
     "metadata": {},
     "output_type": "execute_result"
    }
   ],
   "source": [
    "test.isna().sum()"
   ]
  },
  {
   "cell_type": "code",
   "execution_count": 20,
   "metadata": {
    "id": "6dYZK_XMxzYr",
    "outputId": "2de603cd-e997-42c6-fa8e-7f806dae52b4"
   },
   "outputs": [
    {
     "data": {
      "text/html": [
       "<div>\n",
       "<style scoped>\n",
       "    .dataframe tbody tr th:only-of-type {\n",
       "        vertical-align: middle;\n",
       "    }\n",
       "\n",
       "    .dataframe tbody tr th {\n",
       "        vertical-align: top;\n",
       "    }\n",
       "\n",
       "    .dataframe thead th {\n",
       "        text-align: right;\n",
       "    }\n",
       "</style>\n",
       "<table border=\"1\" class=\"dataframe\">\n",
       "  <thead>\n",
       "    <tr style=\"text-align: right;\">\n",
       "      <th></th>\n",
       "      <th>id</th>\n",
       "      <th>document</th>\n",
       "      <th>preprocessed</th>\n",
       "      <th>tokenized_stem</th>\n",
       "      <th>main_pos</th>\n",
       "    </tr>\n",
       "  </thead>\n",
       "  <tbody>\n",
       "    <tr>\n",
       "      <th>0</th>\n",
       "      <td>1</td>\n",
       "      <td>시간 때우기 좋은 영화 지루함</td>\n",
       "      <td>시간 때우기 좋은 영화 지루함</td>\n",
       "      <td>시간 때우다 좋다 영화 지루함</td>\n",
       "      <td>시간 때우기 좋은 영화 지루함</td>\n",
       "    </tr>\n",
       "    <tr>\n",
       "      <th>1</th>\n",
       "      <td>2</td>\n",
       "      <td>훈훈한 정이 느껴지는 영화! 가족끼리 드라마 보듯이 보면 딱~!</td>\n",
       "      <td>훈훈한 정이 느껴지는 영화 가족끼리 드라마 보듯이 보면 딱</td>\n",
       "      <td>훈훈하다 정이 느껴지다 영화 가족 끼리 드라마 보다 보다 딱</td>\n",
       "      <td>훈훈한 정이 느껴지는 영화 가족 끼리 드라마 보듯이 보면 딱</td>\n",
       "    </tr>\n",
       "    <tr>\n",
       "      <th>2</th>\n",
       "      <td>3</td>\n",
       "      <td>Childhood fantasy</td>\n",
       "      <td></td>\n",
       "      <td></td>\n",
       "      <td></td>\n",
       "    </tr>\n",
       "    <tr>\n",
       "      <th>3</th>\n",
       "      <td>4</td>\n",
       "      <td>멋있는 영화입니다. 잊을 수 없는!</td>\n",
       "      <td>멋있는 영화입니다 잊을 수 없는</td>\n",
       "      <td>멋있다 영화 이다 잊다 수 없다</td>\n",
       "      <td>멋있는 영화 입니다 잊을 수 없는</td>\n",
       "    </tr>\n",
       "    <tr>\n",
       "      <th>4</th>\n",
       "      <td>5</td>\n",
       "      <td>너무 감동적이네요 펑펑 울었습니다</td>\n",
       "      <td>너무 감동적이네요 펑펑 울었습니다</td>\n",
       "      <td>너무 감동 적다 펑펑 울다</td>\n",
       "      <td>너무 감동 적이네요 펑펑 울었습니다</td>\n",
       "    </tr>\n",
       "  </tbody>\n",
       "</table>\n",
       "</div>"
      ],
      "text/plain": [
       "   id                             document                      preprocessed  \\\n",
       "0   1                     시간 때우기 좋은 영화 지루함                  시간 때우기 좋은 영화 지루함   \n",
       "1   2  훈훈한 정이 느껴지는 영화! 가족끼리 드라마 보듯이 보면 딱~!  훈훈한 정이 느껴지는 영화 가족끼리 드라마 보듯이 보면 딱   \n",
       "2   3                    Childhood fantasy                                     \n",
       "3   4                  멋있는 영화입니다. 잊을 수 없는!                 멋있는 영화입니다 잊을 수 없는   \n",
       "4   5                   너무 감동적이네요 펑펑 울었습니다                너무 감동적이네요 펑펑 울었습니다   \n",
       "\n",
       "                      tokenized_stem                           main_pos  \n",
       "0                   시간 때우다 좋다 영화 지루함                   시간 때우기 좋은 영화 지루함  \n",
       "1  훈훈하다 정이 느껴지다 영화 가족 끼리 드라마 보다 보다 딱  훈훈한 정이 느껴지는 영화 가족 끼리 드라마 보듯이 보면 딱  \n",
       "2                                                                        \n",
       "3                  멋있다 영화 이다 잊다 수 없다                 멋있는 영화 입니다 잊을 수 없는  \n",
       "4                     너무 감동 적다 펑펑 울다                너무 감동 적이네요 펑펑 울었습니다  "
      ]
     },
     "execution_count": 20,
     "metadata": {},
     "output_type": "execute_result"
    }
   ],
   "source": [
    "# preprocessed\n",
    "test['preprocessed'] = test['document'].str.replace(\"[^ㄱ-ㅎㅏ-ㅣ가-힣 ]\",\"\") # 한글과 공백을 제외하고 모두 제거\n",
    "test['preprocessed'] = test['preprocessed'].str.replace(\" +\", \" \") # 다중 공백 제거\n",
    "\n",
    "# tokenized_stem\n",
    "tokenized = []\n",
    "for sentence in test['preprocessed']:\n",
    "    # To do\n",
    "    tokens = okt.morphs(sentence, stem=True)#형태소 분석, 어간 추출\n",
    "    tokenize = \" \".join(tokens)\n",
    "    tokenized.append(tokenize)\n",
    "test[\"tokenized_stem\"] = pd.DataFrame(tokenized)\n",
    "\n",
    "# main_pos\n",
    "main_pos = []\n",
    "for sentence in test['document']:\n",
    "  # To do\n",
    "    pos = okt.pos(sentence)#품사 태그\n",
    "    main_words = [word[0] for word in pos if word[1] in ['Noun', 'Adverb', 'Adjective', 'Verb']] # 원하는 품사 추출\n",
    "    main_words_str = \" \".join(main_words)\n",
    "    main_pos.append(main_words_str)\n",
    "test[\"main_pos\"] = pd.DataFrame(main_pos)\n",
    "\n",
    "test.head()"
   ]
  },
  {
   "cell_type": "code",
   "execution_count": 21,
   "metadata": {
    "id": "7OmdlKhhxzYr",
    "outputId": "b499c762-c844-4088-8bef-2b4e4e1fa3e1"
   },
   "outputs": [
    {
     "name": "stdout",
     "output_type": "stream",
     "text": [
      "[0 1 0 ... 1 1 0]\n"
     ]
    }
   ],
   "source": [
    "X_test = test.main_pos\n",
    "# To do\n",
    "X_test_vec = vectorizer.transform(X_test) # train셋으로 fit한 벡터라이저 이용해 transform\n",
    "pred_test = model.predict(X_test_vec)\n",
    "print(pred_test)"
   ]
  },
  {
   "cell_type": "markdown",
   "metadata": {
    "id": "-zhqvogvj4b3"
   },
   "source": [
    "# 워드클라우드"
   ]
  },
  {
   "cell_type": "code",
   "execution_count": 22,
   "metadata": {
    "id": "K8hlO6rWfEOJ"
   },
   "outputs": [],
   "source": [
    "test['pred']=pred_test"
   ]
  },
  {
   "cell_type": "code",
   "execution_count": 23,
   "metadata": {
    "colab": {
     "base_uri": "https://localhost:8080/",
     "height": 693
    },
    "executionInfo": {
     "elapsed": 19,
     "status": "ok",
     "timestamp": 1659711044075,
     "user": {
      "displayName": "박슬빈(이과대학 지구시스템과학)",
      "userId": "17574256723394630016"
     },
     "user_tz": -540
    },
    "id": "SXQ-JDkNfKWF",
    "outputId": "f86f9321-57eb-45db-ca95-762992c114b9"
   },
   "outputs": [
    {
     "data": {
      "text/html": [
       "<div>\n",
       "<style scoped>\n",
       "    .dataframe tbody tr th:only-of-type {\n",
       "        vertical-align: middle;\n",
       "    }\n",
       "\n",
       "    .dataframe tbody tr th {\n",
       "        vertical-align: top;\n",
       "    }\n",
       "\n",
       "    .dataframe thead th {\n",
       "        text-align: right;\n",
       "    }\n",
       "</style>\n",
       "<table border=\"1\" class=\"dataframe\">\n",
       "  <thead>\n",
       "    <tr style=\"text-align: right;\">\n",
       "      <th></th>\n",
       "      <th>id</th>\n",
       "      <th>document</th>\n",
       "      <th>preprocessed</th>\n",
       "      <th>tokenized_stem</th>\n",
       "      <th>main_pos</th>\n",
       "      <th>pred</th>\n",
       "    </tr>\n",
       "  </thead>\n",
       "  <tbody>\n",
       "    <tr>\n",
       "      <th>0</th>\n",
       "      <td>1</td>\n",
       "      <td>시간 때우기 좋은 영화 지루함</td>\n",
       "      <td>시간 때우기 좋은 영화 지루함</td>\n",
       "      <td>시간 때우다 좋다 영화 지루함</td>\n",
       "      <td>시간 때우기 좋은 영화 지루함</td>\n",
       "      <td>0</td>\n",
       "    </tr>\n",
       "    <tr>\n",
       "      <th>1</th>\n",
       "      <td>2</td>\n",
       "      <td>훈훈한 정이 느껴지는 영화! 가족끼리 드라마 보듯이 보면 딱~!</td>\n",
       "      <td>훈훈한 정이 느껴지는 영화 가족끼리 드라마 보듯이 보면 딱</td>\n",
       "      <td>훈훈하다 정이 느껴지다 영화 가족 끼리 드라마 보다 보다 딱</td>\n",
       "      <td>훈훈한 정이 느껴지는 영화 가족 끼리 드라마 보듯이 보면 딱</td>\n",
       "      <td>1</td>\n",
       "    </tr>\n",
       "    <tr>\n",
       "      <th>2</th>\n",
       "      <td>3</td>\n",
       "      <td>Childhood fantasy</td>\n",
       "      <td></td>\n",
       "      <td></td>\n",
       "      <td></td>\n",
       "      <td>0</td>\n",
       "    </tr>\n",
       "    <tr>\n",
       "      <th>3</th>\n",
       "      <td>4</td>\n",
       "      <td>멋있는 영화입니다. 잊을 수 없는!</td>\n",
       "      <td>멋있는 영화입니다 잊을 수 없는</td>\n",
       "      <td>멋있다 영화 이다 잊다 수 없다</td>\n",
       "      <td>멋있는 영화 입니다 잊을 수 없는</td>\n",
       "      <td>1</td>\n",
       "    </tr>\n",
       "    <tr>\n",
       "      <th>4</th>\n",
       "      <td>5</td>\n",
       "      <td>너무 감동적이네요 펑펑 울었습니다</td>\n",
       "      <td>너무 감동적이네요 펑펑 울었습니다</td>\n",
       "      <td>너무 감동 적다 펑펑 울다</td>\n",
       "      <td>너무 감동 적이네요 펑펑 울었습니다</td>\n",
       "      <td>1</td>\n",
       "    </tr>\n",
       "    <tr>\n",
       "      <th>...</th>\n",
       "      <td>...</td>\n",
       "      <td>...</td>\n",
       "      <td>...</td>\n",
       "      <td>...</td>\n",
       "      <td>...</td>\n",
       "      <td>...</td>\n",
       "    </tr>\n",
       "    <tr>\n",
       "      <th>4995</th>\n",
       "      <td>4996</td>\n",
       "      <td>연계도 제대로 안되고 뭔가 부족한느낌이들고 찝찝한영화</td>\n",
       "      <td>연계도 제대로 안되고 뭔가 부족한느낌이들고 찝찝한영화</td>\n",
       "      <td>연 계 도 제대로 안되다 뭔가 부족하다 느낌 이 들다 찝찝하다 영화</td>\n",
       "      <td>계 제대로 안되고 뭔가 부족한 느낌 들고 찝찝한 영화</td>\n",
       "      <td>0</td>\n",
       "    </tr>\n",
       "    <tr>\n",
       "      <th>4996</th>\n",
       "      <td>4997</td>\n",
       "      <td>내생에 최악의 영화중 하나 졸려서 미칠뻔....</td>\n",
       "      <td>내생에 최악의 영화중 하나 졸려서 미칠뻔</td>\n",
       "      <td>내생 에 최악 의 영화 중 하나 졸리다 미치다 뻔</td>\n",
       "      <td>내생 최악 영화 하나 졸려서 미칠 뻔</td>\n",
       "      <td>0</td>\n",
       "    </tr>\n",
       "    <tr>\n",
       "      <th>4997</th>\n",
       "      <td>4998</td>\n",
       "      <td>지금까지 나온 드라마 중 최고였습니다. 100점 만점!</td>\n",
       "      <td>지금까지 나온 드라마 중 최고였습니다 점 만점</td>\n",
       "      <td>지금 까지 나오다 드라마 중 최고 이다 점 만점</td>\n",
       "      <td>지금 나온 드라마 중 최고 였습니다 점 만점</td>\n",
       "      <td>1</td>\n",
       "    </tr>\n",
       "    <tr>\n",
       "      <th>4998</th>\n",
       "      <td>4999</td>\n",
       "      <td>영화값으로 엄청난 공연을 보았다 - 이게 웬 횡재 ..</td>\n",
       "      <td>영화값으로 엄청난 공연을 보았다 이게 웬 횡재</td>\n",
       "      <td>영화 값 으로 엄청나다 공연 을 보다 이 게 웬 횡재</td>\n",
       "      <td>영화 값 엄청난 공연 보았다 이 웬 횡재</td>\n",
       "      <td>1</td>\n",
       "    </tr>\n",
       "    <tr>\n",
       "      <th>4999</th>\n",
       "      <td>5000</td>\n",
       "      <td>올해엔 롯데 자이언츠가 꼭 우승했으면...</td>\n",
       "      <td>올해엔 롯데 자이언츠가 꼭 우승했으면</td>\n",
       "      <td>올해 엔 롯데 자이언츠 가 꼭 우승하다</td>\n",
       "      <td>올해 롯데 자이언츠 꼭 우승했으면</td>\n",
       "      <td>0</td>\n",
       "    </tr>\n",
       "  </tbody>\n",
       "</table>\n",
       "<p>5000 rows × 6 columns</p>\n",
       "</div>"
      ],
      "text/plain": [
       "        id                             document  \\\n",
       "0        1                     시간 때우기 좋은 영화 지루함   \n",
       "1        2  훈훈한 정이 느껴지는 영화! 가족끼리 드라마 보듯이 보면 딱~!   \n",
       "2        3                    Childhood fantasy   \n",
       "3        4                  멋있는 영화입니다. 잊을 수 없는!   \n",
       "4        5                   너무 감동적이네요 펑펑 울었습니다   \n",
       "...    ...                                  ...   \n",
       "4995  4996        연계도 제대로 안되고 뭔가 부족한느낌이들고 찝찝한영화   \n",
       "4996  4997           내생에 최악의 영화중 하나 졸려서 미칠뻔....   \n",
       "4997  4998       지금까지 나온 드라마 중 최고였습니다. 100점 만점!   \n",
       "4998  4999       영화값으로 엄청난 공연을 보았다 - 이게 웬 횡재 ..   \n",
       "4999  5000              올해엔 롯데 자이언츠가 꼭 우승했으면...   \n",
       "\n",
       "                          preprocessed                         tokenized_stem  \\\n",
       "0                     시간 때우기 좋은 영화 지루함                       시간 때우다 좋다 영화 지루함   \n",
       "1     훈훈한 정이 느껴지는 영화 가족끼리 드라마 보듯이 보면 딱      훈훈하다 정이 느껴지다 영화 가족 끼리 드라마 보다 보다 딱   \n",
       "2                                                                               \n",
       "3                    멋있는 영화입니다 잊을 수 없는                      멋있다 영화 이다 잊다 수 없다   \n",
       "4                   너무 감동적이네요 펑펑 울었습니다                         너무 감동 적다 펑펑 울다   \n",
       "...                                ...                                    ...   \n",
       "4995     연계도 제대로 안되고 뭔가 부족한느낌이들고 찝찝한영화  연 계 도 제대로 안되다 뭔가 부족하다 느낌 이 들다 찝찝하다 영화   \n",
       "4996            내생에 최악의 영화중 하나 졸려서 미칠뻔            내생 에 최악 의 영화 중 하나 졸리다 미치다 뻔   \n",
       "4997         지금까지 나온 드라마 중 최고였습니다 점 만점             지금 까지 나오다 드라마 중 최고 이다 점 만점   \n",
       "4998        영화값으로 엄청난 공연을 보았다 이게 웬 횡재           영화 값 으로 엄청나다 공연 을 보다 이 게 웬 횡재   \n",
       "4999              올해엔 롯데 자이언츠가 꼭 우승했으면                  올해 엔 롯데 자이언츠 가 꼭 우승하다   \n",
       "\n",
       "                               main_pos  pred  \n",
       "0                      시간 때우기 좋은 영화 지루함     0  \n",
       "1     훈훈한 정이 느껴지는 영화 가족 끼리 드라마 보듯이 보면 딱     1  \n",
       "2                                           0  \n",
       "3                    멋있는 영화 입니다 잊을 수 없는     1  \n",
       "4                   너무 감동 적이네요 펑펑 울었습니다     1  \n",
       "...                                 ...   ...  \n",
       "4995      계 제대로 안되고 뭔가 부족한 느낌 들고 찝찝한 영화     0  \n",
       "4996               내생 최악 영화 하나 졸려서 미칠 뻔     0  \n",
       "4997           지금 나온 드라마 중 최고 였습니다 점 만점     1  \n",
       "4998             영화 값 엄청난 공연 보았다 이 웬 횡재     1  \n",
       "4999                 올해 롯데 자이언츠 꼭 우승했으면     0  \n",
       "\n",
       "[5000 rows x 6 columns]"
      ]
     },
     "execution_count": 23,
     "metadata": {},
     "output_type": "execute_result"
    }
   ],
   "source": [
    "test"
   ]
  },
  {
   "cell_type": "code",
   "execution_count": 24,
   "metadata": {
    "id": "3Zfud6gkfNQL"
   },
   "outputs": [],
   "source": [
    "df=test.copy()"
   ]
  },
  {
   "cell_type": "code",
   "execution_count": 25,
   "metadata": {
    "id": "1DYLKVfpfh2h"
   },
   "outputs": [],
   "source": [
    "import pandas as pd\n",
    "import re\n",
    "\n",
    "from wordcloud import WordCloud, STOPWORDS\n",
    "\n",
    "from matplotlib import font_manager, rc\n",
    "import matplotlib.pyplot as plt\n",
    "\n",
    "from konlpy.tag import Okt\n",
    "from collections import Counter\n",
    "\n",
    "import matplotlib.font_manager as fm\n",
    "\n",
    "fontpath = 'data/BMHANNA.ttf'\n",
    "font = fm.FontProperties(fname=fontpath, size=9)\n",
    "plt.rc('font', family='BMHANNA')"
   ]
  },
  {
   "cell_type": "code",
   "execution_count": 26,
   "metadata": {
    "id": "cKgbM9W-foVC"
   },
   "outputs": [],
   "source": [
    "pos = df[df['pred']==1] #긍정리뷰\n",
    "neg = df[df['pred']==0] #부정리뷰"
   ]
  },
  {
   "cell_type": "code",
   "execution_count": 27,
   "metadata": {
    "colab": {
     "base_uri": "https://localhost:8080/",
     "height": 648
    },
    "executionInfo": {
     "elapsed": 26,
     "status": "ok",
     "timestamp": 1659711313786,
     "user": {
      "displayName": "박슬빈(이과대학 지구시스템과학)",
      "userId": "17574256723394630016"
     },
     "user_tz": -540
    },
    "id": "XqDws61of_yx",
    "outputId": "856f495a-d428-4a9e-dfc5-e12aaefa3013"
   },
   "outputs": [
    {
     "data": {
      "text/html": [
       "<div>\n",
       "<style scoped>\n",
       "    .dataframe tbody tr th:only-of-type {\n",
       "        vertical-align: middle;\n",
       "    }\n",
       "\n",
       "    .dataframe tbody tr th {\n",
       "        vertical-align: top;\n",
       "    }\n",
       "\n",
       "    .dataframe thead th {\n",
       "        text-align: right;\n",
       "    }\n",
       "</style>\n",
       "<table border=\"1\" class=\"dataframe\">\n",
       "  <thead>\n",
       "    <tr style=\"text-align: right;\">\n",
       "      <th></th>\n",
       "      <th>id</th>\n",
       "      <th>document</th>\n",
       "      <th>preprocessed</th>\n",
       "      <th>tokenized_stem</th>\n",
       "      <th>main_pos</th>\n",
       "      <th>pred</th>\n",
       "    </tr>\n",
       "  </thead>\n",
       "  <tbody>\n",
       "    <tr>\n",
       "      <th>1</th>\n",
       "      <td>2</td>\n",
       "      <td>훈훈한 정이 느껴지는 영화! 가족끼리 드라마 보듯이 보면 딱~!</td>\n",
       "      <td>훈훈한 정이 느껴지는 영화 가족끼리 드라마 보듯이 보면 딱</td>\n",
       "      <td>훈훈하다 정이 느껴지다 영화 가족 끼리 드라마 보다 보다 딱</td>\n",
       "      <td>훈훈한 정이 느껴지는 영화 가족 끼리 드라마 보듯이 보면 딱</td>\n",
       "      <td>1</td>\n",
       "    </tr>\n",
       "    <tr>\n",
       "      <th>3</th>\n",
       "      <td>4</td>\n",
       "      <td>멋있는 영화입니다. 잊을 수 없는!</td>\n",
       "      <td>멋있는 영화입니다 잊을 수 없는</td>\n",
       "      <td>멋있다 영화 이다 잊다 수 없다</td>\n",
       "      <td>멋있는 영화 입니다 잊을 수 없는</td>\n",
       "      <td>1</td>\n",
       "    </tr>\n",
       "    <tr>\n",
       "      <th>4</th>\n",
       "      <td>5</td>\n",
       "      <td>너무 감동적이네요 펑펑 울었습니다</td>\n",
       "      <td>너무 감동적이네요 펑펑 울었습니다</td>\n",
       "      <td>너무 감동 적다 펑펑 울다</td>\n",
       "      <td>너무 감동 적이네요 펑펑 울었습니다</td>\n",
       "      <td>1</td>\n",
       "    </tr>\n",
       "    <tr>\n",
       "      <th>6</th>\n",
       "      <td>7</td>\n",
       "      <td>친구한테 추천받고 본 영화이지만 내가 남들한테 추천하는 영화</td>\n",
       "      <td>친구한테 추천받고 본 영화이지만 내가 남들한테 추천하는 영화</td>\n",
       "      <td>친구 한테 추천 받다 보다 영화 이지만 내 가 남 들 한테 추천 하다 영화</td>\n",
       "      <td>친구 추천 받고 본 영화 내 남 추천 하는 영화</td>\n",
       "      <td>1</td>\n",
       "    </tr>\n",
       "    <tr>\n",
       "      <th>8</th>\n",
       "      <td>9</td>\n",
       "      <td>강배우 엄청난데... 여군버전으로 다시 안 찍나</td>\n",
       "      <td>강배우 엄청난데 여군버전으로 다시 안 찍나</td>\n",
       "      <td>강 배우 엄청나다 여군 버전 으로 다시 안 찍 나</td>\n",
       "      <td>강 배우 엄청난데 여군 버전 다시 안 찍</td>\n",
       "      <td>1</td>\n",
       "    </tr>\n",
       "  </tbody>\n",
       "</table>\n",
       "</div>"
      ],
      "text/plain": [
       "   id                             document                       preprocessed  \\\n",
       "1   2  훈훈한 정이 느껴지는 영화! 가족끼리 드라마 보듯이 보면 딱~!   훈훈한 정이 느껴지는 영화 가족끼리 드라마 보듯이 보면 딱   \n",
       "3   4                  멋있는 영화입니다. 잊을 수 없는!                  멋있는 영화입니다 잊을 수 없는   \n",
       "4   5                   너무 감동적이네요 펑펑 울었습니다                 너무 감동적이네요 펑펑 울었습니다   \n",
       "6   7    친구한테 추천받고 본 영화이지만 내가 남들한테 추천하는 영화  친구한테 추천받고 본 영화이지만 내가 남들한테 추천하는 영화   \n",
       "8   9           강배우 엄청난데... 여군버전으로 다시 안 찍나            강배우 엄청난데 여군버전으로 다시 안 찍나   \n",
       "\n",
       "                              tokenized_stem  \\\n",
       "1          훈훈하다 정이 느껴지다 영화 가족 끼리 드라마 보다 보다 딱   \n",
       "3                          멋있다 영화 이다 잊다 수 없다   \n",
       "4                             너무 감동 적다 펑펑 울다   \n",
       "6  친구 한테 추천 받다 보다 영화 이지만 내 가 남 들 한테 추천 하다 영화   \n",
       "8                강 배우 엄청나다 여군 버전 으로 다시 안 찍 나   \n",
       "\n",
       "                            main_pos  pred  \n",
       "1  훈훈한 정이 느껴지는 영화 가족 끼리 드라마 보듯이 보면 딱     1  \n",
       "3                 멋있는 영화 입니다 잊을 수 없는     1  \n",
       "4                너무 감동 적이네요 펑펑 울었습니다     1  \n",
       "6         친구 추천 받고 본 영화 내 남 추천 하는 영화     1  \n",
       "8             강 배우 엄청난데 여군 버전 다시 안 찍     1  "
      ]
     },
     "metadata": {},
     "output_type": "display_data"
    },
    {
     "data": {
      "text/html": [
       "<div>\n",
       "<style scoped>\n",
       "    .dataframe tbody tr th:only-of-type {\n",
       "        vertical-align: middle;\n",
       "    }\n",
       "\n",
       "    .dataframe tbody tr th {\n",
       "        vertical-align: top;\n",
       "    }\n",
       "\n",
       "    .dataframe thead th {\n",
       "        text-align: right;\n",
       "    }\n",
       "</style>\n",
       "<table border=\"1\" class=\"dataframe\">\n",
       "  <thead>\n",
       "    <tr style=\"text-align: right;\">\n",
       "      <th></th>\n",
       "      <th>id</th>\n",
       "      <th>document</th>\n",
       "      <th>preprocessed</th>\n",
       "      <th>tokenized_stem</th>\n",
       "      <th>main_pos</th>\n",
       "      <th>pred</th>\n",
       "    </tr>\n",
       "  </thead>\n",
       "  <tbody>\n",
       "    <tr>\n",
       "      <th>0</th>\n",
       "      <td>1</td>\n",
       "      <td>시간 때우기 좋은 영화 지루함</td>\n",
       "      <td>시간 때우기 좋은 영화 지루함</td>\n",
       "      <td>시간 때우다 좋다 영화 지루함</td>\n",
       "      <td>시간 때우기 좋은 영화 지루함</td>\n",
       "      <td>0</td>\n",
       "    </tr>\n",
       "    <tr>\n",
       "      <th>2</th>\n",
       "      <td>3</td>\n",
       "      <td>Childhood fantasy</td>\n",
       "      <td></td>\n",
       "      <td></td>\n",
       "      <td></td>\n",
       "      <td>0</td>\n",
       "    </tr>\n",
       "    <tr>\n",
       "      <th>5</th>\n",
       "      <td>6</td>\n",
       "      <td>어이 김구라 자세좀 똑바로 앉어방송마다 왜케 삐딱하게 앉는거지</td>\n",
       "      <td>어이 김구라 자세좀 똑바로 앉어방송마다 왜케 삐딱하게 앉는거지</td>\n",
       "      <td>어이 김구라 자세 좀 똑바로 앉다 방송 마다 왜케 삐 딱하다 앉다</td>\n",
       "      <td>어이 김구라 자세 좀 똑바로 앉어 방송 왜케 삐 딱하게 앉는거지</td>\n",
       "      <td>0</td>\n",
       "    </tr>\n",
       "    <tr>\n",
       "      <th>7</th>\n",
       "      <td>8</td>\n",
       "      <td>머 내용은 그닥... 특별하지않다</td>\n",
       "      <td>머 내용은 그닥 특별하지않다</td>\n",
       "      <td>머 내용 은 그닥 특별하다 않다</td>\n",
       "      <td>머 내용 그닥 특별하지 않다</td>\n",
       "      <td>0</td>\n",
       "    </tr>\n",
       "    <tr>\n",
       "      <th>9</th>\n",
       "      <td>10</td>\n",
       "      <td>이렇게 재밋게본 드라마 추노말거 없엇음 ㅜ짱</td>\n",
       "      <td>이렇게 재밋게본 드라마 추노말거 없엇음 ㅜ짱</td>\n",
       "      <td>이렇게 재밋게본 드라마 추다 없엇음 ㅜ 짱</td>\n",
       "      <td>이렇게 재밋게본 드라마 추노말거 없엇음 짱</td>\n",
       "      <td>0</td>\n",
       "    </tr>\n",
       "  </tbody>\n",
       "</table>\n",
       "</div>"
      ],
      "text/plain": [
       "   id                            document                        preprocessed  \\\n",
       "0   1                    시간 때우기 좋은 영화 지루함                    시간 때우기 좋은 영화 지루함   \n",
       "2   3                   Childhood fantasy                                       \n",
       "5   6  어이 김구라 자세좀 똑바로 앉어방송마다 왜케 삐딱하게 앉는거지  어이 김구라 자세좀 똑바로 앉어방송마다 왜케 삐딱하게 앉는거지   \n",
       "7   8                  머 내용은 그닥... 특별하지않다                     머 내용은 그닥 특별하지않다   \n",
       "9  10            이렇게 재밋게본 드라마 추노말거 없엇음 ㅜ짱            이렇게 재밋게본 드라마 추노말거 없엇음 ㅜ짱   \n",
       "\n",
       "                         tokenized_stem                             main_pos  \\\n",
       "0                      시간 때우다 좋다 영화 지루함                     시간 때우기 좋은 영화 지루함   \n",
       "2                                                                              \n",
       "5  어이 김구라 자세 좀 똑바로 앉다 방송 마다 왜케 삐 딱하다 앉다  어이 김구라 자세 좀 똑바로 앉어 방송 왜케 삐 딱하게 앉는거지   \n",
       "7                     머 내용 은 그닥 특별하다 않다                      머 내용 그닥 특별하지 않다   \n",
       "9               이렇게 재밋게본 드라마 추다 없엇음 ㅜ 짱              이렇게 재밋게본 드라마 추노말거 없엇음 짱   \n",
       "\n",
       "   pred  \n",
       "0     0  \n",
       "2     0  \n",
       "5     0  \n",
       "7     0  \n",
       "9     0  "
      ]
     },
     "metadata": {},
     "output_type": "display_data"
    }
   ],
   "source": [
    "display(pos.head())\n",
    "display(neg.head())"
   ]
  },
  {
   "cell_type": "markdown",
   "metadata": {
    "id": "84p7_YFLlcyJ"
   },
   "source": [
    "## 부정리뷰 워드클라우드"
   ]
  },
  {
   "cell_type": "code",
   "execution_count": 28,
   "metadata": {
    "id": "1D0_Za7PfjXV"
   },
   "outputs": [],
   "source": [
    "okt = Okt()\n",
    "\n",
    "content_list = list(neg['main_pos'])\n",
    "noun_list = []\n",
    "\n",
    "for sentence in content_list:\n",
    "\n",
    "\n",
    "    sentence = re.sub('[a-zA-z0-9]','', sentence)\n",
    "    \n",
    "    for word, tag in okt.pos(sentence):\n",
    "      # 명사만 추출\n",
    "        if tag in ['Noun']:  \n",
    "\n",
    "            if len(word) == 1:\n",
    "                continue\n",
    "\n",
    "            else:\n",
    "                noun_list.append(word)\n",
    "\n",
    "count = Counter(noun_list)\n",
    "negwords = dict(count.most_common(n=50)) "
   ]
  },
  {
   "cell_type": "code",
   "execution_count": 29,
   "metadata": {
    "colab": {
     "base_uri": "https://localhost:8080/"
    },
    "executionInfo": {
     "elapsed": 625,
     "status": "ok",
     "timestamp": 1659712144281,
     "user": {
      "displayName": "박슬빈(이과대학 지구시스템과학)",
      "userId": "17574256723394630016"
     },
     "user_tz": -540
    },
    "id": "wV0jVm0itQW7",
    "outputId": "8ff30a5a-a97d-4445-ad73-301f30aa3881"
   },
   "outputs": [
    {
     "data": {
      "text/plain": [
       "{'영화': 794,\n",
       " '평점': 132,\n",
       " '진짜': 130,\n",
       " '스토리': 120,\n",
       " '시간': 107,\n",
       " '내용': 103,\n",
       " '재미': 103,\n",
       " '감독': 87,\n",
       " '최악': 84,\n",
       " '그냥': 82,\n",
       " '쓰레기': 78,\n",
       " '정말': 77,\n",
       " '배우': 74,\n",
       " '이건': 71,\n",
       " '액션': 66,\n",
       " '별로': 66,\n",
       " '연기': 64,\n",
       " '사람': 56,\n",
       " '정도': 53,\n",
       " '처음': 51,\n",
       " '연출': 47,\n",
       " '보고': 46,\n",
       " '생각': 46,\n",
       " '하나': 43,\n",
       " '수준': 39,\n",
       " '실망': 37,\n",
       " '드라마': 36,\n",
       " '전개': 35,\n",
       " '소재': 34,\n",
       " '코미디': 34,\n",
       " '이해': 34,\n",
       " '느낌': 33,\n",
       " '무슨': 32,\n",
       " '이야기': 32,\n",
       " '결말': 31,\n",
       " '뭔가': 31,\n",
       " '점도': 31,\n",
       " '이영화': 31,\n",
       " '원작': 29,\n",
       " '보지': 28,\n",
       " '주인공': 27,\n",
       " '공포': 27,\n",
       " '전혀': 27,\n",
       " '완전': 26,\n",
       " '개봉': 25,\n",
       " '캐릭터': 25,\n",
       " '스릴러': 25,\n",
       " '졸작': 25,\n",
       " '때문': 24,\n",
       " '보기': 24}"
      ]
     },
     "execution_count": 29,
     "metadata": {},
     "output_type": "execute_result"
    }
   ],
   "source": [
    "negwords"
   ]
  },
  {
   "cell_type": "code",
   "execution_count": 30,
   "metadata": {
    "colab": {
     "base_uri": "https://localhost:8080/"
    },
    "executionInfo": {
     "elapsed": 726,
     "status": "ok",
     "timestamp": 1659712151536,
     "user": {
      "displayName": "박슬빈(이과대학 지구시스템과학)",
      "userId": "17574256723394630016"
     },
     "user_tz": -540
    },
    "id": "P1HzII9VtN5Z",
    "outputId": "d7605dde-e0c2-421b-de91-08187bcb6c4d"
   },
   "outputs": [
    {
     "data": {
      "text/plain": [
       "dict_items([('영화', 794), ('평점', 132), ('진짜', 130), ('스토리', 120), ('시간', 107), ('내용', 103), ('재미', 103), ('감독', 87), ('최악', 84), ('그냥', 82), ('쓰레기', 78), ('정말', 77), ('배우', 74), ('이건', 71), ('액션', 66), ('별로', 66), ('연기', 64), ('사람', 56), ('정도', 53), ('처음', 51), ('연출', 47), ('보고', 46), ('생각', 46), ('하나', 43), ('수준', 39), ('실망', 37), ('드라마', 36), ('전개', 35), ('소재', 34), ('코미디', 34), ('이해', 34), ('느낌', 33), ('무슨', 32), ('이야기', 32), ('결말', 31), ('뭔가', 31), ('점도', 31), ('이영화', 31), ('원작', 29), ('보지', 28), ('주인공', 27), ('공포', 27), ('전혀', 27), ('완전', 26), ('개봉', 25), ('캐릭터', 25), ('스릴러', 25), ('졸작', 25), ('때문', 24), ('보기', 24)])"
      ]
     },
     "execution_count": 30,
     "metadata": {},
     "output_type": "execute_result"
    }
   ],
   "source": [
    "negwords.items()"
   ]
  },
  {
   "cell_type": "code",
   "execution_count": 31,
   "metadata": {
    "colab": {
     "base_uri": "https://localhost:8080/"
    },
    "executionInfo": {
     "elapsed": 405,
     "status": "ok",
     "timestamp": 1659712157472,
     "user": {
      "displayName": "박슬빈(이과대학 지구시스템과학)",
      "userId": "17574256723394630016"
     },
     "user_tz": -540
    },
    "id": "_vwFGWKQgdPK",
    "outputId": "89dbf9c4-a4c4-43ca-e804-0dacbeb3bec5"
   },
   "outputs": [],
   "source": [
    "#특정 단어 지정해서 불용어 제거\n",
    "for w in ['진짜', '영화', '이건', '정도']:\n",
    "    negwords.pop(w)"
   ]
  },
  {
   "cell_type": "code",
   "execution_count": 32,
   "metadata": {
    "colab": {
     "base_uri": "https://localhost:8080/"
    },
    "executionInfo": {
     "elapsed": 10,
     "status": "ok",
     "timestamp": 1659712590522,
     "user": {
      "displayName": "박슬빈(이과대학 지구시스템과학)",
      "userId": "17574256723394630016"
     },
     "user_tz": -540
    },
    "id": "0qkyktl6lP5Q",
    "outputId": "798cc8f9-ae8c-4cbc-bc93-b146a2ba076b"
   },
   "outputs": [
    {
     "name": "stdout",
     "output_type": "stream",
     "text": [
      "{'평점': 132, '스토리': 120, '시간': 107, '내용': 103, '재미': 103, '감독': 87, '최악': 84, '그냥': 82, '쓰레기': 78, '정말': 77, '배우': 74, '액션': 66, '별로': 66, '연기': 64, '사람': 56, '처음': 51, '연출': 47, '보고': 46, '생각': 46, '하나': 43, '수준': 39, '실망': 37, '드라마': 36, '전개': 35, '소재': 34, '코미디': 34, '이해': 34, '느낌': 33, '무슨': 32, '이야기': 32, '결말': 31, '뭔가': 31, '점도': 31, '이영화': 31, '원작': 29, '보지': 28, '주인공': 27, '공포': 27, '전혀': 27, '개봉': 25, '캐릭터': 25, '스릴러': 25, '졸작': 25, '때문': 24, '보기': 24}\n"
     ]
    }
   ],
   "source": [
    "# 불용어 리스트 생성해서 제거\n",
    "stop_words = \"다시 완전 마지막 지금 역시 영화\"\n",
    "stop_words = stop_words.split(' ')\n",
    "\n",
    "\n",
    "# 불용어 제거 실시\n",
    "negword2 = [(i,j)for i,j in negwords.items()  if i not in stop_words]\n",
    "\n",
    "# 결과 출력\n",
    "negword3=dict(negword2)\n",
    "print(negword3)"
   ]
  },
  {
   "cell_type": "code",
   "execution_count": 33,
   "metadata": {
    "id": "61nBuCzsiwRU"
   },
   "outputs": [],
   "source": [
    "from PIL import Image, ImageFilter"
   ]
  },
  {
   "cell_type": "code",
   "execution_count": 34,
   "metadata": {
    "colab": {
     "base_uri": "https://localhost:8080/",
     "height": 284
    },
    "executionInfo": {
     "elapsed": 502,
     "status": "ok",
     "timestamp": 1659712025335,
     "user": {
      "displayName": "박슬빈(이과대학 지구시스템과학)",
      "userId": "17574256723394630016"
     },
     "user_tz": -540
    },
    "id": "uhpEY13Fi5cq",
    "outputId": "2e3dcfb4-2bb6-4397-e0ee-b3c807f03d97"
   },
   "outputs": [
    {
     "data": {
      "image/png": "[encoded data removed]",
      "text/plain": [
       "<PIL.PngImagePlugin.PngImageFile image mode=RGB size=614x636 at 0x19FFBCAEDF0>"
      ]
     },
     "execution_count": 34,
     "metadata": {},
     "output_type": "execute_result"
    }
   ],
   "source": [
    "Image.open(\"data/mask.png\")"
   ]
  },
  {
   "cell_type": "code",
   "execution_count": 35,
   "metadata": {
    "colab": {
     "base_uri": "https://localhost:8080/"
    },
    "executionInfo": {
     "elapsed": 347,
     "status": "ok",
     "timestamp": 1659712035781,
     "user": {
      "displayName": "박슬빈(이과대학 지구시스템과학)",
      "userId": "17574256723394630016"
     },
     "user_tz": -540
    },
    "id": "Abo3heX8i7gm",
    "outputId": "8bd67123-64da-41a6-c72b-7d1cc3cf07d2"
   },
   "outputs": [
    {
     "data": {
      "text/plain": [
       "array([[[255, 255, 255],\n",
       "        [255, 255, 255],\n",
       "        [255, 255, 255],\n",
       "        ...,\n",
       "        [255, 255, 255],\n",
       "        [255, 255, 255],\n",
       "        [255, 255, 255]],\n",
       "\n",
       "       [[255, 255, 255],\n",
       "        [255, 255, 255],\n",
       "        [255, 255, 255],\n",
       "        ...,\n",
       "        [255, 255, 255],\n",
       "        [255, 255, 255],\n",
       "        [255, 255, 255]],\n",
       "\n",
       "       [[255, 255, 255],\n",
       "        [255, 255, 255],\n",
       "        [255, 255, 255],\n",
       "        ...,\n",
       "        [255, 255, 255],\n",
       "        [255, 255, 255],\n",
       "        [255, 255, 255]],\n",
       "\n",
       "       ...,\n",
       "\n",
       "       [[255, 255, 255],\n",
       "        [255, 255, 255],\n",
       "        [255, 255, 255],\n",
       "        ...,\n",
       "        [255, 255, 255],\n",
       "        [255, 255, 255],\n",
       "        [255, 255, 255]],\n",
       "\n",
       "       [[255, 255, 255],\n",
       "        [255, 255, 255],\n",
       "        [255, 255, 255],\n",
       "        ...,\n",
       "        [255, 255, 255],\n",
       "        [255, 255, 255],\n",
       "        [255, 255, 255]],\n",
       "\n",
       "       [[255, 255, 255],\n",
       "        [255, 255, 255],\n",
       "        [255, 255, 255],\n",
       "        ...,\n",
       "        [255, 255, 255],\n",
       "        [255, 255, 255],\n",
       "        [255, 255, 255]]], dtype=uint8)"
      ]
     },
     "execution_count": 35,
     "metadata": {},
     "output_type": "execute_result"
    }
   ],
   "source": [
    "import numpy as np\n",
    "mask_array = np.array(Image.open(\"data/mask.png\"))\n",
    "mask_array"
   ]
  },
  {
   "cell_type": "markdown",
   "metadata": {
    "id": "8yi8_hsHtWYA"
   },
   "source": [
    "옵션정리\n",
    "\n",
    "alicewc = WordCloud(\n",
    "    \n",
    "    background_color = \"white\",# 배경색 설정\n",
    "\n",
    "    collocations = False, # 이때 collocations=True 이면 said King, said Hatter 같이 자주 나타나는 단어는 하나의 어구로 분류됨.\n",
    "\n",
    "    stopwords = stopwords, #불용어 지정\n",
    "\n",
    "    width = 600, height = 400, #이미지 크기 지정\n",
    "\n",
    "    colormap = \"Reds\", # 글씨 색깔 지정\n",
    "\n",
    "    #font_path = 'path입력'\n",
    "\n",
    "    min_font_size = 5, max_font_size = 100 #폰트 지정 작게할수록 더 많은 글씨가 보이고 크게하면 글자가 강조됨. \n",
    "    \n",
    "    )"
   ]
  },
  {
   "cell_type": "code",
   "execution_count": 36,
   "metadata": {
    "colab": {
     "base_uri": "https://localhost:8080/",
     "height": 449
    },
    "executionInfo": {
     "elapsed": 2355,
     "status": "ok",
     "timestamp": 1659712600152,
     "user": {
      "displayName": "박슬빈(이과대학 지구시스템과학)",
      "userId": "17574256723394630016"
     },
     "user_tz": -540
    },
    "id": "CPAr-FJ3tJUl",
    "outputId": "eb6ac84c-b51d-4423-ffe4-acd1c7347538"
   },
   "outputs": [
    {
     "data": {
      "image/png": "[encoded data removed]",
      "text/plain": [
       "<Figure size 1440x1440 with 1 Axes>"
      ]
     },
     "metadata": {
      "needs_background": "light"
     },
     "output_type": "display_data"
    }
   ],
   "source": [
    "mask1 = np.array(Image.open(\"data/mask.png\"))\n",
    "\n",
    "wordcloud = WordCloud(font_path = fontpath,\n",
    "    width = 800,\n",
    "    height = 800,\n",
    "    background_color=\"white\",\n",
    "    mask = mask1,\n",
    "    min_font_size = 3\n",
    ")\n",
    "\n",
    "wordcloud = wordcloud.generate_from_frequencies(negword3)\n",
    "plt.figure(figsize=(20, 20))\n",
    "plt.imshow(wordcloud, interpolation=\"bilinear\")\n",
    "plt.axis(\"off\")\n",
    "plt.show()"
   ]
  }
 ],
 "metadata": {
  "colab": {
   "collapsed_sections": [],
   "name": "wordcloudkonlpy과제.ipynb",
   "provenance": [],
   "toc_visible": true
  },
  "kernelspec": {
   "display_name": "Python 3 (ipykernel)",
   "language": "python",
   "name": "python3"
  },
  "language_info": {
   "codemirror_mode": {
    "name": "ipython",
    "version": 3
   },
   "file_extension": ".py",
   "mimetype": "text/x-python",
   "name": "python",
   "nbconvert_exporter": "python",
   "pygments_lexer": "ipython3",
   "version": "3.8.12"
  }
 },
 "nbformat": 4,
 "nbformat_minor": 1
}
