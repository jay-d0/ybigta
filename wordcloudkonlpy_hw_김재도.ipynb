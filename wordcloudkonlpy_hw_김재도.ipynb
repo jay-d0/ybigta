{
 "cells": [
  {
   "cell_type": "markdown",
   "metadata": {
    "id": "vpfVIfTYlgQD"
   },
   "source": [
    "## # To do 부정리뷰 워드클라우드"
   ]
  },
  {
   "cell_type": "markdown",
   "metadata": {
    "id": "A8B6ad2Glwtu"
   },
   "source": [
    "부정리뷰 워드클라우드를 생성해주세요!"
   ]
  },
  {
   "cell_type": "code",
   "execution_count": 1,
   "metadata": {
    "id": "CNZo3SKtxzX_"
   },
   "outputs": [],
   "source": [
    "import pandas as pd\n",
    "import numpy as np\n",
    "import re\n",
    "import warnings\n",
    "warnings.filterwarnings(action='ignore')\n",
    "import nltk\n",
    "# nltk.download('all') # 처음 실행 시 주석을 제거하고 실행해주세요!"
   ]
  },
  {
   "cell_type": "code",
   "execution_count": 2,
   "metadata": {
    "colab": {
     "base_uri": "https://localhost:8080/",
     "height": 206
    },
    "executionInfo": {
     "elapsed": 799,
     "status": "ok",
     "timestamp": 1659347600237,
     "user": {
      "displayName": "박슬빈(이과대학 지구시스템과학)",
      "userId": "17574256723394630016"
     },
     "user_tz": -540
    },
    "id": "eReIcP8OxzYG",
    "outputId": "cdcad3a7-6bf0-4c11-d428-51be4e42b818"
   },
   "outputs": [
    {
     "data": {
      "text/html": [
       "<div>\n",
       "<style scoped>\n",
       "    .dataframe tbody tr th:only-of-type {\n",
       "        vertical-align: middle;\n",
       "    }\n",
       "\n",
       "    .dataframe tbody tr th {\n",
       "        vertical-align: top;\n",
       "    }\n",
       "\n",
       "    .dataframe thead th {\n",
       "        text-align: right;\n",
       "    }\n",
       "</style>\n",
       "<table border=\"1\" class=\"dataframe\">\n",
       "  <thead>\n",
       "    <tr style=\"text-align: right;\">\n",
       "      <th></th>\n",
       "      <th>id</th>\n",
       "      <th>document</th>\n",
       "      <th>label</th>\n",
       "    </tr>\n",
       "  </thead>\n",
       "  <tbody>\n",
       "    <tr>\n",
       "      <th>0</th>\n",
       "      <td>1</td>\n",
       "      <td>영상이나 음악이 이쁘다 해도 미화시킨 불륜일뿐</td>\n",
       "      <td>0</td>\n",
       "    </tr>\n",
       "    <tr>\n",
       "      <th>1</th>\n",
       "      <td>2</td>\n",
       "      <td>히치콕이 이 영화를 봤다면 분명 박수를 쳤을듯...</td>\n",
       "      <td>1</td>\n",
       "    </tr>\n",
       "    <tr>\n",
       "      <th>2</th>\n",
       "      <td>3</td>\n",
       "      <td>괜찮은 음악영화가 또 나왔군요!!! 따뜻한 겨울이 될 것 같아요~</td>\n",
       "      <td>1</td>\n",
       "    </tr>\n",
       "    <tr>\n",
       "      <th>3</th>\n",
       "      <td>4</td>\n",
       "      <td>아무래도 20년도지난작품이라 지금보기는너무유치하다</td>\n",
       "      <td>0</td>\n",
       "    </tr>\n",
       "    <tr>\n",
       "      <th>4</th>\n",
       "      <td>5</td>\n",
       "      <td>지금까지의 영화들이 그랬듯. 이 영화역시 일본에 대한 미화는 여전하다.</td>\n",
       "      <td>0</td>\n",
       "    </tr>\n",
       "  </tbody>\n",
       "</table>\n",
       "</div>"
      ],
      "text/plain": [
       "   id                                 document  label\n",
       "0   1                영상이나 음악이 이쁘다 해도 미화시킨 불륜일뿐      0\n",
       "1   2             히치콕이 이 영화를 봤다면 분명 박수를 쳤을듯...      1\n",
       "2   3     괜찮은 음악영화가 또 나왔군요!!! 따뜻한 겨울이 될 것 같아요~      1\n",
       "3   4              아무래도 20년도지난작품이라 지금보기는너무유치하다      0\n",
       "4   5  지금까지의 영화들이 그랬듯. 이 영화역시 일본에 대한 미화는 여전하다.      0"
      ]
     },
     "execution_count": 2,
     "metadata": {},
     "output_type": "execute_result"
    }
   ],
   "source": [
    "data = pd.read_csv('data/train.csv') # train 데이터 불러오기\n",
    "data.head() # 데이터 확인하기"
   ]
  },
  {
   "cell_type": "code",
   "execution_count": 3,
   "metadata": {
    "colab": {
     "base_uri": "https://localhost:8080/"
    },
    "executionInfo": {
     "elapsed": 309,
     "status": "ok",
     "timestamp": 1659347604349,
     "user": {
      "displayName": "박슬빈(이과대학 지구시스템과학)",
      "userId": "17574256723394630016"
     },
     "user_tz": -540
    },
    "id": "bGlSZrSRxzYI",
    "outputId": "e400cef0-dcbe-4190-e479-79c0631c40f1"
   },
   "outputs": [
    {
     "data": {
      "text/plain": [
       "id          0\n",
       "document    0\n",
       "label       0\n",
       "dtype: int64"
      ]
     },
     "execution_count": 3,
     "metadata": {},
     "output_type": "execute_result"
    }
   ],
   "source": [
    "data.isna().sum() # 결측치 확인"
   ]
  },
  {
   "cell_type": "code",
   "execution_count": 4,
   "metadata": {
    "id": "rQ-PrYtXxzYR"
   },
   "outputs": [],
   "source": [
    "from sklearn.model_selection import train_test_split\n",
    "\n",
    "train, val = train_test_split(data)\n",
    "train.reset_index(inplace=True) # 전처리 과정에서 데이터가 뒤섞이지 않도록 인덱스를 초기화해주었습니다.\n",
    "val.reset_index(inplace=True)"
   ]
  },
  {
   "cell_type": "code",
   "execution_count": 5,
   "metadata": {
    "colab": {
     "base_uri": "https://localhost:8080/",
     "height": 424
    },
    "executionInfo": {
     "elapsed": 291,
     "status": "ok",
     "timestamp": 1659347641472,
     "user": {
      "displayName": "박슬빈(이과대학 지구시스템과학)",
      "userId": "17574256723394630016"
     },
     "user_tz": -540
    },
    "id": "6yoxgB2CxzYT",
    "outputId": "00bdf476-e8fc-4787-9506-cd54f94d279d"
   },
   "outputs": [
    {
     "data": {
      "text/html": [
       "<div>\n",
       "<style scoped>\n",
       "    .dataframe tbody tr th:only-of-type {\n",
       "        vertical-align: middle;\n",
       "    }\n",
       "\n",
       "    .dataframe tbody tr th {\n",
       "        vertical-align: top;\n",
       "    }\n",
       "\n",
       "    .dataframe thead th {\n",
       "        text-align: right;\n",
       "    }\n",
       "</style>\n",
       "<table border=\"1\" class=\"dataframe\">\n",
       "  <thead>\n",
       "    <tr style=\"text-align: right;\">\n",
       "      <th></th>\n",
       "      <th>index</th>\n",
       "      <th>id</th>\n",
       "      <th>document</th>\n",
       "      <th>label</th>\n",
       "    </tr>\n",
       "  </thead>\n",
       "  <tbody>\n",
       "    <tr>\n",
       "      <th>0</th>\n",
       "      <td>709</td>\n",
       "      <td>710</td>\n",
       "      <td>탐 성님 폭스 형님과 100분 토론 잘봤습니다.</td>\n",
       "      <td>1</td>\n",
       "    </tr>\n",
       "    <tr>\n",
       "      <th>1</th>\n",
       "      <td>2621</td>\n",
       "      <td>2622</td>\n",
       "      <td>ㅋㅋㅋ여자분 몸매가 아주 쩜ㅋㅋ 액션연기도 잘하고 추천~!!</td>\n",
       "      <td>1</td>\n",
       "    </tr>\n",
       "    <tr>\n",
       "      <th>2</th>\n",
       "      <td>198</td>\n",
       "      <td>199</td>\n",
       "      <td>재미도 없고 영국인, 역사 속 인물들을 이용한 파렴치한 농담 따먹기.</td>\n",
       "      <td>0</td>\n",
       "    </tr>\n",
       "    <tr>\n",
       "      <th>3</th>\n",
       "      <td>65</td>\n",
       "      <td>66</td>\n",
       "      <td>어린시절.아직도 잊혀지지 않는 아름다운 사랑이야기....</td>\n",
       "      <td>1</td>\n",
       "    </tr>\n",
       "    <tr>\n",
       "      <th>4</th>\n",
       "      <td>4102</td>\n",
       "      <td>4103</td>\n",
       "      <td>재밌게봐서 7점정도 주고싶은데 물타기에 저도 4점줍니다</td>\n",
       "      <td>0</td>\n",
       "    </tr>\n",
       "    <tr>\n",
       "      <th>...</th>\n",
       "      <td>...</td>\n",
       "      <td>...</td>\n",
       "      <td>...</td>\n",
       "      <td>...</td>\n",
       "    </tr>\n",
       "    <tr>\n",
       "      <th>3745</th>\n",
       "      <td>1811</td>\n",
       "      <td>1812</td>\n",
       "      <td>재미읍다..말장난만 겁나 하고..</td>\n",
       "      <td>0</td>\n",
       "    </tr>\n",
       "    <tr>\n",
       "      <th>3746</th>\n",
       "      <td>4932</td>\n",
       "      <td>4933</td>\n",
       "      <td>에로영화라도 이리재미없는 영화는 난반대일세</td>\n",
       "      <td>0</td>\n",
       "    </tr>\n",
       "    <tr>\n",
       "      <th>3747</th>\n",
       "      <td>1492</td>\n",
       "      <td>1493</td>\n",
       "      <td>무늬만 B급 영화인 쓰레기. 차라리 왕룡감독의 북두의권 실사를 봐라.</td>\n",
       "      <td>0</td>\n",
       "    </tr>\n",
       "    <tr>\n",
       "      <th>3748</th>\n",
       "      <td>1337</td>\n",
       "      <td>1338</td>\n",
       "      <td>프롯은 케이팩스로 돌아갔을것이다. 은근히 여운이 남는 영화.</td>\n",
       "      <td>1</td>\n",
       "    </tr>\n",
       "    <tr>\n",
       "      <th>3749</th>\n",
       "      <td>1837</td>\n",
       "      <td>1838</td>\n",
       "      <td>이 영화를 보고 뭔가를 이해하려한다는 것 자체가 무리다.</td>\n",
       "      <td>0</td>\n",
       "    </tr>\n",
       "  </tbody>\n",
       "</table>\n",
       "<p>3750 rows × 4 columns</p>\n",
       "</div>"
      ],
      "text/plain": [
       "      index    id                                document  label\n",
       "0       709   710              탐 성님 폭스 형님과 100분 토론 잘봤습니다.      1\n",
       "1      2621  2622       ㅋㅋㅋ여자분 몸매가 아주 쩜ㅋㅋ 액션연기도 잘하고 추천~!!      1\n",
       "2       198   199  재미도 없고 영국인, 역사 속 인물들을 이용한 파렴치한 농담 따먹기.      0\n",
       "3        65    66         어린시절.아직도 잊혀지지 않는 아름다운 사랑이야기....      1\n",
       "4      4102  4103          재밌게봐서 7점정도 주고싶은데 물타기에 저도 4점줍니다      0\n",
       "...     ...   ...                                     ...    ...\n",
       "3745   1811  1812                      재미읍다..말장난만 겁나 하고..      0\n",
       "3746   4932  4933                 에로영화라도 이리재미없는 영화는 난반대일세      0\n",
       "3747   1492  1493  무늬만 B급 영화인 쓰레기. 차라리 왕룡감독의 북두의권 실사를 봐라.      0\n",
       "3748   1337  1338       프롯은 케이팩스로 돌아갔을것이다. 은근히 여운이 남는 영화.      1\n",
       "3749   1837  1838         이 영화를 보고 뭔가를 이해하려한다는 것 자체가 무리다.      0\n",
       "\n",
       "[3750 rows x 4 columns]"
      ]
     },
     "execution_count": 5,
     "metadata": {},
     "output_type": "execute_result"
    }
   ],
   "source": [
    "train # train 셋 확인"
   ]
  },
  {
   "cell_type": "code",
   "execution_count": 6,
   "metadata": {
    "colab": {
     "base_uri": "https://localhost:8080/",
     "height": 302
    },
    "executionInfo": {
     "elapsed": 305,
     "status": "ok",
     "timestamp": 1659347648393,
     "user": {
      "displayName": "박슬빈(이과대학 지구시스템과학)",
      "userId": "17574256723394630016"
     },
     "user_tz": -540
    },
    "id": "GugwWi7bxzYV",
    "outputId": "fd7e2cdf-f07c-466c-de71-e4dd73d5b6fc"
   },
   "outputs": [
    {
     "data": {
      "text/html": [
       "<div>\n",
       "<style scoped>\n",
       "    .dataframe tbody tr th:only-of-type {\n",
       "        vertical-align: middle;\n",
       "    }\n",
       "\n",
       "    .dataframe tbody tr th {\n",
       "        vertical-align: top;\n",
       "    }\n",
       "\n",
       "    .dataframe thead th {\n",
       "        text-align: right;\n",
       "    }\n",
       "</style>\n",
       "<table border=\"1\" class=\"dataframe\">\n",
       "  <thead>\n",
       "    <tr style=\"text-align: right;\">\n",
       "      <th></th>\n",
       "      <th>index</th>\n",
       "      <th>id</th>\n",
       "      <th>document</th>\n",
       "      <th>label</th>\n",
       "      <th>preprocessed</th>\n",
       "    </tr>\n",
       "  </thead>\n",
       "  <tbody>\n",
       "    <tr>\n",
       "      <th>0</th>\n",
       "      <td>709</td>\n",
       "      <td>710</td>\n",
       "      <td>탐 성님 폭스 형님과 100분 토론 잘봤습니다.</td>\n",
       "      <td>1</td>\n",
       "      <td>탐 성님 폭스 형님과 분 토론 잘봤습니다</td>\n",
       "    </tr>\n",
       "    <tr>\n",
       "      <th>1</th>\n",
       "      <td>2621</td>\n",
       "      <td>2622</td>\n",
       "      <td>ㅋㅋㅋ여자분 몸매가 아주 쩜ㅋㅋ 액션연기도 잘하고 추천~!!</td>\n",
       "      <td>1</td>\n",
       "      <td>ㅋㅋㅋ여자분 몸매가 아주 쩜ㅋㅋ 액션연기도 잘하고 추천</td>\n",
       "    </tr>\n",
       "    <tr>\n",
       "      <th>2</th>\n",
       "      <td>198</td>\n",
       "      <td>199</td>\n",
       "      <td>재미도 없고 영국인, 역사 속 인물들을 이용한 파렴치한 농담 따먹기.</td>\n",
       "      <td>0</td>\n",
       "      <td>재미도 없고 영국인 역사 속 인물들을 이용한 파렴치한 농담 따먹기</td>\n",
       "    </tr>\n",
       "    <tr>\n",
       "      <th>3</th>\n",
       "      <td>65</td>\n",
       "      <td>66</td>\n",
       "      <td>어린시절.아직도 잊혀지지 않는 아름다운 사랑이야기....</td>\n",
       "      <td>1</td>\n",
       "      <td>어린시절아직도 잊혀지지 않는 아름다운 사랑이야기</td>\n",
       "    </tr>\n",
       "    <tr>\n",
       "      <th>4</th>\n",
       "      <td>4102</td>\n",
       "      <td>4103</td>\n",
       "      <td>재밌게봐서 7점정도 주고싶은데 물타기에 저도 4점줍니다</td>\n",
       "      <td>0</td>\n",
       "      <td>재밌게봐서 점정도 주고싶은데 물타기에 저도 점줍니다</td>\n",
       "    </tr>\n",
       "  </tbody>\n",
       "</table>\n",
       "</div>"
      ],
      "text/plain": [
       "   index    id                                document  label  \\\n",
       "0    709   710              탐 성님 폭스 형님과 100분 토론 잘봤습니다.      1   \n",
       "1   2621  2622       ㅋㅋㅋ여자분 몸매가 아주 쩜ㅋㅋ 액션연기도 잘하고 추천~!!      1   \n",
       "2    198   199  재미도 없고 영국인, 역사 속 인물들을 이용한 파렴치한 농담 따먹기.      0   \n",
       "3     65    66         어린시절.아직도 잊혀지지 않는 아름다운 사랑이야기....      1   \n",
       "4   4102  4103          재밌게봐서 7점정도 주고싶은데 물타기에 저도 4점줍니다      0   \n",
       "\n",
       "                           preprocessed  \n",
       "0                탐 성님 폭스 형님과 분 토론 잘봤습니다  \n",
       "1        ㅋㅋㅋ여자분 몸매가 아주 쩜ㅋㅋ 액션연기도 잘하고 추천  \n",
       "2  재미도 없고 영국인 역사 속 인물들을 이용한 파렴치한 농담 따먹기  \n",
       "3            어린시절아직도 잊혀지지 않는 아름다운 사랑이야기  \n",
       "4          재밌게봐서 점정도 주고싶은데 물타기에 저도 점줍니다  "
      ]
     },
     "execution_count": 6,
     "metadata": {},
     "output_type": "execute_result"
    }
   ],
   "source": [
    "train['preprocessed'] = train['document'].str.replace(\"[^ㄱ-ㅎㅏ-ㅣ가-힣 ]\",\"\") # 한글과 공백을 제외하고 모두 제거\n",
    "train[:5] # 데이터 확인"
   ]
  },
  {
   "cell_type": "code",
   "execution_count": 7,
   "metadata": {
    "colab": {
     "base_uri": "https://localhost:8080/",
     "height": 302
    },
    "executionInfo": {
     "elapsed": 416,
     "status": "ok",
     "timestamp": 1659347656027,
     "user": {
      "displayName": "박슬빈(이과대학 지구시스템과학)",
      "userId": "17574256723394630016"
     },
     "user_tz": -540
    },
    "id": "8dSULak6xzYY",
    "outputId": "22b8236c-8783-4c81-8735-a06324eeef4b"
   },
   "outputs": [
    {
     "data": {
      "text/html": [
       "<div>\n",
       "<style scoped>\n",
       "    .dataframe tbody tr th:only-of-type {\n",
       "        vertical-align: middle;\n",
       "    }\n",
       "\n",
       "    .dataframe tbody tr th {\n",
       "        vertical-align: top;\n",
       "    }\n",
       "\n",
       "    .dataframe thead th {\n",
       "        text-align: right;\n",
       "    }\n",
       "</style>\n",
       "<table border=\"1\" class=\"dataframe\">\n",
       "  <thead>\n",
       "    <tr style=\"text-align: right;\">\n",
       "      <th></th>\n",
       "      <th>index</th>\n",
       "      <th>id</th>\n",
       "      <th>document</th>\n",
       "      <th>label</th>\n",
       "      <th>preprocessed</th>\n",
       "    </tr>\n",
       "  </thead>\n",
       "  <tbody>\n",
       "    <tr>\n",
       "      <th>0</th>\n",
       "      <td>709</td>\n",
       "      <td>710</td>\n",
       "      <td>탐 성님 폭스 형님과 100분 토론 잘봤습니다.</td>\n",
       "      <td>1</td>\n",
       "      <td>탐 성님 폭스 형님과 분 토론 잘봤습니다</td>\n",
       "    </tr>\n",
       "    <tr>\n",
       "      <th>1</th>\n",
       "      <td>2621</td>\n",
       "      <td>2622</td>\n",
       "      <td>ㅋㅋㅋ여자분 몸매가 아주 쩜ㅋㅋ 액션연기도 잘하고 추천~!!</td>\n",
       "      <td>1</td>\n",
       "      <td>ㅋㅋㅋ여자분 몸매가 아주 쩜ㅋㅋ 액션연기도 잘하고 추천</td>\n",
       "    </tr>\n",
       "    <tr>\n",
       "      <th>2</th>\n",
       "      <td>198</td>\n",
       "      <td>199</td>\n",
       "      <td>재미도 없고 영국인, 역사 속 인물들을 이용한 파렴치한 농담 따먹기.</td>\n",
       "      <td>0</td>\n",
       "      <td>재미도 없고 영국인 역사 속 인물들을 이용한 파렴치한 농담 따먹기</td>\n",
       "    </tr>\n",
       "    <tr>\n",
       "      <th>3</th>\n",
       "      <td>65</td>\n",
       "      <td>66</td>\n",
       "      <td>어린시절.아직도 잊혀지지 않는 아름다운 사랑이야기....</td>\n",
       "      <td>1</td>\n",
       "      <td>어린시절아직도 잊혀지지 않는 아름다운 사랑이야기</td>\n",
       "    </tr>\n",
       "    <tr>\n",
       "      <th>4</th>\n",
       "      <td>4102</td>\n",
       "      <td>4103</td>\n",
       "      <td>재밌게봐서 7점정도 주고싶은데 물타기에 저도 4점줍니다</td>\n",
       "      <td>0</td>\n",
       "      <td>재밌게봐서 점정도 주고싶은데 물타기에 저도 점줍니다</td>\n",
       "    </tr>\n",
       "  </tbody>\n",
       "</table>\n",
       "</div>"
      ],
      "text/plain": [
       "   index    id                                document  label  \\\n",
       "0    709   710              탐 성님 폭스 형님과 100분 토론 잘봤습니다.      1   \n",
       "1   2621  2622       ㅋㅋㅋ여자분 몸매가 아주 쩜ㅋㅋ 액션연기도 잘하고 추천~!!      1   \n",
       "2    198   199  재미도 없고 영국인, 역사 속 인물들을 이용한 파렴치한 농담 따먹기.      0   \n",
       "3     65    66         어린시절.아직도 잊혀지지 않는 아름다운 사랑이야기....      1   \n",
       "4   4102  4103          재밌게봐서 7점정도 주고싶은데 물타기에 저도 4점줍니다      0   \n",
       "\n",
       "                           preprocessed  \n",
       "0                탐 성님 폭스 형님과 분 토론 잘봤습니다  \n",
       "1        ㅋㅋㅋ여자분 몸매가 아주 쩜ㅋㅋ 액션연기도 잘하고 추천  \n",
       "2  재미도 없고 영국인 역사 속 인물들을 이용한 파렴치한 농담 따먹기  \n",
       "3            어린시절아직도 잊혀지지 않는 아름다운 사랑이야기  \n",
       "4          재밌게봐서 점정도 주고싶은데 물타기에 저도 점줍니다  "
      ]
     },
     "execution_count": 7,
     "metadata": {},
     "output_type": "execute_result"
    }
   ],
   "source": [
    "train['preprocessed'] = train['preprocessed'].str.replace(\"[\\s]+\", \" \") # 다중 공백 제거\n",
    "train[:5] # 데이터 확인"
   ]
  },
  {
   "cell_type": "code",
   "execution_count": 8,
   "metadata": {
    "id": "ppx0qFvibpBu",
    "scrolled": true
   },
   "outputs": [],
   "source": [
    "from konlpy.tag import Okt\n",
    "okt = Okt()"
   ]
  },
  {
   "cell_type": "code",
   "execution_count": 9,
   "metadata": {
    "scrolled": true
   },
   "outputs": [
    {
     "data": {
      "text/html": [
       "<div>\n",
       "<style scoped>\n",
       "    .dataframe tbody tr th:only-of-type {\n",
       "        vertical-align: middle;\n",
       "    }\n",
       "\n",
       "    .dataframe tbody tr th {\n",
       "        vertical-align: top;\n",
       "    }\n",
       "\n",
       "    .dataframe thead th {\n",
       "        text-align: right;\n",
       "    }\n",
       "</style>\n",
       "<table border=\"1\" class=\"dataframe\">\n",
       "  <thead>\n",
       "    <tr style=\"text-align: right;\">\n",
       "      <th></th>\n",
       "      <th>index</th>\n",
       "      <th>id</th>\n",
       "      <th>document</th>\n",
       "      <th>label</th>\n",
       "      <th>preprocessed</th>\n",
       "      <th>tokenized_stem</th>\n",
       "    </tr>\n",
       "  </thead>\n",
       "  <tbody>\n",
       "    <tr>\n",
       "      <th>0</th>\n",
       "      <td>709</td>\n",
       "      <td>710</td>\n",
       "      <td>탐 성님 폭스 형님과 100분 토론 잘봤습니다.</td>\n",
       "      <td>1</td>\n",
       "      <td>탐 성님 폭스 형님과 분 토론 잘봤습니다</td>\n",
       "      <td>타다 성 님 폭스 형님 과 분 토론 잘 보다</td>\n",
       "    </tr>\n",
       "    <tr>\n",
       "      <th>1</th>\n",
       "      <td>2621</td>\n",
       "      <td>2622</td>\n",
       "      <td>ㅋㅋㅋ여자분 몸매가 아주 쩜ㅋㅋ 액션연기도 잘하고 추천~!!</td>\n",
       "      <td>1</td>\n",
       "      <td>ㅋㅋㅋ여자분 몸매가 아주 쩜ㅋㅋ 액션연기도 잘하고 추천</td>\n",
       "      <td>ㅋㅋㅋ 여자 분 몸매 가 아주 쩜 ㅋㅋ 액션연기 도 잘 하다 추천</td>\n",
       "    </tr>\n",
       "    <tr>\n",
       "      <th>2</th>\n",
       "      <td>198</td>\n",
       "      <td>199</td>\n",
       "      <td>재미도 없고 영국인, 역사 속 인물들을 이용한 파렴치한 농담 따먹기.</td>\n",
       "      <td>0</td>\n",
       "      <td>재미도 없고 영국인 역사 속 인물들을 이용한 파렴치한 농담 따먹기</td>\n",
       "      <td>재미 도 없다 영국인 역사 속 인물 들 을 이용 한 파렴치하다 농담 따먹다</td>\n",
       "    </tr>\n",
       "    <tr>\n",
       "      <th>3</th>\n",
       "      <td>65</td>\n",
       "      <td>66</td>\n",
       "      <td>어린시절.아직도 잊혀지지 않는 아름다운 사랑이야기....</td>\n",
       "      <td>1</td>\n",
       "      <td>어린시절아직도 잊혀지지 않는 아름다운 사랑이야기</td>\n",
       "      <td>어린시절 아직도 잊혀지다 않다 아름답다 사랑 이야기</td>\n",
       "    </tr>\n",
       "    <tr>\n",
       "      <th>4</th>\n",
       "      <td>4102</td>\n",
       "      <td>4103</td>\n",
       "      <td>재밌게봐서 7점정도 주고싶은데 물타기에 저도 4점줍니다</td>\n",
       "      <td>0</td>\n",
       "      <td>재밌게봐서 점정도 주고싶은데 물타기에 저도 점줍니다</td>\n",
       "      <td>재밌다 보다 점 정도 주다 물 타다 저 도 점 줍다</td>\n",
       "    </tr>\n",
       "  </tbody>\n",
       "</table>\n",
       "</div>"
      ],
      "text/plain": [
       "   index    id                                document  label  \\\n",
       "0    709   710              탐 성님 폭스 형님과 100분 토론 잘봤습니다.      1   \n",
       "1   2621  2622       ㅋㅋㅋ여자분 몸매가 아주 쩜ㅋㅋ 액션연기도 잘하고 추천~!!      1   \n",
       "2    198   199  재미도 없고 영국인, 역사 속 인물들을 이용한 파렴치한 농담 따먹기.      0   \n",
       "3     65    66         어린시절.아직도 잊혀지지 않는 아름다운 사랑이야기....      1   \n",
       "4   4102  4103          재밌게봐서 7점정도 주고싶은데 물타기에 저도 4점줍니다      0   \n",
       "\n",
       "                           preprocessed  \\\n",
       "0                탐 성님 폭스 형님과 분 토론 잘봤습니다   \n",
       "1        ㅋㅋㅋ여자분 몸매가 아주 쩜ㅋㅋ 액션연기도 잘하고 추천   \n",
       "2  재미도 없고 영국인 역사 속 인물들을 이용한 파렴치한 농담 따먹기   \n",
       "3            어린시절아직도 잊혀지지 않는 아름다운 사랑이야기   \n",
       "4          재밌게봐서 점정도 주고싶은데 물타기에 저도 점줍니다   \n",
       "\n",
       "                              tokenized_stem  \n",
       "0                   타다 성 님 폭스 형님 과 분 토론 잘 보다  \n",
       "1       ㅋㅋㅋ 여자 분 몸매 가 아주 쩜 ㅋㅋ 액션연기 도 잘 하다 추천  \n",
       "2  재미 도 없다 영국인 역사 속 인물 들 을 이용 한 파렴치하다 농담 따먹다  \n",
       "3               어린시절 아직도 잊혀지다 않다 아름답다 사랑 이야기  \n",
       "4               재밌다 보다 점 정도 주다 물 타다 저 도 점 줍다  "
      ]
     },
     "execution_count": 9,
     "metadata": {},
     "output_type": "execute_result"
    }
   ],
   "source": [
    "tokenized = [] # 데이터프레임의 한 컬럼으로 추가할 리스트\n",
    "for sentence in train['preprocessed']: # 전처리된 리뷰들을 하나씩 꺼내옵니다\n",
    "    # To do\n",
    "    tokens = okt.morphs(sentence, stem=True)# 형태소 분석 (어간 추출로 옵션 설정)\n",
    "    tokenize = \" \".join(tokens) # tokens라는 리스트 안의 형태소들을 띄어쓰기로 분리된 하나의 문자열로 join시켜줍니다.\n",
    "    tokenized.append(tokenize) # 형태소 단위로 띄어쓰기된 문자열을 최종 리스트에 추가해줍니다\n",
    "train[\"tokenized_stem\"] = pd.DataFrame(tokenized) # 리스트를 데이터프레임으로 변환해 tokenized_stem라는 컬럼명으로 추가해줍니다.\n",
    "\n",
    "train.head() # 데이터 확인"
   ]
  },
  {
   "cell_type": "code",
   "execution_count": 10,
   "metadata": {
    "id": "Y5NeznawxzYk",
    "outputId": "4ad9dae7-29ae-4605-97da-a34b0d296896"
   },
   "outputs": [
    {
     "data": {
      "text/html": [
       "<div>\n",
       "<style scoped>\n",
       "    .dataframe tbody tr th:only-of-type {\n",
       "        vertical-align: middle;\n",
       "    }\n",
       "\n",
       "    .dataframe tbody tr th {\n",
       "        vertical-align: top;\n",
       "    }\n",
       "\n",
       "    .dataframe thead th {\n",
       "        text-align: right;\n",
       "    }\n",
       "</style>\n",
       "<table border=\"1\" class=\"dataframe\">\n",
       "  <thead>\n",
       "    <tr style=\"text-align: right;\">\n",
       "      <th></th>\n",
       "      <th>index</th>\n",
       "      <th>id</th>\n",
       "      <th>document</th>\n",
       "      <th>label</th>\n",
       "      <th>preprocessed</th>\n",
       "      <th>tokenized_stem</th>\n",
       "      <th>main_pos</th>\n",
       "    </tr>\n",
       "  </thead>\n",
       "  <tbody>\n",
       "    <tr>\n",
       "      <th>0</th>\n",
       "      <td>709</td>\n",
       "      <td>710</td>\n",
       "      <td>탐 성님 폭스 형님과 100분 토론 잘봤습니다.</td>\n",
       "      <td>1</td>\n",
       "      <td>탐 성님 폭스 형님과 분 토론 잘봤습니다</td>\n",
       "      <td>타다 성 님 폭스 형님 과 분 토론 잘 보다</td>\n",
       "      <td>탐 성 폭스 형님 토론 봤습니다</td>\n",
       "    </tr>\n",
       "    <tr>\n",
       "      <th>1</th>\n",
       "      <td>2621</td>\n",
       "      <td>2622</td>\n",
       "      <td>ㅋㅋㅋ여자분 몸매가 아주 쩜ㅋㅋ 액션연기도 잘하고 추천~!!</td>\n",
       "      <td>1</td>\n",
       "      <td>ㅋㅋㅋ여자분 몸매가 아주 쩜ㅋㅋ 액션연기도 잘하고 추천</td>\n",
       "      <td>ㅋㅋㅋ 여자 분 몸매 가 아주 쩜 ㅋㅋ 액션연기 도 잘 하다 추천</td>\n",
       "      <td>여자 몸매 아주 쩜 액션연기 하고 추천</td>\n",
       "    </tr>\n",
       "    <tr>\n",
       "      <th>2</th>\n",
       "      <td>198</td>\n",
       "      <td>199</td>\n",
       "      <td>재미도 없고 영국인, 역사 속 인물들을 이용한 파렴치한 농담 따먹기.</td>\n",
       "      <td>0</td>\n",
       "      <td>재미도 없고 영국인 역사 속 인물들을 이용한 파렴치한 농담 따먹기</td>\n",
       "      <td>재미 도 없다 영국인 역사 속 인물 들 을 이용 한 파렴치하다 농담 따먹다</td>\n",
       "      <td>재미 없고 영국인 역사 속 인물 이용 파렴치한 농담 따먹기</td>\n",
       "    </tr>\n",
       "    <tr>\n",
       "      <th>3</th>\n",
       "      <td>65</td>\n",
       "      <td>66</td>\n",
       "      <td>어린시절.아직도 잊혀지지 않는 아름다운 사랑이야기....</td>\n",
       "      <td>1</td>\n",
       "      <td>어린시절아직도 잊혀지지 않는 아름다운 사랑이야기</td>\n",
       "      <td>어린시절 아직도 잊혀지다 않다 아름답다 사랑 이야기</td>\n",
       "      <td>어린시절 아직도 잊혀지지 않는 아름다운 사랑 이야기</td>\n",
       "    </tr>\n",
       "    <tr>\n",
       "      <th>4</th>\n",
       "      <td>4102</td>\n",
       "      <td>4103</td>\n",
       "      <td>재밌게봐서 7점정도 주고싶은데 물타기에 저도 4점줍니다</td>\n",
       "      <td>0</td>\n",
       "      <td>재밌게봐서 점정도 주고싶은데 물타기에 저도 점줍니다</td>\n",
       "      <td>재밌다 보다 점 정도 주다 물 타다 저 도 점 줍다</td>\n",
       "      <td>재밌게 봐서 점 정도 주고싶은데 물 타기에 저 점 줍니다</td>\n",
       "    </tr>\n",
       "  </tbody>\n",
       "</table>\n",
       "</div>"
      ],
      "text/plain": [
       "   index    id                                document  label  \\\n",
       "0    709   710              탐 성님 폭스 형님과 100분 토론 잘봤습니다.      1   \n",
       "1   2621  2622       ㅋㅋㅋ여자분 몸매가 아주 쩜ㅋㅋ 액션연기도 잘하고 추천~!!      1   \n",
       "2    198   199  재미도 없고 영국인, 역사 속 인물들을 이용한 파렴치한 농담 따먹기.      0   \n",
       "3     65    66         어린시절.아직도 잊혀지지 않는 아름다운 사랑이야기....      1   \n",
       "4   4102  4103          재밌게봐서 7점정도 주고싶은데 물타기에 저도 4점줍니다      0   \n",
       "\n",
       "                           preprocessed  \\\n",
       "0                탐 성님 폭스 형님과 분 토론 잘봤습니다   \n",
       "1        ㅋㅋㅋ여자분 몸매가 아주 쩜ㅋㅋ 액션연기도 잘하고 추천   \n",
       "2  재미도 없고 영국인 역사 속 인물들을 이용한 파렴치한 농담 따먹기   \n",
       "3            어린시절아직도 잊혀지지 않는 아름다운 사랑이야기   \n",
       "4          재밌게봐서 점정도 주고싶은데 물타기에 저도 점줍니다   \n",
       "\n",
       "                              tokenized_stem                          main_pos  \n",
       "0                   타다 성 님 폭스 형님 과 분 토론 잘 보다                 탐 성 폭스 형님 토론 봤습니다  \n",
       "1       ㅋㅋㅋ 여자 분 몸매 가 아주 쩜 ㅋㅋ 액션연기 도 잘 하다 추천             여자 몸매 아주 쩜 액션연기 하고 추천  \n",
       "2  재미 도 없다 영국인 역사 속 인물 들 을 이용 한 파렴치하다 농담 따먹다  재미 없고 영국인 역사 속 인물 이용 파렴치한 농담 따먹기  \n",
       "3               어린시절 아직도 잊혀지다 않다 아름답다 사랑 이야기      어린시절 아직도 잊혀지지 않는 아름다운 사랑 이야기  \n",
       "4               재밌다 보다 점 정도 주다 물 타다 저 도 점 줍다   재밌게 봐서 점 정도 주고싶은데 물 타기에 저 점 줍니다  "
      ]
     },
     "execution_count": 10,
     "metadata": {},
     "output_type": "execute_result"
    }
   ],
   "source": [
    "#### 품사 사용 범위 확인\n",
    "\n",
    "main_pos = [] # 데이터프레임의 새 컬럼이 될 리스트\n",
    "for sentence in train['document']: # 리뷰들을 하나씩 가져옵니다\n",
    "    # To do\n",
    "    pos = okt.pos(sentence)# 품사 태깅으로 형태소 분석을 진행하고 해당 리스트를 pos라는 변수로 받습니다\n",
    "    main_words = [word_pos[0] for word_pos in pos if word_pos[1] in (\"Noun\", \"Adverb\", \"Adjective\", \"Verb\")] # 가져오고자 하는 품사에 해당하면 해당 형태소를 main_words 리스트에 추가합니다.\n",
    "    main_words_str = \" \".join(main_words) # main_words 리스트 안의 형태소들을 띄어쓰기로 분리된 하나의 문자열로 join시켜줍니다.\n",
    "    main_pos.append(main_words_str) # 선택한 형태소들로 이루어진 문자열을 최종 리스트에 추가해줍니다\n",
    "train[\"main_pos\"] = pd.DataFrame(main_pos) # 리스트를 데이터프레임으로 변환해 main_pos라는 컬럼명으로 추가해줍니다.\n",
    "\n",
    "train.head() # 데이터 확인"
   ]
  },
  {
   "cell_type": "code",
   "execution_count": 11,
   "metadata": {
    "id": "FgLiiwwrxzYl"
   },
   "outputs": [],
   "source": [
    "X_train = train.main_pos #training 데이터에서 문서 추출\n",
    "y_train = train.label #training 데이터에서 라벨 추출"
   ]
  },
  {
   "cell_type": "code",
   "execution_count": 12,
   "metadata": {
    "id": "s8i5bjQpxzYm",
    "scrolled": false
   },
   "outputs": [],
   "source": [
    "from sklearn.feature_extraction.text import CountVectorizer\n",
    "# To do\n",
    "vectorizer = CountVectorizer() #countvectorizer 생성\n",
    "# countvectorizer 학습\n",
    "vectorizer.fit(X_train)\n",
    "X_train_vec = vectorizer.transform(X_train) # transform"
   ]
  },
  {
   "cell_type": "code",
   "execution_count": 13,
   "metadata": {
    "id": "zYcjr36dxzYm",
    "outputId": "94b4916b-bdcf-4b5f-8a1c-a41ac276a898"
   },
   "outputs": [
    {
     "data": {
      "text/plain": [
       "LogisticRegression()"
      ]
     },
     "execution_count": 13,
     "metadata": {},
     "output_type": "execute_result"
    }
   ],
   "source": [
    "from sklearn.linear_model import LogisticRegression #모델 불러오기\n",
    "model = LogisticRegression() #객체에 모델 할당\n",
    "model.fit(X_train_vec, y_train) #모델 학습"
   ]
  },
  {
   "cell_type": "markdown",
   "metadata": {
    "id": "F_jE_ICnxzYn"
   },
   "source": [
    "### 검증셋으로 모델 성능 검증"
   ]
  },
  {
   "cell_type": "markdown",
   "metadata": {
    "id": "Ch_s74HHxzYn"
   },
   "source": [
    "먼저 검증 셋 val에 train 셋과 동일한 전처리 과정을 거쳐줍니다."
   ]
  },
  {
   "cell_type": "code",
   "execution_count": 14,
   "metadata": {
    "id": "rlS82zKBxzYn",
    "outputId": "ec558530-6174-46fc-f4e9-3573d3e2636e"
   },
   "outputs": [
    {
     "data": {
      "text/html": [
       "<div>\n",
       "<style scoped>\n",
       "    .dataframe tbody tr th:only-of-type {\n",
       "        vertical-align: middle;\n",
       "    }\n",
       "\n",
       "    .dataframe tbody tr th {\n",
       "        vertical-align: top;\n",
       "    }\n",
       "\n",
       "    .dataframe thead th {\n",
       "        text-align: right;\n",
       "    }\n",
       "</style>\n",
       "<table border=\"1\" class=\"dataframe\">\n",
       "  <thead>\n",
       "    <tr style=\"text-align: right;\">\n",
       "      <th></th>\n",
       "      <th>index</th>\n",
       "      <th>id</th>\n",
       "      <th>document</th>\n",
       "      <th>label</th>\n",
       "      <th>preprocessed</th>\n",
       "      <th>tokenized_stem</th>\n",
       "      <th>main_pos</th>\n",
       "    </tr>\n",
       "  </thead>\n",
       "  <tbody>\n",
       "    <tr>\n",
       "      <th>0</th>\n",
       "      <td>3023</td>\n",
       "      <td>3024</td>\n",
       "      <td>진짜로 돈아까운 영화라는건 부정할수 없는 사실.</td>\n",
       "      <td>0</td>\n",
       "      <td>진짜로 돈아까운 영화라는건 부정할수 없는 사실</td>\n",
       "      <td>진짜 로 돈 아깝다 영화 라는 건 부정 하다 없다 사실</td>\n",
       "      <td>진짜 돈 아까운 영화 건 부정 할수 없는 사실</td>\n",
       "    </tr>\n",
       "    <tr>\n",
       "      <th>1</th>\n",
       "      <td>4060</td>\n",
       "      <td>4061</td>\n",
       "      <td>영화자체가 아름답다라는 문장하나로 표현이 되네요!</td>\n",
       "      <td>1</td>\n",
       "      <td>영화자체가 아름답다라는 문장하나로 표현이 되네요</td>\n",
       "      <td>영화 자체 가 아름답다 문장 하나로 표현 이 되다</td>\n",
       "      <td>영화 자체 아름답다라는 문장 하나로 표현 되네요</td>\n",
       "    </tr>\n",
       "    <tr>\n",
       "      <th>2</th>\n",
       "      <td>683</td>\n",
       "      <td>684</td>\n",
       "      <td>너무 /뻔하고 잔잔해요 생각보다 편집이 별로네요</td>\n",
       "      <td>0</td>\n",
       "      <td>너무 뻔하고 잔잔해요 생각보다 편집이 별로네요</td>\n",
       "      <td>너무 뻔하다 잔잔하다 생각 보다 편집 이 별로 네 요</td>\n",
       "      <td>너무 뻔하고 잔잔해요 생각 편집 별로</td>\n",
       "    </tr>\n",
       "    <tr>\n",
       "      <th>3</th>\n",
       "      <td>825</td>\n",
       "      <td>826</td>\n",
       "      <td>최고다 //스포츠 영화에 빠져들게 한 영화</td>\n",
       "      <td>1</td>\n",
       "      <td>최고다 스포츠 영화에 빠져들게 한 영화</td>\n",
       "      <td>최고다 스포츠 영화 에 빠져들다 하다 영화</td>\n",
       "      <td>최고다 스포츠 영화 빠져들게 한 영화</td>\n",
       "    </tr>\n",
       "    <tr>\n",
       "      <th>4</th>\n",
       "      <td>4502</td>\n",
       "      <td>4503</td>\n",
       "      <td>케이블에서 방송되서아쉬웠...지상파에서했으면 시청률팍팍나왔을텐데...</td>\n",
       "      <td>1</td>\n",
       "      <td>케이블에서 방송되서아쉬웠지상파에서했으면 시청률팍팍나왔을텐데</td>\n",
       "      <td>케이블 에서 방송 되다 아쉽다 지상파 에서 하다 시청률 팍팍 나오다</td>\n",
       "      <td>케이블 방송 되서 아쉬웠 지상파 했으면 시청률 팍팍 나왔을텐데</td>\n",
       "    </tr>\n",
       "  </tbody>\n",
       "</table>\n",
       "</div>"
      ],
      "text/plain": [
       "   index    id                                document  label  \\\n",
       "0   3023  3024              진짜로 돈아까운 영화라는건 부정할수 없는 사실.      0   \n",
       "1   4060  4061             영화자체가 아름답다라는 문장하나로 표현이 되네요!      1   \n",
       "2    683   684              너무 /뻔하고 잔잔해요 생각보다 편집이 별로네요      0   \n",
       "3    825   826                 최고다 //스포츠 영화에 빠져들게 한 영화      1   \n",
       "4   4502  4503  케이블에서 방송되서아쉬웠...지상파에서했으면 시청률팍팍나왔을텐데...      1   \n",
       "\n",
       "                       preprocessed                         tokenized_stem  \\\n",
       "0         진짜로 돈아까운 영화라는건 부정할수 없는 사실         진짜 로 돈 아깝다 영화 라는 건 부정 하다 없다 사실   \n",
       "1        영화자체가 아름답다라는 문장하나로 표현이 되네요            영화 자체 가 아름답다 문장 하나로 표현 이 되다   \n",
       "2         너무 뻔하고 잔잔해요 생각보다 편집이 별로네요          너무 뻔하다 잔잔하다 생각 보다 편집 이 별로 네 요   \n",
       "3             최고다 스포츠 영화에 빠져들게 한 영화                최고다 스포츠 영화 에 빠져들다 하다 영화   \n",
       "4  케이블에서 방송되서아쉬웠지상파에서했으면 시청률팍팍나왔을텐데  케이블 에서 방송 되다 아쉽다 지상파 에서 하다 시청률 팍팍 나오다   \n",
       "\n",
       "                             main_pos  \n",
       "0           진짜 돈 아까운 영화 건 부정 할수 없는 사실  \n",
       "1          영화 자체 아름답다라는 문장 하나로 표현 되네요  \n",
       "2                너무 뻔하고 잔잔해요 생각 편집 별로  \n",
       "3                최고다 스포츠 영화 빠져들게 한 영화  \n",
       "4  케이블 방송 되서 아쉬웠 지상파 했으면 시청률 팍팍 나왔을텐데  "
      ]
     },
     "execution_count": 14,
     "metadata": {},
     "output_type": "execute_result"
    }
   ],
   "source": [
    "# preprocessed\n",
    "val['preprocessed'] = val['document'].str.replace(\"[^ㄱ-ㅎㅏ-ㅣ가-힣 ]\",\"\") # 한글과 공백을 제외하고 모두 제거\n",
    "val['preprocessed'] = val['preprocessed'].str.replace(\" +\", \" \") # 다중 공백 제거\n",
    "\n",
    "# tokenized_stem\n",
    "tokenized = []\n",
    "for sentence in val['preprocessed']:\n",
    "    # To do\n",
    "    tokens = okt.morphs(sentence, stem=True) #형태소 분석 어간 추출 옵션\n",
    "    tokenize = \" \".join(tokens)\n",
    "    tokenized.append(tokenize)\n",
    "val[\"tokenized_stem\"] = pd.DataFrame(tokenized)\n",
    "\n",
    "# main_pos\n",
    "main_pos = []\n",
    "for sentence in val['document']:\n",
    "    # To do\n",
    "    pos = okt.pos(sentence) # 품사 태깅 형태소 분석\n",
    "    main_words = [word[0] for word in pos if word[1] in ('Noun', 'Adjective', 'Adverb', 'Verb')]\n",
    "     # 원하는 품사 선택\n",
    "    main_words_str = \" \".join(main_words)\n",
    "    main_pos.append(main_words_str)\n",
    "val[\"main_pos\"] = pd.DataFrame(main_pos)\n",
    "\n",
    "val.head()"
   ]
  },
  {
   "cell_type": "markdown",
   "metadata": {
    "id": "3OkudJa5xzYo"
   },
   "source": [
    "학습한 모델로 예측할 X를 벡터화해줍니다."
   ]
  },
  {
   "cell_type": "code",
   "execution_count": 15,
   "metadata": {
    "id": "Lqwz6CoCxzYo"
   },
   "outputs": [],
   "source": [
    "X_val = val.main_pos #validation 데이터에서 전처리된 문서 추출\n",
    "y_val = val.label #validation 데이터에서 라벨 추출\n",
    "# To do\n",
    "X_val_vec = vectorizer.transform(X_val)# train셋으로 fit한 벡터라이저 이용해 transform"
   ]
  },
  {
   "cell_type": "code",
   "execution_count": 16,
   "metadata": {
    "id": "A08sNchqxzYo",
    "outputId": "6347bae6-2e97-4036-ee84-b470b33b5cca"
   },
   "outputs": [
    {
     "name": "stdout",
     "output_type": "stream",
     "text": [
      "[0 1 0 ... 0 0 1]\n"
     ]
    }
   ],
   "source": [
    "#run model\n",
    "y_pred = model.predict(X_val_vec)\n",
    "print(y_pred)\n",
    "#0:negative 1:positive"
   ]
  },
  {
   "cell_type": "code",
   "execution_count": 17,
   "metadata": {
    "id": "tP-UOGHaxzYp",
    "outputId": "4ba00cae-353a-4f88-c8b1-8d3f3befaf2d"
   },
   "outputs": [
    {
     "name": "stdout",
     "output_type": "stream",
     "text": [
      "accuracy = 0.82\n"
     ]
    }
   ],
   "source": [
    "from sklearn import metrics\n",
    "print('accuracy =', metrics.accuracy_score(y_val, y_pred)) # 정확도 확인"
   ]
  },
  {
   "cell_type": "markdown",
   "metadata": {
    "id": "RfFDg9ItxzYp"
   },
   "source": [
    "# test.csv 분류하기"
   ]
  },
  {
   "cell_type": "code",
   "execution_count": 18,
   "metadata": {
    "id": "DzUx56YPxzYq",
    "outputId": "30d35e36-9622-4906-cce7-fa8f3965792f"
   },
   "outputs": [
    {
     "data": {
      "text/html": [
       "<div>\n",
       "<style scoped>\n",
       "    .dataframe tbody tr th:only-of-type {\n",
       "        vertical-align: middle;\n",
       "    }\n",
       "\n",
       "    .dataframe tbody tr th {\n",
       "        vertical-align: top;\n",
       "    }\n",
       "\n",
       "    .dataframe thead th {\n",
       "        text-align: right;\n",
       "    }\n",
       "</style>\n",
       "<table border=\"1\" class=\"dataframe\">\n",
       "  <thead>\n",
       "    <tr style=\"text-align: right;\">\n",
       "      <th></th>\n",
       "      <th>id</th>\n",
       "      <th>document</th>\n",
       "    </tr>\n",
       "  </thead>\n",
       "  <tbody>\n",
       "    <tr>\n",
       "      <th>0</th>\n",
       "      <td>1</td>\n",
       "      <td>시간 때우기 좋은 영화 지루함</td>\n",
       "    </tr>\n",
       "    <tr>\n",
       "      <th>1</th>\n",
       "      <td>2</td>\n",
       "      <td>훈훈한 정이 느껴지는 영화! 가족끼리 드라마 보듯이 보면 딱~!</td>\n",
       "    </tr>\n",
       "    <tr>\n",
       "      <th>2</th>\n",
       "      <td>3</td>\n",
       "      <td>Childhood fantasy</td>\n",
       "    </tr>\n",
       "    <tr>\n",
       "      <th>3</th>\n",
       "      <td>4</td>\n",
       "      <td>멋있는 영화입니다. 잊을 수 없는!</td>\n",
       "    </tr>\n",
       "    <tr>\n",
       "      <th>4</th>\n",
       "      <td>5</td>\n",
       "      <td>너무 감동적이네요 펑펑 울었습니다</td>\n",
       "    </tr>\n",
       "    <tr>\n",
       "      <th>...</th>\n",
       "      <td>...</td>\n",
       "      <td>...</td>\n",
       "    </tr>\n",
       "    <tr>\n",
       "      <th>4995</th>\n",
       "      <td>4996</td>\n",
       "      <td>연계도 제대로 안되고 뭔가 부족한느낌이들고 찝찝한영화</td>\n",
       "    </tr>\n",
       "    <tr>\n",
       "      <th>4996</th>\n",
       "      <td>4997</td>\n",
       "      <td>내생에 최악의 영화중 하나 졸려서 미칠뻔....</td>\n",
       "    </tr>\n",
       "    <tr>\n",
       "      <th>4997</th>\n",
       "      <td>4998</td>\n",
       "      <td>지금까지 나온 드라마 중 최고였습니다. 100점 만점!</td>\n",
       "    </tr>\n",
       "    <tr>\n",
       "      <th>4998</th>\n",
       "      <td>4999</td>\n",
       "      <td>영화값으로 엄청난 공연을 보았다 - 이게 웬 횡재 ..</td>\n",
       "    </tr>\n",
       "    <tr>\n",
       "      <th>4999</th>\n",
       "      <td>5000</td>\n",
       "      <td>올해엔 롯데 자이언츠가 꼭 우승했으면...</td>\n",
       "    </tr>\n",
       "  </tbody>\n",
       "</table>\n",
       "<p>5000 rows × 2 columns</p>\n",
       "</div>"
      ],
      "text/plain": [
       "        id                             document\n",
       "0        1                     시간 때우기 좋은 영화 지루함\n",
       "1        2  훈훈한 정이 느껴지는 영화! 가족끼리 드라마 보듯이 보면 딱~!\n",
       "2        3                    Childhood fantasy\n",
       "3        4                  멋있는 영화입니다. 잊을 수 없는!\n",
       "4        5                   너무 감동적이네요 펑펑 울었습니다\n",
       "...    ...                                  ...\n",
       "4995  4996        연계도 제대로 안되고 뭔가 부족한느낌이들고 찝찝한영화\n",
       "4996  4997           내생에 최악의 영화중 하나 졸려서 미칠뻔....\n",
       "4997  4998       지금까지 나온 드라마 중 최고였습니다. 100점 만점!\n",
       "4998  4999       영화값으로 엄청난 공연을 보았다 - 이게 웬 횡재 ..\n",
       "4999  5000              올해엔 롯데 자이언츠가 꼭 우승했으면...\n",
       "\n",
       "[5000 rows x 2 columns]"
      ]
     },
     "execution_count": 18,
     "metadata": {},
     "output_type": "execute_result"
    }
   ],
   "source": [
    "test = pd.read_csv('data/test.csv')\n",
    "test"
   ]
  },
  {
   "cell_type": "markdown",
   "metadata": {
    "id": "98ZogJRVxzYq"
   },
   "source": [
    "동일한 전처리 과정을 거치되, data leakage가 발생하지 않도록 주의합니다."
   ]
  },
  {
   "cell_type": "code",
   "execution_count": 19,
   "metadata": {
    "id": "K1iIpmGPxzYq",
    "outputId": "4f281b85-1410-4548-f85b-fa4bf1cee1d9"
   },
   "outputs": [
    {
     "data": {
      "text/plain": [
       "id          0\n",
       "document    0\n",
       "dtype: int64"
      ]
     },
     "execution_count": 19,
     "metadata": {},
     "output_type": "execute_result"
    }
   ],
   "source": [
    "test.isna().sum()"
   ]
  },
  {
   "cell_type": "code",
   "execution_count": null,
   "metadata": {
    "id": "6dYZK_XMxzYr",
    "outputId": "2de603cd-e997-42c6-fa8e-7f806dae52b4"
   },
   "outputs": [],
   "source": [
    "# preprocessed\n",
    "test['preprocessed'] = test['document'].str.replace(\"[^ㄱ-ㅎㅏ-ㅣ가-힣 ]\",\"\") # 한글과 공백을 제외하고 모두 제거\n",
    "test['preprocessed'] = test['preprocessed'].str.replace(\" +\", \" \") # 다중 공백 제거\n",
    "\n",
    "# tokenized_stem\n",
    "tokenized = []\n",
    "for sentence in test['preprocessed']:\n",
    "    # To do\n",
    "    tokens = okt.morphs(sentence, stem=True)#형태소 분석, 어간 추출\n",
    "    tokenize = \" \".join(tokens)\n",
    "    tokenized.append(tokenize)\n",
    "test[\"tokenized_stem\"] = pd.DataFrame(tokenized)\n",
    "\n",
    "# main_pos\n",
    "main_pos = []\n",
    "for sentence in test['document']:\n",
    "  # To do\n",
    "    pos = okt.pos(sentence)#품사 태그\n",
    "    main_words = [word[0] for word in pos if word[1] in ['Noun', 'Adverb', 'Adjective', 'Verb']] # 원하는 품사 추출\n",
    "    main_words_str = \" \".join(main_words)\n",
    "    main_pos.append(main_words_str)\n",
    "test[\"main_pos\"] = pd.DataFrame(main_pos)\n",
    "\n",
    "test.head()"
   ]
  },
  {
   "cell_type": "code",
   "execution_count": null,
   "metadata": {
    "id": "7OmdlKhhxzYr",
    "outputId": "b499c762-c844-4088-8bef-2b4e4e1fa3e1"
   },
   "outputs": [],
   "source": [
    "X_test = test.main_pos\n",
    "# To do\n",
    "X_test_vec = vectorizer.transform(X_test) # train셋으로 fit한 벡터라이저 이용해 transform\n",
    "pred_test = model.predict(X_test_vec)\n",
    "print(pred_test)"
   ]
  },
  {
   "cell_type": "markdown",
   "metadata": {
    "id": "-zhqvogvj4b3"
   },
   "source": [
    "# 워드클라우드"
   ]
  },
  {
   "cell_type": "code",
   "execution_count": null,
   "metadata": {
    "id": "K8hlO6rWfEOJ"
   },
   "outputs": [],
   "source": [
    "test['pred']=pred_test"
   ]
  },
  {
   "cell_type": "code",
   "execution_count": null,
   "metadata": {
    "colab": {
     "base_uri": "https://localhost:8080/",
     "height": 693
    },
    "executionInfo": {
     "elapsed": 19,
     "status": "ok",
     "timestamp": 1659711044075,
     "user": {
      "displayName": "박슬빈(이과대학 지구시스템과학)",
      "userId": "17574256723394630016"
     },
     "user_tz": -540
    },
    "id": "SXQ-JDkNfKWF",
    "outputId": "f86f9321-57eb-45db-ca95-762992c114b9"
   },
   "outputs": [],
   "source": [
    "test"
   ]
  },
  {
   "cell_type": "code",
   "execution_count": null,
   "metadata": {
    "id": "3Zfud6gkfNQL"
   },
   "outputs": [],
   "source": [
    "df=test.copy()"
   ]
  },
  {
   "cell_type": "code",
   "execution_count": null,
   "metadata": {
    "id": "1DYLKVfpfh2h"
   },
   "outputs": [],
   "source": [
    "import pandas as pd\n",
    "import re\n",
    "\n",
    "from wordcloud import WordCloud, STOPWORDS\n",
    "\n",
    "from matplotlib import font_manager, rc\n",
    "import matplotlib.pyplot as plt\n",
    "\n",
    "from konlpy.tag import Okt\n",
    "from collections import Counter\n",
    "\n",
    "import matplotlib.font_manager as fm\n",
    "\n",
    "fontpath = 'data/BMHANNA.ttf'\n",
    "font = fm.FontProperties(fname=fontpath, size=9)\n",
    "plt.rc('font', family='BMHANNA')"
   ]
  },
  {
   "cell_type": "code",
   "execution_count": null,
   "metadata": {
    "id": "cKgbM9W-foVC"
   },
   "outputs": [],
   "source": [
    "pos = df[df['pred']==1] #긍정리뷰\n",
    "neg = df[df['pred']==0] #부정리뷰"
   ]
  },
  {
   "cell_type": "code",
   "execution_count": null,
   "metadata": {
    "colab": {
     "base_uri": "https://localhost:8080/",
     "height": 648
    },
    "executionInfo": {
     "elapsed": 26,
     "status": "ok",
     "timestamp": 1659711313786,
     "user": {
      "displayName": "박슬빈(이과대학 지구시스템과학)",
      "userId": "17574256723394630016"
     },
     "user_tz": -540
    },
    "id": "XqDws61of_yx",
    "outputId": "856f495a-d428-4a9e-dfc5-e12aaefa3013"
   },
   "outputs": [],
   "source": [
    "display(pos.head())\n",
    "display(neg.head())"
   ]
  },
  {
   "cell_type": "markdown",
   "metadata": {
    "id": "84p7_YFLlcyJ"
   },
   "source": [
    "## 부정리뷰 워드클라우드"
   ]
  },
  {
   "cell_type": "code",
   "execution_count": null,
   "metadata": {
    "id": "1D0_Za7PfjXV"
   },
   "outputs": [],
   "source": [
    "okt = Okt()\n",
    "\n",
    "content_list = list(neg['main_pos'])\n",
    "noun_list = []\n",
    "\n",
    "for sentence in content_list:\n",
    "\n",
    "\n",
    "    sentence = re.sub('[a-zA-z0-9]','', sentence)\n",
    "    \n",
    "    for word, tag in okt.pos(sentence):\n",
    "      # 명사만 추출\n",
    "        if tag in ['Noun']:  \n",
    "\n",
    "            if len(word) == 1:\n",
    "                continue\n",
    "\n",
    "            else:\n",
    "                noun_list.append(word)\n",
    "\n",
    "count = Counter(noun_list)\n",
    "negwords = dict(count.most_common(n=50)) "
   ]
  },
  {
   "cell_type": "code",
   "execution_count": null,
   "metadata": {
    "colab": {
     "base_uri": "https://localhost:8080/"
    },
    "executionInfo": {
     "elapsed": 625,
     "status": "ok",
     "timestamp": 1659712144281,
     "user": {
      "displayName": "박슬빈(이과대학 지구시스템과학)",
      "userId": "17574256723394630016"
     },
     "user_tz": -540
    },
    "id": "wV0jVm0itQW7",
    "outputId": "8ff30a5a-a97d-4445-ad73-301f30aa3881"
   },
   "outputs": [],
   "source": [
    "negwords"
   ]
  },
  {
   "cell_type": "code",
   "execution_count": null,
   "metadata": {
    "colab": {
     "base_uri": "https://localhost:8080/"
    },
    "executionInfo": {
     "elapsed": 726,
     "status": "ok",
     "timestamp": 1659712151536,
     "user": {
      "displayName": "박슬빈(이과대학 지구시스템과학)",
      "userId": "17574256723394630016"
     },
     "user_tz": -540
    },
    "id": "P1HzII9VtN5Z",
    "outputId": "d7605dde-e0c2-421b-de91-08187bcb6c4d"
   },
   "outputs": [],
   "source": [
    "negwords.items()"
   ]
  },
  {
   "cell_type": "code",
   "execution_count": null,
   "metadata": {
    "colab": {
     "base_uri": "https://localhost:8080/"
    },
    "executionInfo": {
     "elapsed": 405,
     "status": "ok",
     "timestamp": 1659712157472,
     "user": {
      "displayName": "박슬빈(이과대학 지구시스템과학)",
      "userId": "17574256723394630016"
     },
     "user_tz": -540
    },
    "id": "_vwFGWKQgdPK",
    "outputId": "89dbf9c4-a4c4-43ca-e804-0dacbeb3bec5"
   },
   "outputs": [],
   "source": [
    "#특정 단어 지정해서 불용어 제거\n",
    "for w in ['진짜', '영화', '이건', '정도']:\n",
    "    negwords.pop(w)"
   ]
  },
  {
   "cell_type": "code",
   "execution_count": null,
   "metadata": {
    "colab": {
     "base_uri": "https://localhost:8080/"
    },
    "executionInfo": {
     "elapsed": 10,
     "status": "ok",
     "timestamp": 1659712590522,
     "user": {
      "displayName": "박슬빈(이과대학 지구시스템과학)",
      "userId": "17574256723394630016"
     },
     "user_tz": -540
    },
    "id": "0qkyktl6lP5Q",
    "outputId": "798cc8f9-ae8c-4cbc-bc93-b146a2ba076b"
   },
   "outputs": [],
   "source": [
    "# 불용어 리스트 생성해서 제거\n",
    "stop_words = \"다시 완전 마지막 지금 역시 영화\"\n",
    "stop_words = stop_words.split(' ')\n",
    "\n",
    "\n",
    "# 불용어 제거 실시\n",
    "negword2 = [(i,j)for i,j in negwords.items()  if i not in stop_words]\n",
    "\n",
    "# 결과 출력\n",
    "negword3=dict(negword2)\n",
    "print(negword3)"
   ]
  },
  {
   "cell_type": "code",
   "execution_count": null,
   "metadata": {
    "id": "61nBuCzsiwRU"
   },
   "outputs": [],
   "source": [
    "from PIL import Image, ImageFilter"
   ]
  },
  {
   "cell_type": "code",
   "execution_count": null,
   "metadata": {
    "colab": {
     "base_uri": "https://localhost:8080/",
     "height": 284
    },
    "executionInfo": {
     "elapsed": 502,
     "status": "ok",
     "timestamp": 1659712025335,
     "user": {
      "displayName": "박슬빈(이과대학 지구시스템과학)",
      "userId": "17574256723394630016"
     },
     "user_tz": -540
    },
    "id": "uhpEY13Fi5cq",
    "outputId": "2e3dcfb4-2bb6-4397-e0ee-b3c807f03d97"
   },
   "outputs": [],
   "source": [
    "Image.open(\"data/mask.png\")"
   ]
  },
  {
   "cell_type": "code",
   "execution_count": null,
   "metadata": {
    "colab": {
     "base_uri": "https://localhost:8080/"
    },
    "executionInfo": {
     "elapsed": 347,
     "status": "ok",
     "timestamp": 1659712035781,
     "user": {
      "displayName": "박슬빈(이과대학 지구시스템과학)",
      "userId": "17574256723394630016"
     },
     "user_tz": -540
    },
    "id": "Abo3heX8i7gm",
    "outputId": "8bd67123-64da-41a6-c72b-7d1cc3cf07d2"
   },
   "outputs": [],
   "source": [
    "import numpy as np\n",
    "mask_array = np.array(Image.open(\"data/mask.png\"))\n",
    "mask_array"
   ]
  },
  {
   "cell_type": "markdown",
   "metadata": {
    "id": "8yi8_hsHtWYA"
   },
   "source": [
    "옵션정리\n",
    "\n",
    "alicewc = WordCloud(\n",
    "    \n",
    "    background_color = \"white\",# 배경색 설정\n",
    "\n",
    "    collocations = False, # 이때 collocations=True 이면 said King, said Hatter 같이 자주 나타나는 단어는 하나의 어구로 분류됨.\n",
    "\n",
    "    stopwords = stopwords, #불용어 지정\n",
    "\n",
    "    width = 600, height = 400, #이미지 크기 지정\n",
    "\n",
    "    colormap = \"Reds\", # 글씨 색깔 지정\n",
    "\n",
    "    #font_path = 'path입력'\n",
    "\n",
    "    min_font_size = 5, max_font_size = 100 #폰트 지정 작게할수록 더 많은 글씨가 보이고 크게하면 글자가 강조됨. \n",
    "    \n",
    "    )"
   ]
  },
  {
   "cell_type": "code",
   "execution_count": null,
   "metadata": {
    "colab": {
     "base_uri": "https://localhost:8080/",
     "height": 449
    },
    "executionInfo": {
     "elapsed": 2355,
     "status": "ok",
     "timestamp": 1659712600152,
     "user": {
      "displayName": "박슬빈(이과대학 지구시스템과학)",
      "userId": "17574256723394630016"
     },
     "user_tz": -540
    },
    "id": "CPAr-FJ3tJUl",
    "outputId": "eb6ac84c-b51d-4423-ffe4-acd1c7347538"
   },
   "outputs": [],
   "source": [
    "mask1 = np.array(Image.open(\"data/mask.png\"))\n",
    "\n",
    "wordcloud = WordCloud(font_path = fontpath,\n",
    "    width = 800,\n",
    "    height = 800,\n",
    "    background_color=\"white\",\n",
    "    mask = mask1,\n",
    "    min_font_size = 3\n",
    ")\n",
    "\n",
    "wordcloud = wordcloud.generate_from_frequencies(negword3)\n",
    "plt.figure(figsize=(20, 20))\n",
    "plt.imshow(wordcloud, interpolation=\"bilinear\")\n",
    "plt.axis(\"off\")\n",
    "plt.show()"
   ]
  }
 ],
 "metadata": {
  "colab": {
   "collapsed_sections": [],
   "name": "wordcloudkonlpy과제.ipynb",
   "provenance": [],
   "toc_visible": true
  },
  "kernelspec": {
   "display_name": "Python 3 (ipykernel)",
   "language": "python",
   "name": "python3"
  },
  "language_info": {
   "codemirror_mode": {
    "name": "ipython",
    "version": 3
   },
   "file_extension": ".py",
   "mimetype": "text/x-python",
   "name": "python",
   "nbconvert_exporter": "python",
   "pygments_lexer": "ipython3",
   "version": "3.8.12"
  }
 },
 "nbformat": 4,
 "nbformat_minor": 1
}
