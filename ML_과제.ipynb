{
 "cells": [
  {
   "cell_type": "code",
   "execution_count": 1,
   "metadata": {
    "id": "1AWIATyIacOL"
   },
   "outputs": [],
   "source": [
    "import pandas as pd\n",
    "from sklearn.ensemble import RandomForestRegressor\n",
    "\n",
    "train = pd.read_csv('movies_train.csv')\n",
    "test = pd.read_csv('movies_test.csv')"
   ]
  },
  {
   "cell_type": "markdown",
   "metadata": {
    "id": "6yaoqpCutVLf"
   },
   "source": [
    "# 데이터 전처리"
   ]
  },
  {
   "cell_type": "code",
   "execution_count": 2,
   "metadata": {
    "id": "Yl2kA7fFtP5R"
   },
   "outputs": [],
   "source": [
    "# 결측치가 많은 데이터 제거\n",
    "train = train.drop(['dir_prev_bfnum'],axis = 1)\n",
    "test =  test.drop(['dir_prev_bfnum'],axis = 1)"
   ]
  },
  {
   "cell_type": "code",
   "execution_count": 3,
   "metadata": {
    "id": "lIk3wrTctQ9v"
   },
   "outputs": [],
   "source": [
    "# 감독명 : 너무 다양해서 제거\n",
    "train = train.drop(['director'],axis = 1)\n",
    "test = test.drop(['director'],axis = 1)"
   ]
  },
  {
   "cell_type": "code",
   "execution_count": 4,
   "metadata": {
    "id": "ePWuo17btR1M"
   },
   "outputs": [],
   "source": [
    "# 제목 : 의미가 없기 때문에 제거\n",
    "train = train.drop(['title'],axis= 1)\n",
    "test = test.drop(['title'],axis= 1)"
   ]
  },
  {
   "cell_type": "code",
   "execution_count": 5,
   "metadata": {
    "id": "gJLgQnsftUi3"
   },
   "outputs": [],
   "source": [
    "# 상위 5개의 배급사를 제외하고 '기타'로처리\n",
    "distributor_list = train.distributor.value_counts()[:5]\n",
    "def func(distributor):\n",
    "    if distributor in distributor_list:\n",
    "        return distributor\n",
    "    else:\n",
    "        return '기타'\n",
    "\n",
    "train['distributor'] = train['distributor'].apply(lambda x : func(x))\n",
    "test['distributor'] = test['distributor'].apply(lambda x : func(x))"
   ]
  },
  {
   "cell_type": "code",
   "execution_count": 6,
   "metadata": {
    "id": "go0393kDtapB"
   },
   "outputs": [],
   "source": [
    "# 개봉일을 바탕으로 년,월 변수 생성\n",
    "train['년'] = train['release_time'].apply(lambda x: int(x[:4]))\n",
    "train['월'] = train['release_time'].apply(lambda x: int(x[5:7]))\n",
    "train =  train.drop(['release_time'],axis = 1)\n",
    "\n",
    "test['년'] = test['release_time'].apply(lambda x: int(x[:4]))\n",
    "test['월'] = test['release_time'].apply(lambda x: int(x[5:7]))\n",
    "test =  test.drop(['release_time'],axis = 1)"
   ]
  },
  {
   "cell_type": "code",
   "execution_count": 7,
   "metadata": {
    "id": "8OU0rcEktbvc"
   },
   "outputs": [],
   "source": [
    "# 원핫 인코딩\n",
    "train = pd.get_dummies(train)\n",
    "test = pd.get_dummies(test)"
   ]
  },
  {
   "cell_type": "markdown",
   "metadata": {
    "id": "QKlW-N1wtfcX"
   },
   "source": [
    "# 모델 생성 및 예측(과제부분)"
   ]
  },
  {
   "cell_type": "code",
   "execution_count": 8,
   "metadata": {
    "id": "NiON_n6Xth_4"
   },
   "outputs": [],
   "source": [
    "train_x = train.drop(['box_off_num'],axis= 1)\n",
    "train_y = train['box_off_num']"
   ]
  },
  {
   "cell_type": "code",
   "execution_count": 9,
   "metadata": {},
   "outputs": [
    {
     "name": "stdout",
     "output_type": "stream",
     "text": [
      "|   iter    |  target   |   gamma   | max_depth | min_ch... |\n",
      "-------------------------------------------------------------\n",
      "| \u001b[0m 1       \u001b[0m | \u001b[0m-1.17e-05\u001b[0m | \u001b[0m 0.6101  \u001b[0m | \u001b[0m 2.133e+0\u001b[0m | \u001b[0m 283.4   \u001b[0m |\n",
      "| \u001b[0m 2       \u001b[0m | \u001b[0m-0.1503  \u001b[0m | \u001b[0m 0.6103  \u001b[0m | \u001b[0m 1.384e+0\u001b[0m | \u001b[0m 1.427e+0\u001b[0m |\n",
      "| \u001b[0m 3       \u001b[0m | \u001b[0m-0.1503  \u001b[0m | \u001b[0m 0.9467  \u001b[0m | \u001b[0m 1.384e+0\u001b[0m | \u001b[0m 1.275e+0\u001b[0m |\n",
      "| \u001b[0m 4       \u001b[0m | \u001b[0m-0.1503  \u001b[0m | \u001b[0m 0.6293  \u001b[0m | \u001b[0m 6.064e+0\u001b[0m | \u001b[0m 1.536e+0\u001b[0m |\n",
      "| \u001b[0m 5       \u001b[0m | \u001b[0m-0.1503  \u001b[0m | \u001b[0m 0.8619  \u001b[0m | \u001b[0m 6.131e+0\u001b[0m | \u001b[0m 1.918e+0\u001b[0m |\n",
      "| \u001b[0m 6       \u001b[0m | \u001b[0m-0.1503  \u001b[0m | \u001b[0m 0.9471  \u001b[0m | \u001b[0m 1.208e+0\u001b[0m | \u001b[0m 3.64e+03\u001b[0m |\n",
      "| \u001b[95m 7       \u001b[0m | \u001b[95m 0.1823  \u001b[0m | \u001b[95m 0.7147  \u001b[0m | \u001b[95m 2.038e+0\u001b[0m | \u001b[95m 201.7   \u001b[0m |\n",
      "| \u001b[0m 8       \u001b[0m | \u001b[0m-0.1503  \u001b[0m | \u001b[0m 0.3077  \u001b[0m | \u001b[0m 1.006e+0\u001b[0m | \u001b[0m 1.055e+0\u001b[0m |\n",
      "| \u001b[95m 9       \u001b[0m | \u001b[95m 0.2031  \u001b[0m | \u001b[95m 0.9003  \u001b[0m | \u001b[95m 1.977e+0\u001b[0m | \u001b[95m 182.0   \u001b[0m |\n",
      "| \u001b[95m 10      \u001b[0m | \u001b[95m 0.3839  \u001b[0m | \u001b[95m 0.3945  \u001b[0m | \u001b[95m 2.114e+0\u001b[0m | \u001b[95m 47.01   \u001b[0m |\n",
      "| \u001b[95m 11      \u001b[0m | \u001b[95m 0.5192  \u001b[0m | \u001b[95m 0.8342  \u001b[0m | \u001b[95m 1.676e+0\u001b[0m | \u001b[95m 11.62   \u001b[0m |\n",
      "| \u001b[0m 12      \u001b[0m | \u001b[0m 0.4076  \u001b[0m | \u001b[0m 0.5853  \u001b[0m | \u001b[0m 2.119e+0\u001b[0m | \u001b[0m 34.81   \u001b[0m |\n",
      "| \u001b[0m 13      \u001b[0m | \u001b[0m 0.2315  \u001b[0m | \u001b[0m 0.8189  \u001b[0m | \u001b[0m 1.398e+0\u001b[0m | \u001b[0m 159.2   \u001b[0m |\n",
      "| \u001b[0m 14      \u001b[0m | \u001b[0m-0.1503  \u001b[0m | \u001b[0m 0.4694  \u001b[0m | \u001b[0m 1.028e+0\u001b[0m | \u001b[0m 1.102e+0\u001b[0m |\n",
      "| \u001b[0m 15      \u001b[0m | \u001b[0m 0.4621  \u001b[0m | \u001b[0m 0.8546  \u001b[0m | \u001b[0m 2.46e+03\u001b[0m | \u001b[0m 18.36   \u001b[0m |\n",
      "| \u001b[0m 16      \u001b[0m | \u001b[0m 0.3141  \u001b[0m | \u001b[0m 0.253   \u001b[0m | \u001b[0m 2.809e+0\u001b[0m | \u001b[0m 67.33   \u001b[0m |\n",
      "| \u001b[0m 17      \u001b[0m | \u001b[0m-0.1503  \u001b[0m | \u001b[0m 0.8305  \u001b[0m | \u001b[0m 1.906e+0\u001b[0m | \u001b[0m 1.418e+0\u001b[0m |\n",
      "| \u001b[0m 18      \u001b[0m | \u001b[0m 0.2411  \u001b[0m | \u001b[0m 0.5274  \u001b[0m | \u001b[0m 3.303e+0\u001b[0m | \u001b[0m 150.8   \u001b[0m |\n",
      "| \u001b[0m 19      \u001b[0m | \u001b[0m-0.1503  \u001b[0m | \u001b[0m 0.3656  \u001b[0m | \u001b[0m 1.425e+0\u001b[0m | \u001b[0m 6.68e+03\u001b[0m |\n",
      "| \u001b[0m 20      \u001b[0m | \u001b[0m-0.1503  \u001b[0m | \u001b[0m 0.5811  \u001b[0m | \u001b[0m 2.98e+03\u001b[0m | \u001b[0m 548.6   \u001b[0m |\n",
      "| \u001b[0m 21      \u001b[0m | \u001b[0m 0.2411  \u001b[0m | \u001b[0m 0.1133  \u001b[0m | \u001b[0m 3.871e+0\u001b[0m | \u001b[0m 151.0   \u001b[0m |\n",
      "| \u001b[0m 22      \u001b[0m | \u001b[0m-0.1503  \u001b[0m | \u001b[0m 0.8178  \u001b[0m | \u001b[0m 4.046e+0\u001b[0m | \u001b[0m 535.8   \u001b[0m |\n",
      "| \u001b[0m 23      \u001b[0m | \u001b[0m 0.494   \u001b[0m | \u001b[0m 0.7841  \u001b[0m | \u001b[0m 773.0   \u001b[0m | \u001b[0m 15.68   \u001b[0m |\n",
      "| \u001b[0m 24      \u001b[0m | \u001b[0m-1.17e-05\u001b[0m | \u001b[0m 0.5619  \u001b[0m | \u001b[0m 619.0   \u001b[0m | \u001b[0m 288.2   \u001b[0m |\n",
      "| \u001b[0m 25      \u001b[0m | \u001b[0m 0.3839  \u001b[0m | \u001b[0m 0.9014  \u001b[0m | \u001b[0m 1.097e+0\u001b[0m | \u001b[0m 47.54   \u001b[0m |\n",
      "| \u001b[0m 26      \u001b[0m | \u001b[0m-0.1503  \u001b[0m | \u001b[0m 0.369   \u001b[0m | \u001b[0m 3.038e+0\u001b[0m | \u001b[0m 7.741e+0\u001b[0m |\n",
      "| \u001b[0m 27      \u001b[0m | \u001b[0m-1.17e-05\u001b[0m | \u001b[0m 0.3157  \u001b[0m | \u001b[0m 984.5   \u001b[0m | \u001b[0m 282.7   \u001b[0m |\n",
      "| \u001b[95m 28      \u001b[0m | \u001b[95m 0.8859  \u001b[0m | \u001b[95m 0.1641  \u001b[0m | \u001b[95m 3.688e+0\u001b[0m | \u001b[95m 1.204   \u001b[0m |\n",
      "| \u001b[0m 29      \u001b[0m | \u001b[0m 0.7269  \u001b[0m | \u001b[0m 0.7063  \u001b[0m | \u001b[0m 3.756e+0\u001b[0m | \u001b[0m 3.196   \u001b[0m |\n",
      "| \u001b[0m 30      \u001b[0m | \u001b[0m 0.2843  \u001b[0m | \u001b[0m 0.8281  \u001b[0m | \u001b[0m 3.6e+03 \u001b[0m | \u001b[0m 112.8   \u001b[0m |\n",
      "| \u001b[0m 31      \u001b[0m | \u001b[0m-1.17e-05\u001b[0m | \u001b[0m 0.5637  \u001b[0m | \u001b[0m 1.664e+0\u001b[0m | \u001b[0m 301.5   \u001b[0m |\n",
      "| \u001b[0m 32      \u001b[0m | \u001b[0m-0.1503  \u001b[0m | \u001b[0m 0.8389  \u001b[0m | \u001b[0m 4.835e+0\u001b[0m | \u001b[0m 1.232e+0\u001b[0m |\n",
      "| \u001b[0m 33      \u001b[0m | \u001b[0m-1.17e-05\u001b[0m | \u001b[0m 0.3964  \u001b[0m | \u001b[0m 2.495e+0\u001b[0m | \u001b[0m 255.9   \u001b[0m |\n",
      "| \u001b[0m 34      \u001b[0m | \u001b[0m 0.4076  \u001b[0m | \u001b[0m 0.6649  \u001b[0m | \u001b[0m 581.8   \u001b[0m | \u001b[0m 34.4    \u001b[0m |\n",
      "| \u001b[0m 35      \u001b[0m | \u001b[0m 0.2943  \u001b[0m | \u001b[0m 0.9045  \u001b[0m | \u001b[0m 51.57   \u001b[0m | \u001b[0m 103.9   \u001b[0m |\n",
      "| \u001b[0m 36      \u001b[0m | \u001b[0m 0.3784  \u001b[0m | \u001b[0m 0.9034  \u001b[0m | \u001b[0m 3.703e+0\u001b[0m | \u001b[0m 48.71   \u001b[0m |\n",
      "| \u001b[0m 37      \u001b[0m | \u001b[0m-0.1503  \u001b[0m | \u001b[0m 0.5166  \u001b[0m | \u001b[0m 5.98e+03\u001b[0m | \u001b[0m 1.818e+0\u001b[0m |\n",
      "| \u001b[0m 38      \u001b[0m | \u001b[0m-0.1503  \u001b[0m | \u001b[0m 0.01134 \u001b[0m | \u001b[0m 5.413e+0\u001b[0m | \u001b[0m 6.877e+0\u001b[0m |\n",
      "| \u001b[0m 39      \u001b[0m | \u001b[0m-0.1503  \u001b[0m | \u001b[0m 0.333   \u001b[0m | \u001b[0m 1.697e+0\u001b[0m | \u001b[0m 5.362e+0\u001b[0m |\n",
      "| \u001b[0m 40      \u001b[0m | \u001b[0m-0.1503  \u001b[0m | \u001b[0m 0.9815  \u001b[0m | \u001b[0m 1.268e+0\u001b[0m | \u001b[0m 1.886e+0\u001b[0m |\n",
      "| \u001b[0m 41      \u001b[0m | \u001b[0m 0.2958  \u001b[0m | \u001b[0m 0.7963  \u001b[0m | \u001b[0m 1.721e+0\u001b[0m | \u001b[0m 100.3   \u001b[0m |\n",
      "| \u001b[0m 42      \u001b[0m | \u001b[0m 0.2973  \u001b[0m | \u001b[0m 0.5568  \u001b[0m | \u001b[0m 747.3   \u001b[0m | \u001b[0m 99.14   \u001b[0m |\n",
      "| \u001b[0m 43      \u001b[0m | \u001b[0m 0.4076  \u001b[0m | \u001b[0m 0.4278  \u001b[0m | \u001b[0m 3.617e+0\u001b[0m | \u001b[0m 34.43   \u001b[0m |\n",
      "| \u001b[0m 44      \u001b[0m | \u001b[0m 0.5317  \u001b[0m | \u001b[0m 0.5581  \u001b[0m | \u001b[0m 870.0   \u001b[0m | \u001b[0m 10.52   \u001b[0m |\n",
      "| \u001b[0m 45      \u001b[0m | \u001b[0m 0.3961  \u001b[0m | \u001b[0m 0.8544  \u001b[0m | \u001b[0m 1.575e+0\u001b[0m | \u001b[0m 42.82   \u001b[0m |\n",
      "| \u001b[0m 46      \u001b[0m | \u001b[0m 0.324   \u001b[0m | \u001b[0m 0.09184 \u001b[0m | \u001b[0m 2.286e+0\u001b[0m | \u001b[0m 56.4    \u001b[0m |\n",
      "| \u001b[0m 47      \u001b[0m | \u001b[0m 0.3138  \u001b[0m | \u001b[0m 0.2851  \u001b[0m | \u001b[0m 2.615e+0\u001b[0m | \u001b[0m 70.38   \u001b[0m |\n",
      "| \u001b[0m 48      \u001b[0m | \u001b[0m 0.2804  \u001b[0m | \u001b[0m 0.9253  \u001b[0m | \u001b[0m 479.0   \u001b[0m | \u001b[0m 116.2   \u001b[0m |\n",
      "| \u001b[0m 49      \u001b[0m | \u001b[0m-0.1503  \u001b[0m | \u001b[0m 0.2658  \u001b[0m | \u001b[0m 1.084e+0\u001b[0m | \u001b[0m 1.04e+04\u001b[0m |\n",
      "| \u001b[95m 50      \u001b[0m | \u001b[95m 0.9655  \u001b[0m | \u001b[95m 1e-10   \u001b[0m | \u001b[95m 1.995e+0\u001b[0m | \u001b[95m 1.0     \u001b[0m |\n",
      "| \u001b[0m 51      \u001b[0m | \u001b[0m 0.3079  \u001b[0m | \u001b[0m 0.1746  \u001b[0m | \u001b[0m 1.96e+03\u001b[0m | \u001b[0m 83.82   \u001b[0m |\n",
      "| \u001b[0m 52      \u001b[0m | \u001b[0m 0.6183  \u001b[0m | \u001b[0m 0.7919  \u001b[0m | \u001b[0m 3.938e+0\u001b[0m | \u001b[0m 6.559   \u001b[0m |\n",
      "| \u001b[0m 53      \u001b[0m | \u001b[0m 0.5137  \u001b[0m | \u001b[0m 0.2852  \u001b[0m | \u001b[0m 868.6   \u001b[0m | \u001b[0m 12.42   \u001b[0m |\n",
      "| \u001b[0m 54      \u001b[0m | \u001b[0m 0.3007  \u001b[0m | \u001b[0m 0.2024  \u001b[0m | \u001b[0m 3.99e+03\u001b[0m | \u001b[0m 96.34   \u001b[0m |\n",
      "| \u001b[0m 55      \u001b[0m | \u001b[0m 0.5317  \u001b[0m | \u001b[0m 0.8343  \u001b[0m | \u001b[0m 2.042e+0\u001b[0m | \u001b[0m 10.17   \u001b[0m |\n",
      "| \u001b[0m 56      \u001b[0m | \u001b[0m 0.255   \u001b[0m | \u001b[0m 0.9991  \u001b[0m | \u001b[0m 589.1   \u001b[0m | \u001b[0m 137.6   \u001b[0m |\n",
      "| \u001b[0m 57      \u001b[0m | \u001b[0m 0.5192  \u001b[0m | \u001b[0m 0.5981  \u001b[0m | \u001b[0m 4.042e+0\u001b[0m | \u001b[0m 11.52   \u001b[0m |\n",
      "| \u001b[0m 58      \u001b[0m | \u001b[0m 0.3145  \u001b[0m | \u001b[0m 0.5448  \u001b[0m | \u001b[0m 2.405e+0\u001b[0m | \u001b[0m 63.09   \u001b[0m |\n",
      "| \u001b[0m 59      \u001b[0m | \u001b[0m 0.4306  \u001b[0m | \u001b[0m 0.8154  \u001b[0m | \u001b[0m 1.974e+0\u001b[0m | \u001b[0m 25.03   \u001b[0m |\n",
      "| \u001b[0m 60      \u001b[0m | \u001b[0m 0.314   \u001b[0m | \u001b[0m 0.06538 \u001b[0m | \u001b[0m 3.78e+03\u001b[0m | \u001b[0m 69.53   \u001b[0m |\n",
      "| \u001b[0m 61      \u001b[0m | \u001b[0m 0.7269  \u001b[0m | \u001b[0m 0.7127  \u001b[0m | \u001b[0m 907.7   \u001b[0m | \u001b[0m 3.009   \u001b[0m |\n",
      "| \u001b[0m 62      \u001b[0m | \u001b[0m 0.6436  \u001b[0m | \u001b[0m 0.1155  \u001b[0m | \u001b[0m 4.146e+0\u001b[0m | \u001b[0m 5.086   \u001b[0m |\n",
      "| \u001b[0m 63      \u001b[0m | \u001b[0m 0.4437  \u001b[0m | \u001b[0m 0.7249  \u001b[0m | \u001b[0m 970.1   \u001b[0m | \u001b[0m 23.0    \u001b[0m |\n",
      "| \u001b[0m 64      \u001b[0m | \u001b[0m 0.2633  \u001b[0m | \u001b[0m 0.02488 \u001b[0m | \u001b[0m 1.597e+0\u001b[0m | \u001b[0m 126.3   \u001b[0m |\n",
      "| \u001b[0m 65      \u001b[0m | \u001b[0m 0.391   \u001b[0m | \u001b[0m 0.3676  \u001b[0m | \u001b[0m 3.965e+0\u001b[0m | \u001b[0m 45.46   \u001b[0m |\n",
      "| \u001b[0m 66      \u001b[0m | \u001b[0m 0.5912  \u001b[0m | \u001b[0m 0.9786  \u001b[0m | \u001b[0m 501.6   \u001b[0m | \u001b[0m 7.677   \u001b[0m |\n",
      "| \u001b[0m 67      \u001b[0m | \u001b[0m 0.3145  \u001b[0m | \u001b[0m 0.8237  \u001b[0m | \u001b[0m 527.8   \u001b[0m | \u001b[0m 64.56   \u001b[0m |\n",
      "| \u001b[0m 68      \u001b[0m | \u001b[0m 0.4399  \u001b[0m | \u001b[0m 0.3915  \u001b[0m | \u001b[0m 691.3   \u001b[0m | \u001b[0m 23.69   \u001b[0m |\n",
      "| \u001b[0m 69      \u001b[0m | \u001b[0m 0.4344  \u001b[0m | \u001b[0m 0.5017  \u001b[0m | \u001b[0m 3.512e+0\u001b[0m | \u001b[0m 24.21   \u001b[0m |\n",
      "| \u001b[0m 70      \u001b[0m | \u001b[0m 0.3079  \u001b[0m | \u001b[0m 0.294   \u001b[0m | \u001b[0m 948.1   \u001b[0m | \u001b[0m 83.29   \u001b[0m |\n",
      "| \u001b[0m 71      \u001b[0m | \u001b[0m 0.3145  \u001b[0m | \u001b[0m 0.7826  \u001b[0m | \u001b[0m 344.6   \u001b[0m | \u001b[0m 64.01   \u001b[0m |\n",
      "| \u001b[0m 72      \u001b[0m | \u001b[0m 0.3784  \u001b[0m | \u001b[0m 0.1025  \u001b[0m | \u001b[0m 4.108e+0\u001b[0m | \u001b[0m 48.41   \u001b[0m |\n",
      "| \u001b[0m 73      \u001b[0m | \u001b[0m 0.3683  \u001b[0m | \u001b[0m 0.9678  \u001b[0m | \u001b[0m 4.21e+03\u001b[0m | \u001b[0m 50.39   \u001b[0m |\n",
      "| \u001b[0m 74      \u001b[0m | \u001b[0m 0.393   \u001b[0m | \u001b[0m 0.3591  \u001b[0m | \u001b[0m 3.897e+0\u001b[0m | \u001b[0m 44.41   \u001b[0m |\n",
      "| \u001b[0m 75      \u001b[0m | \u001b[0m 0.453   \u001b[0m | \u001b[0m 0.7785  \u001b[0m | \u001b[0m 2.525e+0\u001b[0m | \u001b[0m 20.02   \u001b[0m |\n",
      "| \u001b[0m 76      \u001b[0m | \u001b[0m 0.2794  \u001b[0m | \u001b[0m 0.3677  \u001b[0m | \u001b[0m 2.527e+0\u001b[0m | \u001b[0m 117.2   \u001b[0m |\n",
      "| \u001b[0m 77      \u001b[0m | \u001b[0m 0.2606  \u001b[0m | \u001b[0m 0.7928  \u001b[0m | \u001b[0m 3.473e+0\u001b[0m | \u001b[0m 128.8   \u001b[0m |\n",
      "| \u001b[0m 78      \u001b[0m | \u001b[0m 0.8859  \u001b[0m | \u001b[0m 0.9965  \u001b[0m | \u001b[0m 448.6   \u001b[0m | \u001b[0m 1.886   \u001b[0m |\n",
      "| \u001b[0m 79      \u001b[0m | \u001b[0m 0.4101  \u001b[0m | \u001b[0m 0.8676  \u001b[0m | \u001b[0m 427.4   \u001b[0m | \u001b[0m 33.7    \u001b[0m |\n"
     ]
    },
    {
     "name": "stdout",
     "output_type": "stream",
     "text": [
      "| \u001b[0m 80      \u001b[0m | \u001b[0m 0.1462  \u001b[0m | \u001b[0m 0.3147  \u001b[0m | \u001b[0m 28.69   \u001b[0m | \u001b[0m 230.7   \u001b[0m |\n",
      "| \u001b[0m 81      \u001b[0m | \u001b[0m 0.2954  \u001b[0m | \u001b[0m 0.3521  \u001b[0m | \u001b[0m 2.193e+0\u001b[0m | \u001b[0m 101.5   \u001b[0m |\n",
      "| \u001b[0m 82      \u001b[0m | \u001b[0m 0.2492  \u001b[0m | \u001b[0m 0.2847  \u001b[0m | \u001b[0m 1.119e+0\u001b[0m | \u001b[0m 144.1   \u001b[0m |\n",
      "| \u001b[0m 83      \u001b[0m | \u001b[0m 0.2512  \u001b[0m | \u001b[0m 0.2411  \u001b[0m | \u001b[0m 2.881e+0\u001b[0m | \u001b[0m 142.2   \u001b[0m |\n",
      "| \u001b[0m 84      \u001b[0m | \u001b[0m 0.6183  \u001b[0m | \u001b[0m 0.1145  \u001b[0m | \u001b[0m 1.155e+0\u001b[0m | \u001b[0m 6.951   \u001b[0m |\n",
      "| \u001b[0m 85      \u001b[0m | \u001b[0m 0.2322  \u001b[0m | \u001b[0m 0.158   \u001b[0m | \u001b[0m 287.7   \u001b[0m | \u001b[0m 158.6   \u001b[0m |\n",
      "| \u001b[0m 86      \u001b[0m | \u001b[0m 0.5912  \u001b[0m | \u001b[0m 0.2413  \u001b[0m | \u001b[0m 1.442e+0\u001b[0m | \u001b[0m 7.73    \u001b[0m |\n",
      "| \u001b[0m 87      \u001b[0m | \u001b[0m 0.3127  \u001b[0m | \u001b[0m 0.5894  \u001b[0m | \u001b[0m 1.402e+0\u001b[0m | \u001b[0m 75.32   \u001b[0m |\n",
      "| \u001b[0m 88      \u001b[0m | \u001b[0m 0.3989  \u001b[0m | \u001b[0m 0.3595  \u001b[0m | \u001b[0m 1.478e+0\u001b[0m | \u001b[0m 40.91   \u001b[0m |\n",
      "| \u001b[0m 89      \u001b[0m | \u001b[0m 0.3079  \u001b[0m | \u001b[0m 0.5274  \u001b[0m | \u001b[0m 1.206e+0\u001b[0m | \u001b[0m 83.35   \u001b[0m |\n",
      "| \u001b[0m 90      \u001b[0m | \u001b[0m 0.3007  \u001b[0m | \u001b[0m 0.1009  \u001b[0m | \u001b[0m 4.371e+0\u001b[0m | \u001b[0m 96.13   \u001b[0m |\n",
      "| \u001b[0m 91      \u001b[0m | \u001b[0m 0.2582  \u001b[0m | \u001b[0m 0.2355  \u001b[0m | \u001b[0m 2.729e+0\u001b[0m | \u001b[0m 132.2   \u001b[0m |\n",
      "| \u001b[0m 92      \u001b[0m | \u001b[0m 0.5061  \u001b[0m | \u001b[0m 0.7467  \u001b[0m | \u001b[0m 2.192e+0\u001b[0m | \u001b[0m 13.15   \u001b[0m |\n",
      "| \u001b[0m 93      \u001b[0m | \u001b[0m 0.1902  \u001b[0m | \u001b[0m 0.6992  \u001b[0m | \u001b[0m 4.287e+0\u001b[0m | \u001b[0m 195.4   \u001b[0m |\n",
      "| \u001b[0m 94      \u001b[0m | \u001b[0m 0.6183  \u001b[0m | \u001b[0m 0.008076\u001b[0m | \u001b[0m 1.742e+0\u001b[0m | \u001b[0m 6.299   \u001b[0m |\n",
      "| \u001b[0m 95      \u001b[0m | \u001b[0m 0.8859  \u001b[0m | \u001b[0m 0.1017  \u001b[0m | \u001b[0m 2.941e+0\u001b[0m | \u001b[0m 1.123   \u001b[0m |\n",
      "| \u001b[0m 96      \u001b[0m | \u001b[0m 0.6845  \u001b[0m | \u001b[0m 0.5895  \u001b[0m | \u001b[0m 1.385e+0\u001b[0m | \u001b[0m 4.527   \u001b[0m |\n",
      "| \u001b[0m 97      \u001b[0m | \u001b[0m 0.5912  \u001b[0m | \u001b[0m 0.6841  \u001b[0m | \u001b[0m 3.721e+0\u001b[0m | \u001b[0m 7.579   \u001b[0m |\n",
      "| \u001b[0m 98      \u001b[0m | \u001b[0m 0.3961  \u001b[0m | \u001b[0m 0.9395  \u001b[0m | \u001b[0m 3.123e+0\u001b[0m | \u001b[0m 42.07   \u001b[0m |\n",
      "| \u001b[0m 99      \u001b[0m | \u001b[0m 0.4509  \u001b[0m | \u001b[0m 0.8737  \u001b[0m | \u001b[0m 4.653e+0\u001b[0m | \u001b[0m 21.18   \u001b[0m |\n",
      "| \u001b[0m 100     \u001b[0m | \u001b[0m 0.3714  \u001b[0m | \u001b[0m 0.6238  \u001b[0m | \u001b[0m 2.941e+0\u001b[0m | \u001b[0m 49.67   \u001b[0m |\n",
      "| \u001b[0m 101     \u001b[0m | \u001b[0m 0.5137  \u001b[0m | \u001b[0m 0.6989  \u001b[0m | \u001b[0m 2.017e+0\u001b[0m | \u001b[0m 12.65   \u001b[0m |\n",
      "| \u001b[0m 102     \u001b[0m | \u001b[0m 0.4306  \u001b[0m | \u001b[0m 0.6767  \u001b[0m | \u001b[0m 2.889e+0\u001b[0m | \u001b[0m 25.2    \u001b[0m |\n",
      "| \u001b[0m 103     \u001b[0m | \u001b[0m 0.4037  \u001b[0m | \u001b[0m 0.7683  \u001b[0m | \u001b[0m 2.995e+0\u001b[0m | \u001b[0m 37.97   \u001b[0m |\n",
      "| \u001b[0m 104     \u001b[0m | \u001b[0m 0.4509  \u001b[0m | \u001b[0m 0.2394  \u001b[0m | \u001b[0m 1.709e+0\u001b[0m | \u001b[0m 21.34   \u001b[0m |\n",
      "| \u001b[0m 105     \u001b[0m | \u001b[0m 0.3138  \u001b[0m | \u001b[0m 0.554   \u001b[0m | \u001b[0m 1.655e+0\u001b[0m | \u001b[0m 70.54   \u001b[0m |\n",
      "=============================================================\n"
     ]
    }
   ],
   "source": [
    "from xgboost import XGBRFRegressor as xg\n",
    "from bayes_opt import BayesianOptimization as bo\n",
    "\n",
    "def xgb(max_depth, gamma, min_child_weight):\n",
    "    sample_model = xg(max_depth = int(max_depth),\n",
    "                      gamma = gamma,\n",
    "                      min_child_weight = min_child_weight)\n",
    "    sample_model.fit(train_x, train_y)\n",
    "    \n",
    "    return sample_model.score(train_x, train_y)\n",
    "\n",
    "\n",
    "\n",
    "epsilon = 0.1 ** 10\n",
    "float_range = (epsilon, 1 - epsilon)\n",
    "int_range = (1, 20000)\n",
    "\n",
    "pbounds = {'max_depth': int_range,\n",
    "           'gamma': float_range,\n",
    "           'min_child_weight': int_range\n",
    "          }\n",
    "\n",
    "optimizer = bo(f=xgb, pbounds=pbounds)\n",
    "optimizer.maximize(n_iter=100)"
   ]
  },
  {
   "cell_type": "code",
   "execution_count": 10,
   "metadata": {
    "colab": {
     "base_uri": "https://localhost:8080/"
    },
    "id": "mSS_Imr_tiB8",
    "outputId": "449655f7-f04a-4286-a9e6-e6bf9d134373"
   },
   "outputs": [
    {
     "data": {
      "text/plain": [
       "XGBRFRegressor(base_score=0.5, booster='gbtree', callbacks=None,\n",
       "               colsample_bylevel=1, colsample_bytree=1,\n",
       "               early_stopping_rounds=None, enable_categorical=False,\n",
       "               eval_metric=None, gamma=0.8183, gpu_id=-1,\n",
       "               grow_policy='depthwise', importance_type=None,\n",
       "               interaction_constraints='', max_bin=256, max_cat_to_onehot=4,\n",
       "               max_delta_step=0, max_depth=20, max_leaves=0,\n",
       "               min_child_weight=1.7, missing=nan, monotone_constraints='()',\n",
       "               n_estimators=100, n_jobs=0, num_parallel_tree=100,\n",
       "               objective='reg:squarederror', predictor='auto', random_state=0,\n",
       "               reg_alpha=0, sampling_method='uniform', scale_pos_weight=1, ...)"
      ]
     },
     "execution_count": 10,
     "metadata": {},
     "output_type": "execute_result"
    }
   ],
   "source": [
    "from xgboost import XGBRFRegressor as xg\n",
    "\n",
    "model=xg(gamma=0.8183,  max_depth=20, min_child_weight=1.7)\n",
    "model.fit(train_x,train_y)"
   ]
  },
  {
   "cell_type": "code",
   "execution_count": 11,
   "metadata": {
    "id": "IPCxBt-Wtpzw"
   },
   "outputs": [],
   "source": [
    "pred = model.predict(test)"
   ]
  },
  {
   "cell_type": "markdown",
   "metadata": {
    "id": "wUS7MUcctquK"
   },
   "source": [
    "# 제출"
   ]
  },
  {
   "cell_type": "code",
   "execution_count": 12,
   "metadata": {
    "colab": {
     "base_uri": "https://localhost:8080/",
     "height": 424
    },
    "id": "YRoaRvpotuVy",
    "outputId": "606b8195-9e8a-43ee-be81-2e6446b237fb"
   },
   "outputs": [
    {
     "data": {
      "text/html": [
       "<div>\n",
       "<style scoped>\n",
       "    .dataframe tbody tr th:only-of-type {\n",
       "        vertical-align: middle;\n",
       "    }\n",
       "\n",
       "    .dataframe tbody tr th {\n",
       "        vertical-align: top;\n",
       "    }\n",
       "\n",
       "    .dataframe thead th {\n",
       "        text-align: right;\n",
       "    }\n",
       "</style>\n",
       "<table border=\"1\" class=\"dataframe\">\n",
       "  <thead>\n",
       "    <tr style=\"text-align: right;\">\n",
       "      <th></th>\n",
       "      <th>title</th>\n",
       "      <th>box_off_num</th>\n",
       "    </tr>\n",
       "  </thead>\n",
       "  <tbody>\n",
       "    <tr>\n",
       "      <th>0</th>\n",
       "      <td>용서는 없다</td>\n",
       "      <td>2.093115e+06</td>\n",
       "    </tr>\n",
       "    <tr>\n",
       "      <th>1</th>\n",
       "      <td>아빠가 여자를 좋아해</td>\n",
       "      <td>1.300433e+06</td>\n",
       "    </tr>\n",
       "    <tr>\n",
       "      <th>2</th>\n",
       "      <td>하모니</td>\n",
       "      <td>1.144886e+06</td>\n",
       "    </tr>\n",
       "    <tr>\n",
       "      <th>3</th>\n",
       "      <td>의형제</td>\n",
       "      <td>1.967740e+06</td>\n",
       "    </tr>\n",
       "    <tr>\n",
       "      <th>4</th>\n",
       "      <td>평행 이론</td>\n",
       "      <td>1.057309e+06</td>\n",
       "    </tr>\n",
       "    <tr>\n",
       "      <th>...</th>\n",
       "      <td>...</td>\n",
       "      <td>...</td>\n",
       "    </tr>\n",
       "    <tr>\n",
       "      <th>238</th>\n",
       "      <td>해에게서 소년에게</td>\n",
       "      <td>2.512371e+04</td>\n",
       "    </tr>\n",
       "    <tr>\n",
       "      <th>239</th>\n",
       "      <td>울보 권투부</td>\n",
       "      <td>5.556886e+03</td>\n",
       "    </tr>\n",
       "    <tr>\n",
       "      <th>240</th>\n",
       "      <td>어떤살인</td>\n",
       "      <td>2.737843e+05</td>\n",
       "    </tr>\n",
       "    <tr>\n",
       "      <th>241</th>\n",
       "      <td>말하지 못한 비밀</td>\n",
       "      <td>9.288580e+03</td>\n",
       "    </tr>\n",
       "    <tr>\n",
       "      <th>242</th>\n",
       "      <td>조선안방 스캔들-칠거지악 2</td>\n",
       "      <td>4.108516e+02</td>\n",
       "    </tr>\n",
       "  </tbody>\n",
       "</table>\n",
       "<p>243 rows × 2 columns</p>\n",
       "</div>"
      ],
      "text/plain": [
       "               title   box_off_num\n",
       "0             용서는 없다  2.093115e+06\n",
       "1        아빠가 여자를 좋아해  1.300433e+06\n",
       "2                하모니  1.144886e+06\n",
       "3                의형제  1.967740e+06\n",
       "4              평행 이론  1.057309e+06\n",
       "..               ...           ...\n",
       "238        해에게서 소년에게  2.512371e+04\n",
       "239           울보 권투부  5.556886e+03\n",
       "240             어떤살인  2.737843e+05\n",
       "241        말하지 못한 비밀  9.288580e+03\n",
       "242  조선안방 스캔들-칠거지악 2  4.108516e+02\n",
       "\n",
       "[243 rows x 2 columns]"
      ]
     },
     "execution_count": 12,
     "metadata": {},
     "output_type": "execute_result"
    }
   ],
   "source": [
    "submission = pd.read_csv('submission.csv')\n",
    "submission"
   ]
  },
  {
   "cell_type": "code",
   "execution_count": 13,
   "metadata": {
    "id": "ai1KVPRZtw1c"
   },
   "outputs": [],
   "source": [
    "submission['box_off_num'] = pred"
   ]
  },
  {
   "cell_type": "code",
   "execution_count": 14,
   "metadata": {
    "colab": {
     "base_uri": "https://localhost:8080/",
     "height": 424
    },
    "id": "paR-Racntxv1",
    "outputId": "1d179e3e-11a3-4573-d9bd-c0e748375774"
   },
   "outputs": [
    {
     "data": {
      "text/html": [
       "<div>\n",
       "<style scoped>\n",
       "    .dataframe tbody tr th:only-of-type {\n",
       "        vertical-align: middle;\n",
       "    }\n",
       "\n",
       "    .dataframe tbody tr th {\n",
       "        vertical-align: top;\n",
       "    }\n",
       "\n",
       "    .dataframe thead th {\n",
       "        text-align: right;\n",
       "    }\n",
       "</style>\n",
       "<table border=\"1\" class=\"dataframe\">\n",
       "  <thead>\n",
       "    <tr style=\"text-align: right;\">\n",
       "      <th></th>\n",
       "      <th>title</th>\n",
       "      <th>box_off_num</th>\n",
       "    </tr>\n",
       "  </thead>\n",
       "  <tbody>\n",
       "    <tr>\n",
       "      <th>0</th>\n",
       "      <td>용서는 없다</td>\n",
       "      <td>2.093115e+06</td>\n",
       "    </tr>\n",
       "    <tr>\n",
       "      <th>1</th>\n",
       "      <td>아빠가 여자를 좋아해</td>\n",
       "      <td>1.300433e+06</td>\n",
       "    </tr>\n",
       "    <tr>\n",
       "      <th>2</th>\n",
       "      <td>하모니</td>\n",
       "      <td>1.144886e+06</td>\n",
       "    </tr>\n",
       "    <tr>\n",
       "      <th>3</th>\n",
       "      <td>의형제</td>\n",
       "      <td>1.967740e+06</td>\n",
       "    </tr>\n",
       "    <tr>\n",
       "      <th>4</th>\n",
       "      <td>평행 이론</td>\n",
       "      <td>1.057309e+06</td>\n",
       "    </tr>\n",
       "    <tr>\n",
       "      <th>...</th>\n",
       "      <td>...</td>\n",
       "      <td>...</td>\n",
       "    </tr>\n",
       "    <tr>\n",
       "      <th>238</th>\n",
       "      <td>해에게서 소년에게</td>\n",
       "      <td>2.512371e+04</td>\n",
       "    </tr>\n",
       "    <tr>\n",
       "      <th>239</th>\n",
       "      <td>울보 권투부</td>\n",
       "      <td>5.556886e+03</td>\n",
       "    </tr>\n",
       "    <tr>\n",
       "      <th>240</th>\n",
       "      <td>어떤살인</td>\n",
       "      <td>2.737843e+05</td>\n",
       "    </tr>\n",
       "    <tr>\n",
       "      <th>241</th>\n",
       "      <td>말하지 못한 비밀</td>\n",
       "      <td>9.288580e+03</td>\n",
       "    </tr>\n",
       "    <tr>\n",
       "      <th>242</th>\n",
       "      <td>조선안방 스캔들-칠거지악 2</td>\n",
       "      <td>4.108516e+02</td>\n",
       "    </tr>\n",
       "  </tbody>\n",
       "</table>\n",
       "<p>243 rows × 2 columns</p>\n",
       "</div>"
      ],
      "text/plain": [
       "               title   box_off_num\n",
       "0             용서는 없다  2.093115e+06\n",
       "1        아빠가 여자를 좋아해  1.300433e+06\n",
       "2                하모니  1.144886e+06\n",
       "3                의형제  1.967740e+06\n",
       "4              평행 이론  1.057309e+06\n",
       "..               ...           ...\n",
       "238        해에게서 소년에게  2.512371e+04\n",
       "239           울보 권투부  5.556886e+03\n",
       "240             어떤살인  2.737843e+05\n",
       "241        말하지 못한 비밀  9.288580e+03\n",
       "242  조선안방 스캔들-칠거지악 2  4.108516e+02\n",
       "\n",
       "[243 rows x 2 columns]"
      ]
     },
     "execution_count": 14,
     "metadata": {},
     "output_type": "execute_result"
    }
   ],
   "source": [
    "submission"
   ]
  },
  {
   "cell_type": "code",
   "execution_count": 15,
   "metadata": {
    "id": "weUAnuy9tyXE"
   },
   "outputs": [],
   "source": [
    "submission.to_csv('submission.csv',index = False)"
   ]
  },
  {
   "cell_type": "markdown",
   "metadata": {
    "id": "qUSYjotTt-In"
   },
   "source": [
    "# 제출 점수(과제부분)"
   ]
  },
  {
   "cell_type": "markdown",
   "metadata": {},
   "source": [
    "https://dacon.io/competitions/open/235536/overview/description"
   ]
  },
  {
   "attachments": {
    "image.png": {
     "image/png": "[encoded data removed]"
    }
   },
   "cell_type": "markdown",
   "metadata": {
    "id": "R2H4oDfLuBLg"
   },
   "source": [
    "![image.png](attachment:image.png)"
   ]
  }
 ],
 "metadata": {
  "colab": {
   "name": "ML_과제.ipynb",
   "provenance": []
  },
  "kernelspec": {
   "display_name": "Python 3 (ipykernel)",
   "language": "python",
   "name": "python3"
  },
  "language_info": {
   "codemirror_mode": {
    "name": "ipython",
    "version": 3
   },
   "file_extension": ".py",
   "mimetype": "text/x-python",
   "name": "python",
   "nbconvert_exporter": "python",
   "pygments_lexer": "ipython3",
   "version": "3.9.7"
  }
 },
 "nbformat": 4,
 "nbformat_minor": 1
}
